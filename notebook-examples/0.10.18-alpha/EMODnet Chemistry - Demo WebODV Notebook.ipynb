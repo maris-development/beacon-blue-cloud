{
 "cells": [
  {
   "cell_type": "markdown",
   "id": "4802ce85",
   "metadata": {},
   "source": [
    "# This is a notebook for querying the EMODnet Chemistry instance.\n",
    "### Be Aware, you currently must build the json query manually and the drop down selectors will not work correctly yet.\n",
    "- You can run each cell individually by pressing \"shift + enter\".\n",
    "- Please run the first few cells in order for the input widgets to appear.\n",
    "- For more information, questions, bugs, please contact us on Slack:\n",
    "  - https://join.slack.com/t/beacontechnic-wwa5548/shared_invite/zt-2n95bd4rk-XMtZ9AVhVapwrFna1J5qmA.\n"
   ]
  },
  {
   "cell_type": "markdown",
   "id": "15c67419",
   "metadata": {},
   "source": [
    "#### In order to get access to the Beacon endpoint, you need to fill in your unique personal token that you should receive via Blue-Cloud between the '' \" in the cell below.\n"
   ]
  },
  {
   "cell_type": "code",
   "execution_count": 15,
   "id": "3e46a5d0",
   "metadata": {},
   "outputs": [],
   "source": [
    "Token = ''"
   ]
  },
  {
   "cell_type": "markdown",
   "id": "d14271b3",
   "metadata": {},
   "source": [
    "#### Importing the required packages.\n"
   ]
  },
  {
   "cell_type": "code",
   "execution_count": 16,
   "id": "72bf04d1",
   "metadata": {},
   "outputs": [],
   "source": [
    "import requests\n",
    "import json\n",
    "import xarray as xr\n",
    "import datetime\n",
    "from ipywidgets import interact, widgets, interactive\n",
    "from IPython.display import Javascript, display\n",
    "import pandas as pd"
   ]
  },
  {
   "cell_type": "markdown",
   "id": "544c0795",
   "metadata": {},
   "source": [
    "#### This retrieves the available parameters from the footprint.\n"
   ]
  },
  {
   "cell_type": "code",
   "execution_count": 17,
   "id": "06f65ec2",
   "metadata": {},
   "outputs": [],
   "source": [
    "responseinfo = requests.get(\"https://beacon-emod-chem.maris.nl/api/datasets/footprint\",\n",
    "                            headers={'Authorization': f'Bearer {Token}'})\n",
    "\n",
    "\n",
    "open('Footprint_emod_chem.json', 'wb').write(responseinfo.content)\n",
    "\n",
    "with open('Footprint_emod_chem.json', 'r') as f:\n",
    "\n",
    "    data = json.load(f)\n",
    "\n",
    "\n",
    "pd.set_option('display.max_rows', 500)\n",
    "\n",
    "\n",
    "attributes = pd.DataFrame.from_dict(\n",
    "    data['unique_column_attributes'], orient='index')\n",
    "\n",
    "\n",
    "attributes.reset_index(level=0, inplace=True)\n",
    "\n",
    "\n",
    "attributes = attributes.sort_values(\n",
    "    'index', ascending=True, key=lambda col: col.str.lower())\n",
    "\n",
    "\n",
    "params = attributes['index'].to_numpy()"
   ]
  },
  {
   "cell_type": "markdown",
   "id": "08cf8c12",
   "metadata": {},
   "source": [
    "#### In the widgets below, you should select your preferred filters and press \"Execute all cells\" to run the whole notebook.\n"
   ]
  },
  {
   "cell_type": "code",
   "execution_count": 18,
   "id": "7b3899e2",
   "metadata": {},
   "outputs": [
    {
     "data": {
      "application/vnd.jupyter.widget-view+json": {
       "model_id": "34e9915bec54463986091270ce056be3",
       "version_major": 2,
       "version_minor": 0
      },
      "text/plain": [
       "interactive(children=(Dropdown(description='parameter', options=('Access_ordering_of_data', 'Access_restrictio…"
      ]
     },
     "metadata": {},
     "output_type": "display_data"
    },
    {
     "data": {
      "application/vnd.jupyter.widget-view+json": {
       "model_id": "7a341fdb7e5f47479f90e647839c6828",
       "version_major": 2,
       "version_minor": 0
      },
      "text/plain": [
       "Button(description='Execute all cells', style=ButtonStyle())"
      ]
     },
     "metadata": {},
     "output_type": "display_data"
    },
    {
     "data": {
      "application/javascript": "IPython.notebook.execute_cell_range(IPython.notebook.get_selected_index()+1, IPython.notebook.ncells())",
      "text/plain": [
       "<IPython.core.display.Javascript object>"
      ]
     },
     "metadata": {},
     "output_type": "display_data"
    }
   ],
   "source": [
    "def f(parameter, minlon, maxlon, minlat, maxlat, mindepth, maxdepth, mintemp, maxtemp):\n",
    "    return parameter, minlon, maxlon, minlat, maxlat, mindepth, maxdepth, mintemp, maxtemp\n",
    "\n",
    "\n",
    "w = interactive(f, parameter=params, minlon=(-180, 180, 1), maxlon=(-180, 180, 1), minlat=(-90, 90, 1), maxlat=(-90, 90, 1), mindepth=widgets.IntSlider(min=0, max=5000, value=0), maxdepth=widgets.IntSlider(\n",
    "    min=0, max=5000, value=10), mintemp=widgets.DatePicker(description='Start date:', value=datetime.date(2000, 1, 1)), maxtemp=widgets.DatePicker(description='End date:', value=datetime.date(2024, 1, 1)))\n",
    "\n",
    "display(w)\n",
    "\n",
    "\n",
    "def run_all(ev):\n",
    "    display(Javascript(\n",
    "        'IPython.notebook.execute_cell_range(IPython.notebook.get_selected_index()+1, IPython.notebook.ncells())'))\n",
    "\n",
    "\n",
    "button = widgets.Button(description=\"Execute all cells\")\n",
    "button.on_click(run_all)\n",
    "display(button)"
   ]
  },
  {
   "cell_type": "markdown",
   "id": "72f6b75b",
   "metadata": {},
   "source": [
    "#### Storing the chosen filters.\n"
   ]
  },
  {
   "cell_type": "code",
   "execution_count": 24,
   "id": "c3765293",
   "metadata": {},
   "outputs": [],
   "source": [
    "parameter = w.kwargs['parameter']\n",
    "mintemp = w.kwargs['mintemp']\n",
    "maxtemp = w.kwargs['maxtemp']\n",
    "minlon = w.kwargs['minlon']\n",
    "maxlon = w.kwargs['maxlon']\n",
    "minlat = w.kwargs['minlat']\n",
    "maxlat = w.kwargs['maxlat']\n",
    "mindepth = w.kwargs['mindepth']\n",
    "maxdepth = w.kwargs['maxdepth']"
   ]
  },
  {
   "cell_type": "markdown",
   "id": "5230253c",
   "metadata": {},
   "source": [
    "#### The fields below are fixed for the EMODnet Chemistry instance.\n"
   ]
  },
  {
   "cell_type": "code",
   "execution_count": 25,
   "id": "73064a22",
   "metadata": {},
   "outputs": [],
   "source": [
    "unit = attributes.loc[attributes['index'] == parameter]['units'].iloc[0]\n",
    "dateref = datetime.date(1921, 1, 1)  # Days since 1921\n",
    "mintemporal = (mintemp - dateref).days  # Days since 1921\n",
    "maxtemporal = (maxtemp - dateref).days  # Days since 1921\n",
    "regionname = f'[{minlat},{minlon}],[{maxlat},{maxlon}]'"
   ]
  },
  {
   "cell_type": "markdown",
   "id": "4a3e0971",
   "metadata": {},
   "source": [
    "#### Query body based on your input fields, you can add other \"query_parameters\" and \"filters\" to suit your needs.\n",
    "\n",
    "- For more query examples, you can take a look at https://maris-development.github.io/beacon/available-nodes/blue-cloud-2026/emodnet-chemistry.html.\n",
    "- In this example, you can see that I added a filter for the parameter, i.e. Temperature measurements should be between -2 and 40 degrees Celsius. Of course, you can change the values based on your parameter, or remove it entirely.\n"
   ]
  },
  {
   "cell_type": "code",
   "execution_count": 26,
   "id": "dfb995c5",
   "metadata": {},
   "outputs": [
    {
     "name": "stdout",
     "output_type": "stream",
     "text": [
      "{'query_parameters': [{'column_name': 'ITS_90_water_temperature', 'alias': 'Temperature [celsius]'}, {'column_name': 'ITS_90_water_temperature_qc', 'alias': 'Temperature_qc'}, {'column_name': 'date_time', 'alias': 'TIME'}, {'function': 'time::const_convert_datetime_to_iso', 'epoch': '1921-01-01T00:00:00Z', 'unit': 'days', 'input': {'column_name': 'date_time'}, 'alias': 'IsoTime'}, {'column_name': 'Depth', 'alias': 'Depth [meter]'}, {'column_name': 'Depth_qc', 'alias': 'Depth_qc'}, {'column_name': 'longitude', 'alias': 'LONGITUDE'}, {'column_name': 'latitude', 'alias': 'LATITUDE'}, {'column_name': 'EDMO_code', 'alias': 'EDMO_code'}], 'filters': [{'for_query_parameter': 'TIME', 'min': 32507, 'max': 34333}, {'for_query_parameter': 'LONGITUDE', 'min': -180, 'max': 180}, {'for_query_parameter': 'LATITUDE', 'min': -90, 'max': 90}], 'output': {'format': {'odv': {'longitude_column': 'LONGITUDE', 'latitude_column': 'LATITUDE', 'timestamp_column': {'data_column_name': 'IsoTime', 'comment': ''}, 'depth_column': {'data_column_name': 'Depth [meter]', 'comment': '', 'qf_column': 'Depth_qc'}, 'data_columns': [{'data_column_name': 'Temperature [celsius]', 'comment': '', 'qf_column': 'Temperature_qc'}], 'metadata_columns': ['EDMO_code'], 'skip_odv_script': False, 'qf_schema': 'SEADATANET'}}}}\n"
     ]
    }
   ],
   "source": [
    "def query(parameter, mintemporal, maxtemporal, mindepth, maxdepth, minlon, maxlon, minlat, maxlat):\n",
    "    body = {\n",
    "        \"query_parameters\": [\n",
    "            {\n",
    "                \"column_name\": \"ITS_90_water_temperature\",\n",
    "                \"alias\": \"Temperature [celsius]\"\n",
    "            },\n",
    "            {\n",
    "                \"column_name\": \"ITS_90_water_temperature_qc\",\n",
    "                \"alias\": \"Temperature_qc\"\n",
    "            },\n",
    "            {\n",
    "                \"column_name\": \"date_time\",\n",
    "                \"alias\": \"TIME\"\n",
    "            },\n",
    "            {\n",
    "                \"function\": \"time::const_convert_datetime_to_iso\",\n",
    "                \"epoch\": \"1921-01-01T00:00:00Z\",\n",
    "                \"unit\": \"days\",\n",
    "                \"input\": {\n",
    "                    \"column_name\": \"date_time\"\n",
    "                },\n",
    "                \"alias\": \"IsoTime\"\n",
    "            },\n",
    "            {\n",
    "                \"column_name\": \"Depth\",\n",
    "                \"alias\": \"Depth [meter]\"\n",
    "            },\n",
    "            {\n",
    "                \"column_name\": \"Depth_qc\",\n",
    "                \"alias\": \"Depth_qc\"\n",
    "            },\n",
    "            {\n",
    "                \"column_name\": \"longitude\",\n",
    "                \"alias\": \"LONGITUDE\"\n",
    "            },\n",
    "            {\n",
    "                \"column_name\": \"latitude\",\n",
    "                \"alias\": \"LATITUDE\"\n",
    "            },\n",
    "            {\n",
    "                \"column_name\": \"EDMO_code\",\n",
    "                \"alias\": \"EDMO_code\"\n",
    "            },\n",
    "        ],\n",
    "        \"filters\": [\n",
    "            {\n",
    "                \"for_query_parameter\": \"TIME\",\n",
    "                \"min\": mintemporal,\n",
    "                \"max\": maxtemporal\n",
    "            },\n",
    "            {\n",
    "                \"for_query_parameter\": \"LONGITUDE\",\n",
    "                \"min\": minlon,\n",
    "                \"max\": maxlon\n",
    "            },\n",
    "            {\n",
    "                \"for_query_parameter\": \"LATITUDE\",\n",
    "                \"min\": minlat,\n",
    "                \"max\": maxlat\n",
    "            }\n",
    "        ],\n",
    "        \"output\": {\n",
    "            \"format\": {\n",
    "                \"odv\": {\n",
    "                    \"longitude_column\": \"LONGITUDE\",\n",
    "                    \"latitude_column\": \"LATITUDE\",\n",
    "                    \"timestamp_column\": {\n",
    "                        \"data_column_name\": \"IsoTime\",\n",
    "                        \"comment\": \"\"\n",
    "                    },\n",
    "                    \"depth_column\": {\n",
    "                        \"data_column_name\": \"Depth [meter]\",\n",
    "                        \"comment\": \"\",\n",
    "                        \"qf_column\": \"Depth_qc\"\n",
    "                    },\n",
    "                    \"data_columns\": [\n",
    "                        {\n",
    "                            \"data_column_name\": \"Temperature [celsius]\",\n",
    "                            \"comment\": \"\",\n",
    "                            \"qf_column\": \"Temperature_qc\"\n",
    "                        }\n",
    "                    ],\n",
    "                    \"metadata_columns\": [\n",
    "                        \"EDMO_code\"\n",
    "                    ],\n",
    "                    \"skip_odv_script\": False,\n",
    "                    \"qf_schema\": \"SEADATANET\"\n",
    "                }\n",
    "            }\n",
    "        }}\n",
    "    return body\n",
    "\n",
    "\n",
    "query = query(parameter, mintemporal, maxtemporal, mindepth,\n",
    "              maxdepth, minlon, maxlon, minlat, maxlat)\n",
    "\n",
    "print(query)"
   ]
  },
  {
   "cell_type": "markdown",
   "id": "1cd55b18",
   "metadata": {},
   "source": [
    "#### This is the post request that is sent to Beacon with the above specified body.\n"
   ]
  },
  {
   "cell_type": "code",
   "execution_count": 27,
   "id": "349549b4",
   "metadata": {},
   "outputs": [],
   "source": [
    "response = requests.post(\"https://beacon-emod-chem.maris.nl/api/query\", json.dumps(query), headers={\n",
    "    'Authorization': f'Bearer {Token}',\n",
    "    'Content-type': 'application/json'\n",
    "})\n",
    "\n",
    "if response.status_code == 204:\n",
    "    print('No data has been found for your query, please update your input fields above and run the notebook again.')\n",
    "elif response.status_code != 200:\n",
    "    print(response.text)"
   ]
  },
  {
   "cell_type": "markdown",
   "id": "4563343d",
   "metadata": {},
   "source": [
    "#### This will create a Netcdf file in your directory with the name based on your filters, the output is shown here in a dataframe.\n"
   ]
  },
  {
   "cell_type": "code",
   "execution_count": 28,
   "id": "3f2b39d1",
   "metadata": {},
   "outputs": [
    {
     "data": {
      "text/plain": [
       "13812091"
      ]
     },
     "execution_count": 28,
     "metadata": {},
     "output_type": "execute_result"
    }
   ],
   "source": [
    "open(\n",
    "    f'EMODNET_CHEM_{parameter}_{regionname}_{mintemp.strftime(\"%Y-%m-%d\")}-{maxtemp.strftime(\"%Y-%m-%d\")}_[{mindepth}-{maxdepth}m].zip', 'wb').write(response.content)"
   ]
  }
 ],
 "metadata": {
  "kernelspec": {
   "display_name": "Python 3",
   "language": "python",
   "name": "python3"
  },
  "language_info": {
   "codemirror_mode": {
    "name": "ipython",
    "version": 3
   },
   "file_extension": ".py",
   "mimetype": "text/x-python",
   "name": "python",
   "nbconvert_exporter": "python",
   "pygments_lexer": "ipython3",
   "version": "3.10.2"
  }
 },
 "nbformat": 4,
 "nbformat_minor": 5
}
