{
 "cells": [
  {
   "cell_type": "markdown",
   "id": "79a1fbca",
   "metadata": {},
   "source": [
    "# This is a notebook for querying the merged TS instance for the 1.0.0 Beacon release.\n",
    "\n",
    "-   You can run each cell individually by pressing \"shift + enter\".\n",
    "-   For more information, questions, bugs, please contact us on Slack:\n",
    "    -   https://join.slack.com/t/beacontechnic-wwa5548/shared_invite/zt-2dp1vv56r-tj_KFac0sAKNuAgUKPPDRg.\n"
   ]
  },
  {
   "cell_type": "markdown",
   "id": "6174492b",
   "metadata": {},
   "source": [
    "#### In order to get access to the Beacon endpoint, you need to fill in your unique personal token between the \" \" in the cell below.\n"
   ]
  },
  {
   "cell_type": "code",
   "execution_count": null,
   "id": "1b546f1b",
   "metadata": {},
   "outputs": [],
   "source": [
    "Token = \"\""
   ]
  },
  {
   "cell_type": "markdown",
   "id": "f1442c72",
   "metadata": {},
   "source": [
    "#### Install the following packages, if you have not already installed them in your environment:\n",
    "\n",
    "-   pip install requests\n",
    "-   pip install xarray\n",
    "-   pip install ipywidgets\n",
    "-   pip install cartopy\n",
    "-   pip install h5netcdf\n",
    "-   pip install netcdf4\n",
    "-   pip install scipy\n",
    "-   pip install packaging\n"
   ]
  },
  {
   "cell_type": "markdown",
   "id": "cc5d67f1",
   "metadata": {},
   "source": [
    "#### Import the required packages\n"
   ]
  },
  {
   "cell_type": "code",
   "execution_count": 39,
   "id": "72bf04d1",
   "metadata": {},
   "outputs": [],
   "source": [
    "import requests\n",
    "import json\n",
    "import xarray as xr\n",
    "import datetime\n",
    "import pandas as pd\n",
    "import os\n",
    "import cartopy.crs as ccrs\n",
    "import cartopy.feature as cfeature\n",
    "import matplotlib.pyplot as plt"
   ]
  },
  {
   "cell_type": "markdown",
   "id": "b2abf1e6",
   "metadata": {},
   "source": [
    "#### Retrieve the available columns from the Merged TS endpoint\n",
    "\n",
    "Swagger page here: https://beacon-wb1-ts.maris.nl/swagger/\n"
   ]
  },
  {
   "cell_type": "code",
   "execution_count": 40,
   "id": "a007ef37",
   "metadata": {},
   "outputs": [],
   "source": [
    "responseinfo = requests.get(\n",
    "    \"https://beacon-wb1-ts.maris.nl/api/query/available-columns\",\n",
    "    headers={\"Authorization\": f\"Bearer {Token}\"},\n",
    ")\n",
    "\n",
    "\n",
    "params = responseinfo.json()"
   ]
  },
  {
   "cell_type": "markdown",
   "id": "5970f5e2",
   "metadata": {},
   "source": [
    "#### Below you can search through the available columns by entering text between the brackets of search_columns(\" \").\n"
   ]
  },
  {
   "cell_type": "code",
   "execution_count": 41,
   "id": "c0cb8bc2",
   "metadata": {},
   "outputs": [
    {
     "name": "stdout",
     "output_type": "stream",
     "text": [
      "Matching columns:\n",
      "TEMP\n",
      "TEMP_QC\n",
      "TEMP.standard_name\n",
      "TEMP.units\n",
      "COMMON_TEMPERATURE\n",
      "COMMON_TEMPERATURE_QC\n",
      "COMMON_TEMPERATURE_STANDARD_NAME\n",
      "COMMON_TEMPERATURE_UNITS\n",
      "COMMON_TEMPERATURE_P01\n",
      "COMMON_TEMPERATURE_P06\n",
      "COMMON_TEMPERATURE_L05\n",
      "COMMON_TEMPERATURE_L06\n",
      "COMMON_TEMPERATURE_L22\n",
      "COMMON_TEMPERATURE_L35\n",
      "TEMPPR01\n",
      "TEMPPR01_SEADATANET_QC\n",
      "TEMPPR01.units\n",
      "TEMPPR01.long_name\n",
      "TEMPPR01.sdn_parameter_urn\n",
      "TEMPPR01.sdn_uom_urn\n",
      "Temperature\n",
      "Temperature.units\n",
      "Temperature.standard_name\n",
      "Temperature_WODflag\n",
      "TEMP_ADJUSTED\n",
      "TEMP_ADJUSTED_QC\n"
     ]
    }
   ],
   "source": [
    "def search_columns(search_term):\n",
    "    search_term = search_term.lower()\n",
    "    matches = [col for col in params if search_term in col.lower()]\n",
    "\n",
    "    if matches:\n",
    "        print(\"Matching columns:\")\n",
    "        for match in matches:\n",
    "            print(match)\n",
    "    else:\n",
    "        print(\"No matching columns found.\")\n",
    "\n",
    "\n",
    "search_columns(\"temp\")  # Enter your search term here"
   ]
  },
  {
   "cell_type": "markdown",
   "id": "22af0644",
   "metadata": {},
   "source": [
    "#### You can define here your input parameters\n"
   ]
  },
  {
   "cell_type": "code",
   "execution_count": 42,
   "id": "dc012e01",
   "metadata": {},
   "outputs": [],
   "source": [
    "# parameter = \"COMMON_TEMPERATURE\" #column name\n",
    "mindate = \"2003-01-01\"  # yyyy-mm-dd\n",
    "maxdate = \"2005-01-01\"  # yyyy-mm-dd\n",
    "minlon = -8\n",
    "maxlon = 36.5\n",
    "minlat = 30\n",
    "maxlat = 46\n",
    "AOI_POLY = [\n",
    "    [-9.50, 30.00],\n",
    "    [-9.50, 39.00],\n",
    "    [-0.80, 43.20],\n",
    "    [16.00, 46.50],\n",
    "    [36.50, 38.00],\n",
    "    [36.50, 30.00],\n",
    "    [-9.50, 30.00]\n",
    "]"
   ]
  },
  {
   "cell_type": "markdown",
   "id": "7be894b1",
   "metadata": {},
   "source": [
    "#### This will create the query body based on your input parameters, you can add other \"query_parameters\" and \"filters\" to suit your needs.\n",
    "\n",
    "-   For more query examples and explanations, you can take a look at https://github.com/maris-development/beacon-blue-cloud.\n"
   ]
  },
  {
   "cell_type": "code",
   "execution_count": null,
   "id": "a2651c7a",
   "metadata": {},
   "outputs": [],
   "source": [
    "def query(mindate, maxdate, minlon, maxlon, minlat, maxlat):\n",
    "    body = {\n",
    "        \"query_parameters\": [\n",
    "            {\n",
    "                \"column_name\": \"COMMON_TEMPERATURE\",\n",
    "                \"alias\": \"TEMPERATURE\",\n",
    "            },\n",
    "            {\n",
    "                \"column_name\": \"COMMON_TEMPERATURE_QC\",\n",
    "                \"alias\": \"TEMPERATURE_QC\",\n",
    "            },\n",
    "            {\n",
    "                \"column_name\": \"COMMON_TEMPERATURE_P01\",\n",
    "                \"alias\": \"TEMPERATURE_P01\",\n",
    "            },\n",
    "            {\n",
    "                \"column_name\": \"COMMON_TEMPERATURE_P06\",\n",
    "                \"alias\": \"TEMPERATURE_P06\",\n",
    "            },\n",
    "            {\n",
    "                \"column_name\": \"COMMON_SALINITY\",\n",
    "                \"alias\": \"SALINITY\",\n",
    "            },\n",
    "            {\n",
    "                \"column_name\": \"COMMON_SALINITY_QC\",\n",
    "                \"alias\": \"SALINITY_QC\",\n",
    "            },\n",
    "            {\n",
    "                \"column_name\": \"COMMON_SALINITY_P01\",\n",
    "                \"alias\": \"SALINITY_P01\",\n",
    "            },\n",
    "            {\n",
    "                \"column_name\": \"COMMON_SALINITY_P06\",\n",
    "                \"alias\": \"SALINITY_P06\",\n",
    "            },\n",
    "            {\"column_name\": \"COMMON_TIME\", \"alias\": \"time_ISO8601\"},\n",
    "            {\"column_name\": \"COMMON_DEPTH\", \"alias\": \"Depth [m]\"},\n",
    "            {\n",
    "                \"column_name\": \"COMMON_DEPTH_QC\",\n",
    "                \"alias\": \"DEPTH_QC\",\n",
    "            },\n",
    "            {\n",
    "                \"column_name\": \"COMMON_DEPTH_P01\",\n",
    "                \"alias\": \"DEPTH_P01\",\n",
    "            },\n",
    "            {\n",
    "                \"column_name\": \"COMMON_DEPTH_P06\",\n",
    "                \"alias\": \"DEPTH_P06\",\n",
    "            },\n",
    "            {\"column_name\": \"COMMON_LONGITUDE\", \"alias\": \"LONGITUDE\"},\n",
    "            {\"column_name\": \"COMMON_LATITUDE\", \"alias\": \"LATITUDE\"},\n",
    "            {\n",
    "                \"column_name\": \"COMMON_EDMO_CODE\",\n",
    "                \"alias\": \"EDMO_CODE\",\n",
    "            },\n",
    "            {\"column_name\": \"SOURCE_BDI\", \"alias\": \"SOURCE_BDI\"},\n",
    "            {\"column_name\": \"SOURCE_BDI_DATASET_ID\",\n",
    "                \"alias\": \"SOURCE_BDI_DATASET_ID\"},\n",
    "            {\"column_name\": \"COMMON_ODV_TAG\"},\n",
    "            {\"column_name\": \"PLATFORM_NUMBER\"},\n",
    "        ],\n",
    "        \"filters\": [\n",
    "            {\n",
    "                \"for_query_parameter\": \"datetime\",\n",
    "                \"min\": mindate,\n",
    "                \"max\": maxdate,\n",
    "            },\n",
    "            {\n",
    "                \"longitude_column\": \"LONGITUDE\",\n",
    "                \"latitude_column\": \"LATITUDE\",\n",
    "                \"geometry\": {\n",
    "                    \"type\": \"Polygon\",\n",
    "                    \"coordinates\": [AOI_POLY],\n",
    "                }\n",
    "            }\n",
    "        ],\n",
    "        \"output\": {\n",
    "            \"format\": {\n",
    "                \"odv\": {\n",
    "                    \"longitude_column\": {\"column_name\": \"LONGITUDE\"},\n",
    "                    \"latitude_column\": {\"column_name\": \"LATITUDE\"},\n",
    "                    \"time_column\": \"time_ISO8601\",\n",
    "                    \"depth_column\": {\n",
    "                        \"column_name\": \"Depth [m]\",\n",
    "                        \"qf_column\": \"DEPTH_QC\",\n",
    "                    },\n",
    "                    \"data_columns\": [\n",
    "                        {\n",
    "                            \"column_name\": \"TEMPERATURE\",\n",
    "                            \"qf_column\": \"TEMPERATURE_QC\",\n",
    "                        },\n",
    "                        {\n",
    "                            \"column_name\": \"SALINITY\",\n",
    "                            \"qf_column\": \"SALINITY_QC\",\n",
    "                        },\n",
    "                    ],\n",
    "                    \"metadata_columns\": [\n",
    "                        {\n",
    "                            \"column_name\": \"TEMPERATURE_P01\",\n",
    "                        },\n",
    "                        {\n",
    "                            \"column_name\": \"TEMPERATURE_P06\",\n",
    "                        },\n",
    "                        {\n",
    "                            \"column_name\": \"SALINITY_P01\",\n",
    "                        },\n",
    "                        {\n",
    "                            \"column_name\": \"SALINITY_P06\",\n",
    "                        },\n",
    "                        {\n",
    "                            \"column_name\": \"DEPTH_P01\",\n",
    "                        },\n",
    "                        {\n",
    "                            \"column_name\": \"DEPTH_P06\",\n",
    "                        },\n",
    "                        {\n",
    "                            \"column_name\": \"SOURCE_BDI\",\n",
    "                        },\n",
    "                        {\n",
    "                            \"column_name\": \"PLATFORM_NUMBER\",\n",
    "                        },\n",
    "                    ],\n",
    "                    \"qf_schema\": \"SEADATANET\",\n",
    "                    \"key_column\": \"COMMON_ODV_TAG\",\n",
    "                    # With this line we are asking the zip file to be gzip compressed\n",
    "                    \"archiving\": \"zip_deflate\",\n",
    "                }\n",
    "            }\n",
    "        },\n",
    "    }\n",
    "    return body\n",
    "\n",
    "\n",
    "query_body = query(mindate, maxdate, minlon, maxlon, minlat, maxlat)"
   ]
  },
  {
   "cell_type": "markdown",
   "id": "db4474ce",
   "metadata": {},
   "source": [
    "#### This is the post request that is sent to Beacon with the above specified body.\n"
   ]
  },
  {
   "cell_type": "code",
   "execution_count": 44,
   "id": "4911622c",
   "metadata": {},
   "outputs": [],
   "source": [
    "response = requests.post(\n",
    "    \"https://beacon-wb1-ts.maris.nl/api/query\",\n",
    "    json.dumps(query_body),\n",
    "    headers={\"Authorization\": f\"Bearer {Token}\",\n",
    "             \"Content-type\": \"application/json\"},\n",
    ")\n",
    "\n",
    "if response.status_code == 204:\n",
    "    print(\n",
    "        \"No data has been found for your query, please update your input fields above and run the notebook again.\"\n",
    "    )\n",
    "elif response.status_code != 200:\n",
    "    print(response.text)"
   ]
  },
  {
   "cell_type": "code",
   "execution_count": 45,
   "id": "a17a18db",
   "metadata": {},
   "outputs": [
    {
     "data": {
      "text/plain": [
       "68496313"
      ]
     },
     "execution_count": 45,
     "metadata": {},
     "output_type": "execute_result"
    }
   ],
   "source": [
    "regionname = f\"[{minlat},{minlon}],[{maxlat},{maxlon}]\"\n",
    "\n",
    "if not os.path.exists(\"./Beacon_V1.0.0_Output\"):\n",
    "    os.makedirs(\"Beacon_V1.0.0_Output\")\n",
    "\n",
    "open(\n",
    "    f\"./Beacon_V1.0.0_Output/TS_merged_{regionname}_{mindate}-{maxdate}.zip\", \"wb\"\n",
    ").write(response.content)"
   ]
  }
 ],
 "metadata": {
  "kernelspec": {
   "display_name": "Python 3",
   "language": "python",
   "name": "python3"
  },
  "language_info": {
   "codemirror_mode": {
    "name": "ipython",
    "version": 3
   },
   "file_extension": ".py",
   "mimetype": "text/x-python",
   "name": "python",
   "nbconvert_exporter": "python",
   "pygments_lexer": "ipython3",
   "version": "3.10.2"
  }
 },
 "nbformat": 4,
 "nbformat_minor": 5
}
