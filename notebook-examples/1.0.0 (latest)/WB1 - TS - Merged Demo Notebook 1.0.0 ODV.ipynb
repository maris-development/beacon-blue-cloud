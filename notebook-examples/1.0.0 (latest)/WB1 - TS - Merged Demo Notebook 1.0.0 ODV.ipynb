{
 "cells": [
  {
   "cell_type": "markdown",
   "id": "79a1fbca",
   "metadata": {},
   "source": [
    "# This is a notebook for querying the merged TS instance for the 1.0.0 Beacon release.\n",
    "* You can run each cell individually by pressing \"shift + enter\".\n",
    "* For more information, questions, bugs, please contact us on Slack:\n",
    "    + https://join.slack.com/t/beacontechnic-wwa5548/shared_invite/zt-2dp1vv56r-tj_KFac0sAKNuAgUKPPDRg."
   ]
  },
  {
   "cell_type": "markdown",
   "id": "6174492b",
   "metadata": {},
   "source": [
    "#### In order to get access to the Beacon endpoint, you need to fill in your unique personal token between the \" \" in the cell below."
   ]
  },
  {
   "cell_type": "code",
   "execution_count": null,
   "id": "1b546f1b",
   "metadata": {},
   "outputs": [],
   "source": [
    "Token = \" \""
   ]
  },
  {
   "cell_type": "markdown",
   "id": "f1442c72",
   "metadata": {},
   "source": [
    "#### Install the following packages, if you have not already installed them in your environment:\n",
    "* pip install requests\n",
    "* pip install xarray\n",
    "* pip install ipywidgets\n",
    "* pip install cartopy\n",
    "* pip install h5netcdf\n",
    "* pip install netcdf4\n",
    "* pip install scipy\n",
    "* pip install packaging"
   ]
  },
  {
   "cell_type": "markdown",
   "id": "cc5d67f1",
   "metadata": {},
   "source": [
    "#### Import the required packages"
   ]
  },
  {
   "cell_type": "code",
   "execution_count": 2,
   "id": "72bf04d1",
   "metadata": {},
   "outputs": [],
   "source": [
    "import requests\n",
    "import json\n",
    "import xarray as xr\n",
    "import datetime\n",
    "import pandas as pd\n",
    "import os\n",
    "import cartopy.crs as ccrs\n",
    "import cartopy.feature as cfeature\n",
    "import matplotlib.pyplot as plt"
   ]
  },
  {
   "cell_type": "markdown",
   "id": "b2abf1e6",
   "metadata": {},
   "source": [
    "#### Retrieve the available columns from the Merged TS endpoint\n",
    "Swagger page here: https://beacon-wb1-ts.maris.nl/swagger/ "
   ]
  },
  {
   "cell_type": "code",
   "execution_count": 3,
   "id": "a007ef37",
   "metadata": {},
   "outputs": [],
   "source": [
    "responseinfo = requests.get(\"https://beacon-wb1-ts.maris.nl/api/query/available-columns\", headers = {\"Authorization\" : f\"Bearer {Token}\"}) \n",
    "params = responseinfo.json()"
   ]
  },
  {
   "cell_type": "markdown",
   "id": "5970f5e2",
   "metadata": {},
   "source": [
    "#### Below you can search through the available columns by entering text between the brackets of search_columns(\" \")."
   ]
  },
  {
   "cell_type": "code",
   "execution_count": 4,
   "id": "c0cb8bc2",
   "metadata": {},
   "outputs": [
    {
     "name": "stdout",
     "output_type": "stream",
     "text": [
      "Matching columns:\n",
      "PRES\n",
      "PRES.long_name\n",
      "PRES.standard_name\n",
      "PRES.units\n",
      "PRES_ADJUSTED\n",
      "PRES_ADJUSTED_QC\n",
      "PRES_QC\n"
     ]
    }
   ],
   "source": [
    "def search_columns(search_term):\n",
    "    search_term = search_term.lower()\n",
    "    matches = [col for col in params if search_term in col.lower()]\n",
    "    \n",
    "    if matches:\n",
    "        print(\"Matching columns:\")\n",
    "        for match in matches:\n",
    "            print(match)\n",
    "    else:\n",
    "        print(\"No matching columns found.\")\n",
    "\n",
    "search_columns(\"pres\") #Enter your search term here"
   ]
  },
  {
   "cell_type": "markdown",
   "id": "22af0644",
   "metadata": {},
   "source": [
    "#### You can define here your input parameters "
   ]
  },
  {
   "cell_type": "code",
   "execution_count": 5,
   "id": "dc012e01",
   "metadata": {},
   "outputs": [],
   "source": [
    "parameter = \"Common.Temperature\" #column name \n",
    "mindate = \"2010-01-01\" #yyyy-mm-dd\n",
    "maxdate = \"2010-02-01\" #yyyy-mm-dd\n",
    "minlon = -180\n",
    "maxlon = 180\n",
    "minlat = -90\n",
    "maxlat = 90"
   ]
  },
  {
   "cell_type": "markdown",
   "id": "7be894b1",
   "metadata": {},
   "source": [
    "#### This will create the query body based on your input parameters, you can add other \"query_parameters\" and \"filters\" to suit your needs. \n",
    "* For more query examples and explanations, you can take a look at https://github.com/maris-development/beacon-blue-cloud.  "
   ]
  },
  {
   "cell_type": "code",
   "execution_count": 6,
   "id": "a2651c7a",
   "metadata": {},
   "outputs": [],
   "source": [
    "def query(parameter, mindate, maxdate, minlon, maxlon, minlat, maxlat):\n",
    "    body = {\n",
    "        \"query_parameters\": [\n",
    "            {\n",
    "                \"column_name\": parameter,\n",
    "                \"alias\": parameter,\n",
    "                \"skip_fill_values\": True\n",
    "            },\n",
    "            {\n",
    "                \"column_name\": f\"{parameter}.units\",\n",
    "                \"alias\": \"Unit\"\n",
    "            },\n",
    "            {\n",
    "                \"column_name\": \"Common.Time\",\n",
    "                \"alias\": \"datetime\"\n",
    "            },\n",
    "            {\n",
    "                \"column_name\": f\"{parameter}.qf\",\n",
    "                \"alias\": f\"{parameter}_qf\"\n",
    "            },\n",
    "            {\n",
    "                \"column_name\": f\"{parameter}.P01\",\n",
    "                \"alias\": f\"{parameter}_P01\"\n",
    "            },\n",
    "            {\n",
    "                \"column_name\": \"PRES\",\n",
    "                \"alias\": \"PRES\"\n",
    "            },\n",
    "            {\n",
    "                \"column_name\": \"PRES_QC\",\n",
    "                \"alias\": \"PRES_QC\"\n",
    "            },\n",
    "            {\n",
    "                \"column_name\": \"PRES.units\",\n",
    "                \"alias\": \"PRES_units\"\n",
    "            },\n",
    "            {\n",
    "                \"column_name\": \"LONGITUDE\",\n",
    "                \"alias\": \"LONGITUDE\"\n",
    "            },\n",
    "            {\n",
    "                \"column_name\": \"LATITUDE\",\n",
    "                \"alias\": \"LATITUDE\"\n",
    "            },\n",
    "            {\n",
    "                \"column_name\": \"Common.source.beacon\",\n",
    "                \"alias\": \"Collection\"\n",
    "            }         \n",
    "        ],\n",
    "        \"filters\": [\n",
    "            {\n",
    "                \"for_query_parameter\": \"datetime\",\n",
    "                \"min\": f\"{mindate}T00:00:00\",\n",
    "                \"max\": f\"{maxdate}T00:00:00\",\n",
    "                \"cast\": \"timestamp\"\n",
    "            },\n",
    "            {\n",
    "              \"for_query_parameter\": \"LONGITUDE\",\n",
    "              \"min\": minlon,\n",
    "              \"max\": maxlon\n",
    "            },\n",
    "            {\n",
    "              \"for_query_parameter\": \"LATITUDE\",\n",
    "              \"min\": minlat,\n",
    "              \"max\": maxlat\n",
    "            }\n",
    "        ],\n",
    "        \"output\": {\n",
    "            \"format\": {\n",
    "                \"odv\": {\n",
    "                    \"longitude_column\": \"LONGITUDE\",\n",
    "                    \"latitude_column\": \"LATITUDE\",\n",
    "                    \"timestamp_column\": {\n",
    "                        \"data_column_name\": \"datetime\",\n",
    "                        \"comment\": \"\"\n",
    "                    },\n",
    "                    \"depth_column\": {\n",
    "                        \"data_column_name\": \"PRES\", \"unit\" : \"decibar\",\n",
    "                        \"comment\": \"\",\n",
    "                        \"qf_column\": \"PRES_QC\"\n",
    "                    },\n",
    "                    \"data_columns\": [\n",
    "                        {\n",
    "                            \"data_column_name\": parameter,\n",
    "                            \"comment\": \"\",\n",
    "                            \"qf_column\": f\"{parameter}_qf\"\n",
    "                        }\n",
    "                    ],\n",
    "                    \"metadata_columns\": [\n",
    "                        \"Unit\", \"PRES_units\", f\"{parameter}_P01\", \"Collection\"\n",
    "                    ],\n",
    "                    \"skip_odv_script\": False,\n",
    "                    \"qf_schema\": \"ARGO\"\n",
    "                }\n",
    "            }\n",
    "        }}\n",
    "    return body\n",
    "\n",
    "query_body = query(parameter, mindate, maxdate, minlon, maxlon, minlat, maxlat)"
   ]
  },
  {
   "cell_type": "markdown",
   "id": "db4474ce",
   "metadata": {},
   "source": [
    "#### This is the post request that is sent to Beacon with the above specified body."
   ]
  },
  {
   "cell_type": "code",
   "execution_count": 7,
   "id": "4911622c",
   "metadata": {},
   "outputs": [],
   "source": [
    "response = requests.post(\"https://beacon-wb1-ts.maris.nl/api/query\", json.dumps(query_body), headers = {\n",
    "    \"Authorization\" : f\"Bearer {Token}\",\n",
    "    \"Content-type\": \"application/json\"\n",
    "})\n",
    "\n",
    "if response.status_code == 204:\n",
    "    print(\"No data has been found for your query, please update your input fields above and run the notebook again.\")\n",
    "elif response.status_code != 200:\n",
    "    print(response.text)"
   ]
  },
  {
   "cell_type": "code",
   "execution_count": 8,
   "id": "a17a18db",
   "metadata": {},
   "outputs": [],
   "source": [
    "regionname = f\"[{minlat},{minlon}],[{maxlat},{maxlon}]\" \n",
    "\n",
    "if not os.path.exists(\"./Beacon_V1.0.0_Output\"):\n",
    "    os.makedirs(\"Beacon_V1.0.0_Output\")\n",
    "    \n",
    "open(f\"./Beacon_V1.0.0_Output/TS_merged_{parameter}_{regionname}_{mindate}-{maxdate}.zip\", 'wb').write(response.content);"
   ]
  }
 ],
 "metadata": {
  "kernelspec": {
   "display_name": "Blue-Cloud",
   "language": "python",
   "name": "python3"
  },
  "language_info": {
   "codemirror_mode": {
    "name": "ipython",
    "version": 3
   },
   "file_extension": ".py",
   "mimetype": "text/x-python",
   "name": "python",
   "nbconvert_exporter": "python",
   "pygments_lexer": "ipython3",
   "version": "3.12.7"
  }
 },
 "nbformat": 4,
 "nbformat_minor": 5
}
