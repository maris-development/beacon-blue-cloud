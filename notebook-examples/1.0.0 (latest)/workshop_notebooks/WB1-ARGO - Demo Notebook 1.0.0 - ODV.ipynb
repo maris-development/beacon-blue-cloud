{
 "cells": [
  {
   "cell_type": "markdown",
   "id": "79a1fbca",
   "metadata": {},
   "source": [
    "# This is a notebook for querying the ARGO instance for the 1.0.0 Beacon release.\n",
    "\n",
    "-   You can run each cell individually by pressing \"shift + enter\".\n",
    "-   For more information, questions, bugs, please contact us on Slack:\n",
    "    -   https://join.slack.com/t/beacontechnic-wwa5548/shared_invite/zt-2dp1vv56r-tj_KFac0sAKNuAgUKPPDRg.\n"
   ]
  },
  {
   "cell_type": "markdown",
   "id": "6174492b",
   "metadata": {},
   "source": [
    "#### In order to get access to the Beacon endpoint, you need to fill in your unique personal token between the \" \" in the cell below.\n"
   ]
  },
  {
   "cell_type": "code",
   "execution_count": 10,
   "id": "1b546f1b",
   "metadata": {},
   "outputs": [],
   "source": [
    "Token = \"\""
   ]
  },
  {
   "cell_type": "markdown",
   "id": "f1442c72",
   "metadata": {},
   "source": [
    "#### Install the following packages, if you have not already installed them in your environment:\n",
    "\n",
    "-   pip install requests\n",
    "-   pip install xarray\n",
    "-   pip install ipywidgets\n",
    "-   pip install cartopy\n",
    "-   pip install h5netcdf\n",
    "-   pip install netcdf4\n",
    "-   pip install scipy\n",
    "-   pip install packaging\n"
   ]
  },
  {
   "cell_type": "markdown",
   "id": "cc5d67f1",
   "metadata": {},
   "source": [
    "#### Import the required packages\n"
   ]
  },
  {
   "cell_type": "code",
   "execution_count": 11,
   "id": "72bf04d1",
   "metadata": {},
   "outputs": [],
   "source": [
    "import requests\n",
    "import json\n",
    "import xarray as xr\n",
    "import datetime\n",
    "import pandas as pd\n",
    "import os\n",
    "import cartopy.crs as ccrs\n",
    "import cartopy.feature as cfeature\n",
    "import matplotlib.pyplot as plt"
   ]
  },
  {
   "cell_type": "markdown",
   "id": "b2abf1e6",
   "metadata": {},
   "source": [
    "#### Retrieve the available columns from the ARGO endpoint\n",
    "\n",
    "Swagger page here: https://beacon-argo.maris.nl/swagger/\n"
   ]
  },
  {
   "cell_type": "code",
   "execution_count": 12,
   "id": "a007ef37",
   "metadata": {},
   "outputs": [],
   "source": [
    "responseinfo = requests.get(\n",
    "    \"https://beacon-argo.maris.nl/api/query/available-columns\",\n",
    "    headers={\"Authorization\": f\"Bearer {Token}\"},\n",
    ")\n",
    "params = responseinfo.json()"
   ]
  },
  {
   "cell_type": "markdown",
   "id": "5970f5e2",
   "metadata": {},
   "source": [
    "#### Below you can search through the available columns by entering text between the brackets of search_columns(\" \").\n"
   ]
  },
  {
   "cell_type": "code",
   "execution_count": 13,
   "id": "c0cb8bc2",
   "metadata": {},
   "outputs": [
    {
     "name": "stdout",
     "output_type": "stream",
     "text": [
      "Matching columns:\n",
      "JULD\n",
      "JULD.long_name\n",
      "JULD.standard_name\n",
      "JULD.units\n",
      "JULD.conventions\n",
      "JULD.resolution\n",
      "JULD._FillValue\n",
      "JULD.axis\n",
      "JULD_QC\n",
      "JULD_QC.long_name\n",
      "JULD_QC.conventions\n",
      "JULD_QC._FillValue\n",
      "JULD_LOCATION\n",
      "JULD_LOCATION.long_name\n",
      "JULD_LOCATION.units\n",
      "JULD_LOCATION.conventions\n",
      "JULD_LOCATION.resolution\n",
      "JULD_LOCATION._FillValue\n"
     ]
    }
   ],
   "source": [
    "def search_columns(search_term):\n",
    "    search_term = search_term.lower()\n",
    "    matches = [col for col in params if search_term in col.lower()]\n",
    "\n",
    "    if matches:\n",
    "        print(\"Matching columns:\")\n",
    "        for match in matches:\n",
    "            print(match)\n",
    "    else:\n",
    "        print(\"No matching columns found.\")\n",
    "\n",
    "\n",
    "search_columns(\"JULD\")  # Enter your search term here"
   ]
  },
  {
   "cell_type": "markdown",
   "id": "22af0644",
   "metadata": {},
   "source": [
    "#### You can define here your input parameters\n"
   ]
  },
  {
   "cell_type": "code",
   "execution_count": 14,
   "id": "dc012e01",
   "metadata": {},
   "outputs": [],
   "source": [
    "parameter = \"TEMP\"  # column name\n",
    "mindate = \"2010-01-01\"  # yyyy-mm-dd\n",
    "maxdate = \"2011-01-01\"  # yyyy-mm-dd\n",
    "minlon = -180\n",
    "maxlon = 180\n",
    "minlat = -90\n",
    "maxlat = 90\n",
    "mindepth = 0\n",
    "maxdepth = 10"
   ]
  },
  {
   "cell_type": "markdown",
   "id": "7be894b1",
   "metadata": {},
   "source": [
    "#### This will create the query body based on your input parameters, you can add other \"query_parameters\" and \"filters\" to suit your needs.\n",
    "\n",
    "-   For more query examples and explanations, you can take a look at https://maris-development.github.io/beacon/.\n"
   ]
  },
  {
   "cell_type": "code",
   "execution_count": 15,
   "id": "a2651c7a",
   "metadata": {},
   "outputs": [],
   "source": [
    "def query(\n",
    "    parameter, mindate, maxdate, minlon, maxlon, minlat, maxlat, mindepth, maxdepth\n",
    "):\n",
    "    body = {\n",
    "        \"query_parameters\": [\n",
    "            {\n",
    "                \"column_name\": parameter,\n",
    "                \"alias\": parameter,\n",
    "            },\n",
    "            {\n",
    "                \"column_name\": f\"{parameter}_QC\",\n",
    "            },\n",
    "            {\"column_name\": \"JULD\", \"alias\": \"time_ISO8601 [yyyy-MM-ddTHH:mm:ss.SSS]\"},\n",
    "            {\"column_name\": \"PRES\", \"alias\": \"Pressure [dbar]\"},\n",
    "            {\"column_name\": \"PRES_QC\"},\n",
    "            {\"column_name\": \"LONGITUDE\"},\n",
    "            {\"column_name\": \"LATITUDE\"},\n",
    "            {\n",
    "                \"function\": \"concat\",\n",
    "                \"args\": [\"PLATFORM_NUMBER\", \"CYCLE_NUMBER\"],\n",
    "                \"alias\": \"COMMON_ODV_TAG\",\n",
    "            },\n",
    "        ],\n",
    "        \"filters\": [\n",
    "            {\n",
    "                \"for_query_parameter\": \"time_ISO8601 [yyyy-MM-ddTHH:mm:ss.SSS]\",\n",
    "                \"min\": f\"{mindate}T00:00:00\",\n",
    "                \"max\": f\"{maxdate}T00:00:00\",\n",
    "            },\n",
    "            {\n",
    "                \"for_query_parameter\": \"Pressure [dbar]\",\n",
    "                \"min\": mindepth,\n",
    "                \"max\": maxdepth,\n",
    "            },\n",
    "            {\"for_query_parameter\": \"LONGITUDE\", \"min\": minlon, \"max\": maxlon},\n",
    "            {\"for_query_parameter\": \"LATITUDE\", \"min\": minlat, \"max\": maxlat},\n",
    "            {\n",
    "                \"is_not_null\": {\"for_query_parameter\": parameter},\n",
    "            },\n",
    "        ],\n",
    "        \"output\": {\n",
    "            \"format\": {\n",
    "                \"odv\": {\n",
    "                    \"longitude_column\": {\"column_name\": \"LONGITUDE\"},\n",
    "                    \"latitude_column\": {\"column_name\": \"LATITUDE\"},\n",
    "                    \"time_column\": {\n",
    "                        \"column_name\": \"time_ISO8601 [yyyy-MM-ddTHH:mm:ss.SSS]\"\n",
    "                    },\n",
    "                    \"depth_column\": {\n",
    "                        \"column_name\": \"Pressure [dbar]\",\n",
    "                        \"qf_column\": \"PRES_QC\",\n",
    "                    },\n",
    "                    \"data_columns\": [\n",
    "                        {\n",
    "                            \"column_name\": f\"{parameter}\",\n",
    "                            \"qf_column\": f\"{parameter}_QC\",\n",
    "                        }\n",
    "                    ],\n",
    "                    \"metadata_columns\": [],\n",
    "                    \"qf_schema\": \"SEADATANET\",\n",
    "                    \"key_column\": \"COMMON_ODV_TAG\",\n",
    "                    # With this line we are asking the zip file to be gzip compressed\n",
    "                    \"archiving\": \"zip_deflate\",\n",
    "                }\n",
    "            }\n",
    "        },\n",
    "    }\n",
    "    return body\n",
    "\n",
    "\n",
    "query_body = query(\n",
    "    parameter, mindate, maxdate, minlon, maxlon, minlat, maxlat, mindepth, maxdepth\n",
    ")"
   ]
  },
  {
   "cell_type": "markdown",
   "id": "db4474ce",
   "metadata": {},
   "source": [
    "#### This is the post request that is sent to Beacon with the above specified body.\n"
   ]
  },
  {
   "cell_type": "code",
   "execution_count": 16,
   "id": "4911622c",
   "metadata": {},
   "outputs": [],
   "source": [
    "response = requests.post(\n",
    "    \"https://beacon-argo.maris.nl/api/query\",\n",
    "    json.dumps(query_body),\n",
    "    headers={\"Authorization\": f\"Bearer {Token}\", \"Content-type\": \"application/json\"},\n",
    ")\n",
    "\n",
    "if response.status_code == 204:\n",
    "    print(\n",
    "        \"No data has been found for your query, please update your input fields above and run the notebook again.\"\n",
    "    )\n",
    "elif response.status_code != 200:\n",
    "    print(response.text)"
   ]
  },
  {
   "cell_type": "code",
   "execution_count": 19,
   "id": "3f2b39d1",
   "metadata": {},
   "outputs": [
    {
     "data": {
      "text/plain": [
       "3469817"
      ]
     },
     "execution_count": 19,
     "metadata": {},
     "output_type": "execute_result"
    }
   ],
   "source": [
    "regionname = f\"[{minlat},{minlon}],[{maxlat},{maxlon}]\"\n",
    "\n",
    "if not os.path.exists(\"./Beacon_V1.0.0_Output\"):\n",
    "    os.makedirs(\"Beacon_V1.0.0_Output\")\n",
    "\n",
    "if not os.path.exists(\"./Beacon_V1.0.0_Output\"):\n",
    "    os.makedirs(\"Beacon_V1.0.0_Output\")\n",
    "\n",
    "open(\n",
    "    f\"./Beacon_V1.0.0_Output/ARGO.zip\",\n",
    "    \"wb\",\n",
    ").write(response.content)"
   ]
  }
 ],
 "metadata": {
  "kernelspec": {
   "display_name": "Blue-Cloud",
   "language": "python",
   "name": "python3"
  },
  "language_info": {
   "codemirror_mode": {
    "name": "ipython",
    "version": 3
   },
   "file_extension": ".py",
   "mimetype": "text/x-python",
   "name": "python",
   "nbconvert_exporter": "python",
   "pygments_lexer": "ipython3",
   "version": "3.12.2"
  }
 },
 "nbformat": 4,
 "nbformat_minor": 5
}
