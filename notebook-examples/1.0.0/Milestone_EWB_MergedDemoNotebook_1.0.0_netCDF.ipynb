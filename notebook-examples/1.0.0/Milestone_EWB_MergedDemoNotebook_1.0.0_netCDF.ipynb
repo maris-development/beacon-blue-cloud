{
 "cells": [
  {
   "cell_type": "markdown",
   "id": "79a1fbca",
   "metadata": {},
   "source": [
    "# This is a notebook for querying the merged Eutro WB for Chl, Oxygen and Nutrients instance for the 1.0.0 Beacon release.\n",
    "* You can run each cell individually by pressing \"shift + enter\".\n",
    "* For more information, questions, bugs, please contact us on Slack:\n",
    "    + https://join.slack.com/t/beacontechnic-wwa5548/shared_invite/zt-2dp1vv56r-tj_KFac0sAKNuAgUKPPDRg."
   ]
  },
  {
   "cell_type": "markdown",
   "id": "6174492b",
   "metadata": {},
   "source": [
    "### 1. DD&AS token\n",
    "In order to get access to the Beacon endpoint, you need to fill in your unique personal token between the \" \" in the cell below.\n",
    "\n",
    "The token can be requested by writting an email to paul@maris.nl and robin@maris.nl. Then the token will be available in the DD&AS https://data.blue-cloud.org/search\n",
    "\n",
    "![DDAS](images/ddas.png \"DD&AS\")\n",
    "![token](images/beacon_token.png \"token\")"
   ]
  },
  {
   "cell_type": "code",
   "execution_count": 1,
   "id": "1b546f1b",
   "metadata": {},
   "outputs": [],
   "source": [
    "Token = \"\""
   ]
  },
  {
   "cell_type": "markdown",
   "id": "f1442c72",
   "metadata": {},
   "source": [
    "### 2. Install and import the necessary packages\n",
    "Install the following packages, if you have not already installed them in your environment:\n",
    "* pip install requests\n",
    "* pip install xarray\n",
    "* pip install ipywidgets\n",
    "* pip install cartopy\n",
    "* pip install h5netcdf\n",
    "* pip install netcdf4\n",
    "* pip install scipy\n",
    "* pip install packaging\n",
    "* pip install plotly\n",
    "* pip install numpy"
   ]
  },
  {
   "cell_type": "markdown",
   "id": "cc5d67f1",
   "metadata": {},
   "source": [
    "Import the required packages"
   ]
  },
  {
   "cell_type": "code",
   "execution_count": 2,
   "id": "72bf04d1",
   "metadata": {},
   "outputs": [],
   "source": [
    "import requests\n",
    "import json\n",
    "import xarray as xr\n",
    "import datetime\n",
    "import pandas as pd\n",
    "import os\n",
    "import cartopy.crs as ccrs\n",
    "import cartopy.feature as cfeature\n",
    "import matplotlib.pyplot as plt\n",
    "import numpy as np"
   ]
  },
  {
   "cell_type": "markdown",
   "id": "b2abf1e6",
   "metadata": {},
   "source": [
    "### 3. Quering BEACON\n",
    "\n",
    "#### 3.1 Retrieve the available columns from the Merged Eutrophication EOV's endpoint\n",
    "\n",
    "Swagger page here: https://beacon-wb2-eutrophication.maris.nl/swagger/ "
   ]
  },
  {
   "cell_type": "code",
   "execution_count": 3,
   "id": "a007ef37",
   "metadata": {},
   "outputs": [],
   "source": [
    "responseinfo = requests.get(\"https://beacon-wb2-eutrophication.maris.nl/api/query/available-columns\", headers = {\"Authorization\" : f\"Bearer {Token}\"}) \n",
    "params = responseinfo.json()"
   ]
  },
  {
   "cell_type": "markdown",
   "id": "5970f5e2",
   "metadata": {},
   "source": [
    "#### 3.2 Available parameters\n",
    "Below you can search through the available columns by entering text between the brackets of search_columns(\" \"). For the merged instance we need to look for the parameters under \"COMMON\""
   ]
  },
  {
   "cell_type": "code",
   "execution_count": null,
   "id": "c0cb8bc2",
   "metadata": {},
   "outputs": [],
   "source": [
    "def search_columns(search_term):\n",
    "    search_term = search_term.lower()\n",
    "    matches = [col for col in params if search_term in col.lower()]\n",
    "    \n",
    "    if matches:\n",
    "        print(\"Matching columns:\")\n",
    "        for match in matches:\n",
    "            print(match)\n",
    "    else:\n",
    "        print(\"No matching columns found.\")\n",
    "\n",
    "search_columns(\"common\") #Enter your search term here"
   ]
  },
  {
   "cell_type": "markdown",
   "id": "22af0644",
   "metadata": {},
   "source": [
    "#### 3.3 Define your input parameters \n",
    "This test uses using the Marine Regions delimitation for the North East Atlantic area (General Sea Area): https://www.marineregions.org/gazetteer.php?p=details&id=5664"
   ]
  },
  {
   "cell_type": "code",
   "execution_count": 5,
   "id": "dc012e01",
   "metadata": {},
   "outputs": [],
   "source": [
    "parameter = \"COMMON_OXYGEN\" #column name \n",
    "mindate = \"2001-01-01\" #yyyy-mm-dd\n",
    "maxdate = \"2001-01-31\" #yyyy-mm-dd\n",
    "minlon = -44\n",
    "maxlon = 5\n",
    "minlat = 15\n",
    "maxlat = 60\n",
    "mindepth = 0\n",
    "maxdepth = 1000"
   ]
  },
  {
   "cell_type": "markdown",
   "id": "7be894b1",
   "metadata": {},
   "source": [
    "#### 3.4 Query body\n",
    "Here you will create the query body based on your input parameters, you can add other \"query_parameters\" and \"filters\" to suit your needs. \n",
    "* For more query examples and explanations, you can take a look at https://github.com/maris-development/beacon-blue-cloud/.  "
   ]
  },
  {
   "cell_type": "code",
   "execution_count": 6,
   "id": "a2651c7a",
   "metadata": {},
   "outputs": [],
   "source": [
    "def query(parameter, mindate, maxdate, minlon, maxlon, minlat, maxlat, mindepth, maxdepth):\n",
    "    body = {\n",
    "        \"query_parameters\": [\n",
    "            {\n",
    "                # MERGED PARAM - temperature\n",
    "                \"column_name\": parameter,\n",
    "                \"alias\": parameter,\n",
    "                \"optional\" : True\n",
    "                # \"skip_fill_values\": True\n",
    "            },\n",
    "            {\n",
    "                \"column_name\": f\"{parameter}_UNITS\",\n",
    "                \"alias\": \"Unit\",\n",
    "                \"optional\" : True\n",
    "            },\n",
    "            {\n",
    "                \"column_name\": \"COMMON_TIME\",\n",
    "                \"alias\": \"datetime\"\n",
    "            },\n",
    "            {\n",
    "                \"column_name\": f\"{parameter}_QC\",\n",
    "                \"alias\": f\"{parameter}_qf\",\n",
    "                \"optional\" : True\n",
    "            },\n",
    "            {\n",
    "                \"column_name\": f\"{parameter}_P01\",\n",
    "                \"alias\": f\"{parameter}_P01\",\n",
    "                \"optional\" : True\n",
    "            },\n",
    "            {\n",
    "                \"column_name\": f\"{parameter}_P06\",\n",
    "                \"alias\": f\"{parameter}_P06\",\n",
    "                \"optional\" : True\n",
    "            },\n",
    "            {\n",
    "                \"column_name\": f\"{parameter}_STANDARD_NAME\",\n",
    "                \"alias\": f\"{parameter}_STANDARD_NAME\",\n",
    "                \"optional\" : True\n",
    "            },\n",
    "            # MERGED DEPTH\n",
    "            {\n",
    "                \"column_name\": \"COMMON_DEPTH\",\n",
    "                \"alias\": \"DEPTH\"\n",
    "            },\n",
    "            {\n",
    "                \"column_name\": \"COMMON_DEPTH_UNITS\",\n",
    "                \"alias\": \"DEPTH_UNITS\",\n",
    "                \"optional\" : True\n",
    "            },\n",
    "            # LON LAT\n",
    "            {\n",
    "                \"column_name\": \"COMMON_LONGITUDE\",\n",
    "                \"alias\": \"LONGITUDE\"\n",
    "            },\n",
    "            {\n",
    "                \"column_name\": \"COMMON_LATITUDE\",\n",
    "                \"alias\": \"LATITUDE\"\n",
    "            },\n",
    "            # MERGED CHL\n",
    "            {\n",
    "                \"column_name\": \"COMMON_CHLOROPHYLL\",\n",
    "                \"alias\": \"CHLOROPHYLL\",\n",
    "                \"optional\" : True\n",
    "            },\n",
    "            {\n",
    "                \"column_name\": \"COMMON_CHLOROPHYLL_P01\",\n",
    "                \"alias\": \"CHLOROPHYLL_P01\",\n",
    "                \"optional\" : True\n",
    "            },\n",
    "            {\n",
    "                \"column_name\": \"COMMON_CHLOROPHYLL_P06\",\n",
    "                \"alias\": \"CHLOROPHYLL_P06\",\n",
    "                \"optional\" : True\n",
    "            },\n",
    "            {\n",
    "                \"column_name\": \"COMMON_CHLOROPHYLL_QC\",\n",
    "                \"alias\": \"CHLOROPHYLL_QC\",\n",
    "                \"optional\" : True\n",
    "            },\n",
    "            {\n",
    "                \"column_name\": \"COMMON_CHLOROPHYLL_STANDARD_NAME\",\n",
    "                \"alias\": \"CHLOROPHYLL_STANDARD_NAME\",\n",
    "                \"optional\" : True\n",
    "            },\n",
    "            {\n",
    "                \"column_name\": \"COMMON_CHLOROPHYLL_UNITS\",\n",
    "                \"alias\": \"CHLOROPHYLL_UNITS\",\n",
    "                \"optional\" : True\n",
    "            },\n",
    "            # MERGED NITRATE\n",
    "            {\n",
    "                \"column_name\": \"COMMON_NITRATE\",\n",
    "                \"alias\": \"NITRATE\",\n",
    "                \"optional\" : True\n",
    "            },\n",
    "            {\n",
    "                \"column_name\": \"COMMON_NITRATE_P01\",\n",
    "                \"alias\": \"NITRATE_P01\",\n",
    "                \"optional\" : True\n",
    "            },\n",
    "            {\n",
    "                \"column_name\": \"COMMON_NITRATE_P06\",\n",
    "                \"alias\": \"NITRATE_P06\",\n",
    "                \"optional\" : True\n",
    "            },\n",
    "            {\n",
    "                \"column_name\": \"COMMON_NITRATE_QC\",\n",
    "                \"alias\": \"NITRATE_QC\",\n",
    "                \"optional\" : True\n",
    "            },\n",
    "            {\n",
    "                \"column_name\": \"COMMON_NITRATE_STANDARD_NAME\",\n",
    "                \"alias\": \"NITRATE_STANDARD_NAME\",\n",
    "                \"optional\" : True\n",
    "            },\n",
    "            {\n",
    "                \"column_name\": \"COMMON_NITRATE_UNITS\",\n",
    "                \"alias\": \"NITRATE_UNITS\",\n",
    "                \"optional\" : True\n",
    "            },\n",
    "            #  METADATA\n",
    "            {\n",
    "                \"column_name\": \"SOURCE_BDI\",\n",
    "                \"alias\": \"SOURCE_BDI\"\n",
    "            },\n",
    "            {\n",
    "                \"column_name\": \"SOURCE_BDI_DATASET_ID\",\n",
    "                \"alias\": \"SOURCE_BDI_DATASET_ID\"\n",
    "            }            \n",
    "        ],\n",
    "        \"filters\": [\n",
    "            {\n",
    "                \"for_query_parameter\": \"datetime\",\n",
    "                \"min\": f\"{mindate}T00:00:00\",\n",
    "                \"max\": f\"{maxdate}T00:00:00\",\n",
    "                \"cast\": \"timestamp\"\n",
    "            },\n",
    "            {\n",
    "              \"for_query_parameter\": \"DEPTH\",\n",
    "              \"min\": mindepth,\n",
    "              \"max\": maxdepth\n",
    "            },\n",
    "            {\n",
    "              \"for_query_parameter\": \"LONGITUDE\",\n",
    "              \"min\": minlon,\n",
    "              \"max\": maxlon\n",
    "            },\n",
    "            {\n",
    "              \"for_query_parameter\": \"LATITUDE\",\n",
    "              \"min\": minlat,\n",
    "              \"max\": maxlat\n",
    "            }\n",
    "        ],\n",
    "        \"output\": {\n",
    "            \"format\": \"netcdf\" \n",
    "        }}\n",
    "    return body\n",
    "\n",
    "query_body = query(parameter, mindate, maxdate, minlon, maxlon, minlat, maxlat, mindepth, maxdepth)"
   ]
  },
  {
   "cell_type": "markdown",
   "id": "db4474ce",
   "metadata": {},
   "source": [
    "#### 3.4 Retraiving the queried data\n",
    " This is the post request that is sent to Beacon with the above specified body."
   ]
  },
  {
   "cell_type": "code",
   "execution_count": 7,
   "id": "4911622c",
   "metadata": {},
   "outputs": [],
   "source": [
    "response = requests.post(\"https://beacon-wb2-eutrophication.maris.nl/api/query\", json.dumps(query_body), headers = {\n",
    "    \"Authorization\" : f\"Bearer {Token}\",\n",
    "    \"Content-type\": \"application/json\"\n",
    "})\n",
    "\n",
    "if response.status_code == 204:\n",
    "    print(\"No data has been found for your query, please update your input fields above and run the notebook again.\")\n",
    "elif response.status_code != 200:\n",
    "    print(response.text)"
   ]
  },
  {
   "cell_type": "code",
   "execution_count": null,
   "id": "3f2b39d1",
   "metadata": {},
   "outputs": [],
   "source": [
    "regionname = f\"[{minlat},{minlon}],[{maxlat},{maxlon}]\" \n",
    "\n",
    "if not os.path.exists(\"./Beacon_V1.0.0_Output\"):\n",
    "    os.makedirs(\"Beacon_V1.0.0_Output\")\n",
    "\n",
    "open(f\"./Beacon_V1.0.0_Output/EWB_merged_{parameter}_{regionname}_{mindate}-{maxdate}_[{mindepth}-{maxdepth}m].nc\", \"wb\").write(response.content)\n",
    "df = xr.open_dataset(f\"./Beacon_V1.0.0_Output/EWB_merged_{parameter}_{regionname}_{mindate}-{maxdate}_[{mindepth}-{maxdepth}m].nc\").to_dataframe()\n",
    "df = df.assign(datetime=pd.to_datetime(df[\"datetime\"])).set_index(\"datetime\").sort_index()\n",
    "\n",
    "print(df[\"SOURCE_BDI\"].unique())\n",
    "df.head()"
   ]
  },
  {
   "cell_type": "markdown",
   "id": "361b41f7",
   "metadata": {},
   "source": [
    "Optionally apply a filter on your parameter for quick removal of outliers. Note that this can also be achieved within your Beacon request by applying a filter on your parameter. You can uncomment this code block by using ctr + /"
   ]
  },
  {
   "cell_type": "code",
   "execution_count": null,
   "id": "a5b847a2",
   "metadata": {},
   "outputs": [],
   "source": [
    "# highbound = 40\n",
    "# lowbound = -2\n",
    "# df = df.loc[(df[f\"{parameter}\"] < highbound) & (df[f\"{parameter}\"] > lowbound)]\n",
    "# df\n",
    "print(df[\"NITRATE_UNITS\"].unique())"
   ]
  },
  {
   "cell_type": "markdown",
   "id": "96fdf8fa",
   "metadata": {},
   "source": [
    "Check the BDI's contrubuting to this beacon instance on the input parameters seleted above and the counts on the merged collection compared with emodnet :"
   ]
  },
  {
   "cell_type": "code",
   "execution_count": null,
   "id": "e4925e62",
   "metadata": {},
   "outputs": [],
   "source": [
    "print(\"BDI's contributing to the merged instance:\", df[\"SOURCE_BDI\"].unique())\n",
    "\n",
    "# print(\"EMODnet chemistry count is\", np.sum(df['EMODnet Water body dissolved oxygen concentration'].count()))\n",
    "# print(\"BEACON merged BDI's count is\", np.sum(df['COMMON_OXYGEN'].count()))"
   ]
  },
  {
   "cell_type": "markdown",
   "id": "466ef865",
   "metadata": {},
   "source": [
    "#### 4. Plotting of results."
   ]
  },
  {
   "cell_type": "code",
   "execution_count": 11,
   "id": "79ed0dad",
   "metadata": {},
   "outputs": [],
   "source": [
    "import plotly.express as px\n",
    "\n",
    "lon = df['LONGITUDE']\n",
    "lat = df['LATITUDE']\n",
    "field = df[f'{parameter}']\n",
    "depth = df['DEPTH']\n",
    "\n",
    "# fig = px.scatter_mapbox(df, lon=lon, lat=lat, color=field, hover_name=df['Depth'], color_continuous_scale = px.colors.sequential.Rainbow, zoom=3, height=500)\n",
    "fig = px.scatter_mapbox(df, lon=lon, lat=lat, color=field, size=depth, size_max=10, hover_data='COMMON_OXYGEN_qf', hover_name=df['SOURCE_BDI'], color_continuous_scale = px.colors.sequential.Rainbow, zoom=3, height=800)\n",
    "fig.update_layout(\n",
    "    title=dict(text=f'EWB_Merged_Beacon_instance {parameter} {regionname} {mindate}-{maxdate} [{mindepth}-{maxdepth}m] #Points = {len(df[\"COMMON_OXYGEN\"])}'),\n",
    "    mapbox_style=\"white-bg\",\n",
    "    mapbox_layers=[\n",
    "        {\n",
    "            \"below\": 'traces',\n",
    "            \"sourcetype\": \"raster\",\n",
    "            \"sourceattribution\": \"United States Geological Survey\",\n",
    "            \"source\": [\n",
    "                \"https://basemap.nationalmap.gov/arcgis/rest/services/USGSImageryOnly/MapServer/tile/{z}/{y}/{x}\"\n",
    "            ]\n",
    "        }\n",
    "      ])\n",
    "\n",
    "fig.show()"
   ]
  },
  {
   "cell_type": "code",
   "execution_count": 12,
   "id": "79d10e4e",
   "metadata": {},
   "outputs": [],
   "source": [
    "# lon = df['LONGITUDE']\n",
    "# lat = df['LATITUDE']\n",
    "# field = df['EMODnet Water body dissolved oxygen concentration']\n",
    "# depth = df['DEPTH']\n",
    "\n",
    "# # fig = px.scatter_mapbox(df, lon=lon, lat=lat, color=field, hover_name=df['Depth'], color_continuous_scale = px.colors.sequential.Rainbow, zoom=3, height=500)\n",
    "# fig = px.scatter_mapbox(df, lon=lon, lat=lat, color=field, size=depth, size_max=10, hover_data='EMODnet oxygen qc', hover_name=df['SOURCE_BDI'], color_continuous_scale = px.colors.sequential.Rainbow, zoom=3, height=800)\n",
    "# fig.update_layout(\n",
    "#     title=dict(text=f'Emodnet_Beacon_instance {parameter} {regionname} {mindate}-{maxdate} [{mindepth}-{maxdepth}m] #Points = {np.sum(df['EMODnet Water body dissolved oxygen concentration'].count())}'),\n",
    "#     mapbox_style=\"white-bg\",\n",
    "#     mapbox_layers=[\n",
    "#         {\n",
    "#             \"below\": 'traces',\n",
    "#             \"sourcetype\": \"raster\",\n",
    "#             \"sourceattribution\": \"United States Geological Survey\",\n",
    "#             \"source\": [\n",
    "#                 \"https://basemap.nationalmap.gov/arcgis/rest/services/USGSImageryOnly/MapServer/tile/{z}/{y}/{x}\"\n",
    "#             ]\n",
    "#         }\n",
    "#       ]\n",
    "#     )\n",
    "\n",
    "# fig.show()"
   ]
  },
  {
   "cell_type": "code",
   "execution_count": null,
   "id": "d2bc86fc",
   "metadata": {},
   "outputs": [],
   "source": [
    "print(min(lon))\n",
    "print(max(lon))\n",
    "print(min(lat))\n",
    "print(max(lat))"
   ]
  },
  {
   "cell_type": "code",
   "execution_count": null,
   "id": "36a15bba",
   "metadata": {},
   "outputs": [],
   "source": [
    "fig = plt.figure(figsize=(23, 18))\n",
    "ax = plt.axes(projection=ccrs.PlateCarree())\n",
    "\n",
    "ax.set_extent([-50, 10, 15, 60], crs=ccrs.PlateCarree())  # (west, east, south, north)\n",
    "\n",
    "ax.coastlines(resolution=\"10m\")\n",
    "ax.gridlines(draw_labels=True)\n",
    "\n",
    "sc = ax.scatter(df[\"LONGITUDE\"], df[\"LATITUDE\"], c=df[parameter], cmap=\"viridis\", s=15, transform=ccrs.PlateCarree())\n",
    "\n",
    "ax.add_feature(cfeature.LAND)\n",
    "ax.add_feature(cfeature.OCEAN)\n",
    "ax.add_feature(cfeature.RIVERS)     \n",
    "ax.add_feature(cfeature.BORDERS)   \n",
    "ax.add_feature(cfeature.LAKES, alpha=0.1) \n",
    "\n",
    "cbar = plt.colorbar(sc, ax=ax, orientation=\"vertical\", shrink=0.6, label=\"Value Set 1\")\n",
    "cbar.set_label(f\"{parameter} [{df[\"Unit\"].iloc[0]}]\")\n",
    "\n",
    "plt.title(f\"{parameter} {regionname} {mindate}-{maxdate} [{mindepth}-{maxdepth}m]\")\n",
    "\n",
    "plt.show()"
   ]
  },
  {
   "cell_type": "code",
   "execution_count": null,
   "id": "0059b70f",
   "metadata": {},
   "outputs": [],
   "source": []
  }
 ],
 "metadata": {
  "kernelspec": {
   "display_name": "Python 3",
   "language": "python",
   "name": "python3"
  },
  "language_info": {
   "codemirror_mode": {
    "name": "ipython",
    "version": 3
   },
   "file_extension": ".py",
   "mimetype": "text/x-python",
   "name": "python",
   "nbconvert_exporter": "python",
   "pygments_lexer": "ipython3",
   "version": "3.12.4"
  }
 },
 "nbformat": 4,
 "nbformat_minor": 5
}
