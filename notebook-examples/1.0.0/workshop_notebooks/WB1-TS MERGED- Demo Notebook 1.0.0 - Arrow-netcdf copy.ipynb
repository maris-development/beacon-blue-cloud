{
 "cells": [
  {
   "cell_type": "markdown",
   "id": "79a1fbca",
   "metadata": {},
   "source": [
    "# This is a notebook for querying the WB1 T&S instance for the 1.0.0 Beacon release.\n",
    "\n",
    "-   You can run each cell individually by pressing \"shift + enter\".\n",
    "-   For more information, questions, bugs, please contact us on Slack:\n",
    "    -   https://join.slack.com/t/beacontechnic-wwa5548/shared_invite/zt-2dp1vv56r-tj_KFac0sAKNuAgUKPPDRg.\n"
   ]
  },
  {
   "cell_type": "markdown",
   "id": "6174492b",
   "metadata": {},
   "source": [
    "#### In order to get access to the Beacon endpoint, you need to fill in your unique personal token between the \" \" in the cell below.\n"
   ]
  },
  {
   "cell_type": "code",
   "execution_count": 1,
   "id": "1b546f1b",
   "metadata": {},
   "outputs": [],
   "source": [
    "Token = \"\""
   ]
  },
  {
   "cell_type": "markdown",
   "id": "f1442c72",
   "metadata": {},
   "source": [
    "#### Install the following packages, if you have not already installed them in your environment:\n",
    "\n",
    "-   pip install requests\n",
    "-   pip install xarray\n",
    "-   pip install ipywidgets\n",
    "-   pip install cartopy\n",
    "-   pip install h5netcdf\n",
    "-   pip install netcdf4\n",
    "-   pip install scipy\n",
    "-   pip install packaging\n"
   ]
  },
  {
   "cell_type": "markdown",
   "id": "cc5d67f1",
   "metadata": {},
   "source": [
    "#### Import the required packages\n"
   ]
  },
  {
   "cell_type": "code",
   "execution_count": 2,
   "id": "72bf04d1",
   "metadata": {},
   "outputs": [],
   "source": [
    "import requests\n",
    "import json\n",
    "import xarray as xr\n",
    "import datetime\n",
    "import pandas as pd\n",
    "import os\n",
    "import cartopy.crs as ccrs\n",
    "import cartopy.feature as cfeature\n",
    "import matplotlib.pyplot as plt"
   ]
  },
  {
   "cell_type": "markdown",
   "id": "b2abf1e6",
   "metadata": {},
   "source": [
    "#### Retrieve the available columns from the WB1 Merged endpoint\n",
    "\n",
    "Swagger page here: https://beacon-wb1-ts.maris.nl/swagger/\n"
   ]
  },
  {
   "cell_type": "code",
   "execution_count": 3,
   "id": "a007ef37",
   "metadata": {},
   "outputs": [],
   "source": [
    "responseinfo = requests.get(\n",
    "    \"https://beacon-wb1-ts.maris.nl/api/query/available-columns\",\n",
    "    headers={\"Authorization\": f\"Bearer {Token}\"},\n",
    ")\n",
    "params = responseinfo.json()"
   ]
  },
  {
   "cell_type": "markdown",
   "id": "5970f5e2",
   "metadata": {},
   "source": [
    "#### Below you can search through the available columns by entering text between the brackets of search_columns(\" \").\n"
   ]
  },
  {
   "cell_type": "code",
   "execution_count": 4,
   "id": "c0cb8bc2",
   "metadata": {},
   "outputs": [
    {
     "name": "stdout",
     "output_type": "stream",
     "text": [
      "Matching columns:\n",
      "COMMON_EDMO_CODE\n",
      "COMMON_ODV_TAG\n",
      "COMMON_TIME\n",
      "COMMON_TIME_QC\n",
      "COMMON_DEPTH\n",
      "COMMON_DEPTH_P01\n",
      "COMMON_DEPTH_P06\n",
      "COMMON_DEPTH_STANDARD_NAME\n",
      "COMMON_DEPTH_UNITS\n",
      "COMMON_LONGITUDE\n",
      "COMMON_LONGITUDE_STANDARD_NAME\n",
      "COMMON_LONGITUDE_UNITS\n",
      "COMMON_LONGITUDE_P01\n",
      "COMMON_LONGITUDE_P06\n",
      "COMMON_LATITUDE_STANDARD_NAME\n",
      "COMMON_LATITUDE_UNITS\n",
      "COMMON_LATITUDE\n",
      "COMMON_LATITUDE_P01\n",
      "COMMON_LATITUDE_P06\n",
      "COMMON_POSITION_QC\n",
      "COMMON_TEMPERATURE\n",
      "COMMON_TEMPERATURE_QC\n",
      "COMMON_TEMPERATURE_P01\n",
      "COMMON_TEMPERATURE_P06\n",
      "COMMON_TEMPERATURE_STANDARD_NAME\n",
      "COMMON_TEMPERATURE_UNITS\n",
      "COMMON_SALINITY\n",
      "COMMON_SALINITY_QC\n",
      "COMMON_SALINITY_P01\n",
      "COMMON_SALINITY_P06\n",
      "COMMON_SALINITY_STANDARD_NAME\n",
      "COMMON_DEPTH_QC\n",
      "COMMON_TEMPERATURE_L22\n",
      "COMMON_SALINITY_L22\n",
      "COMMON_SALINITY_UNITS\n",
      "COMMON_TEMPERATURE_L05\n",
      "COMMON_TEMPERATURE_L06\n",
      "COMMON_TEMPERATURE_L35\n",
      "COMMON_SALINITY_L05\n",
      "COMMON_SALINITY_L06\n",
      "COMMON_SALINITY_L35\n",
      "COMMON_EDMERP_CODE\n",
      "COMMON_CSR\n",
      "COMMON_DATE_UPDATE\n",
      "COMMON_PLATFORM_L06\n",
      "COMMON_PLATFORM_B76\n",
      "COMMON_PLATFORM_C17\n",
      "COMMON_INSTRUMENT_L05\n",
      "COMMON_INSTRUMENT_L22\n"
     ]
    }
   ],
   "source": [
    "def search_columns(search_term):\n",
    "    search_term = search_term.lower()\n",
    "    matches = [col for col in params if search_term in col.lower()]\n",
    "\n",
    "    if matches:\n",
    "        print(\"Matching columns:\")\n",
    "        for match in matches:\n",
    "            print(match)\n",
    "    else:\n",
    "        print(\"No matching columns found.\")\n",
    "\n",
    "\n",
    "search_columns(\"COMMON\")  # Enter your search term here"
   ]
  },
  {
   "cell_type": "markdown",
   "id": "7be894b1",
   "metadata": {},
   "source": [
    "#### This will create the query body based on your input parameters, you can add other \"query_parameters\" and \"filters\" to suit your needs.\n",
    "\n",
    "-   For more query examples and explanations, you can take a look at https://maris-development.github.io/beacon/.\n"
   ]
  },
  {
   "cell_type": "code",
   "execution_count": 11,
   "id": "a2651c7a",
   "metadata": {},
   "outputs": [],
   "source": [
    "query = {\n",
    "    \"query_parameters\": [\n",
    "        {\n",
    "            \"column_name\": \"COMMON_TEMPERATURE\",\n",
    "        },\n",
    "        {\n",
    "            \"column_name\": \"COMMON_TEMPERATURE_QC\",\n",
    "        },\n",
    "        {\n",
    "            \"column_name\": \"COMMON_TEMPERATURE_P01\",\n",
    "        },\n",
    "        {\n",
    "            \"column_name\": \"COMMON_TEMPERATURE_P06\",\n",
    "        },\n",
    "        {\"column_name\": \"COMMON_TIME\", \"alias\": \"TIME\"},\n",
    "        {\"column_name\": \"COMMON_TIME_QC\", \"alias\": \"TIME_QC\"},\n",
    "        {\"column_name\": \"COMMON_DEPTH\"},\n",
    "        {\"column_name\": \"COMMON_DEPTH_QC\"},\n",
    "        {\"column_name\": \"COMMON_LONGITUDE\"},\n",
    "        {\"column_name\": \"COMMON_LATITUDE\"},\n",
    "        {\"column_name\": \"COMMON_POSITION_QC\"},\n",
    "        {\"column_name\": \"COMMON_EDMO_CODE\"},\n",
    "        {\"column_name\": \"SOURCE_BDI\"},\n",
    "        {\"column_name\": \"SOURCE_BDI_DATASET_ID\"},\n",
    "    ],\n",
    "    \"filters\": [\n",
    "        {\n",
    "            \"for_query_parameter\": \"TIME\",\n",
    "            \"min\": \"2003-01-01T00:00:00\",\n",
    "            \"max\": \"2003-12-01T00:00:00\",\n",
    "        },\n",
    "        {\"for_query_parameter\": \"COMMON_LONGITUDE\", \"min\": -8, \"max\": 37},\n",
    "        {\"for_query_parameter\": \"COMMON_LATITUDE\", \"min\": 30, \"max\": 46},\n",
    "        {\n",
    "            \"is_not_null\": {\"for_query_parameter\": \"COMMON_TEMPERATURE\"},\n",
    "        },\n",
    "    ],\n",
    "    \"output\": {\"format\": \"ipc\"},\n",
    "}"
   ]
  },
  {
   "cell_type": "markdown",
   "id": "db4474ce",
   "metadata": {},
   "source": [
    "#### This is the post request that is sent to Beacon with the above specified body.\n"
   ]
  },
  {
   "cell_type": "code",
   "execution_count": 12,
   "id": "4911622c",
   "metadata": {},
   "outputs": [],
   "source": [
    "response = requests.post(\n",
    "    \"https://beacon-wb1-ts.maris.nl/api/query\",\n",
    "    json.dumps(query),\n",
    "    headers={\"Authorization\": f\"Bearer {Token}\",\n",
    "             \"Content-type\": \"application/json\"},\n",
    ")\n",
    "\n",
    "if response.status_code == 204:\n",
    "    print(\n",
    "        \"No data has been found for your query, please update your input fields above and run the notebook again.\"\n",
    "    )\n",
    "elif response.status_code != 200:\n",
    "    print(response.text)"
   ]
  },
  {
   "cell_type": "code",
   "execution_count": 25,
   "id": "3f2b39d1",
   "metadata": {},
   "outputs": [
    {
     "data": {
      "text/plain": [
       "SOURCE_BDI\n",
       "BEACON-SEADATANET    3761\n",
       "BEACON-WOD           1897\n",
       "BEACON-CORA-TS       1053\n",
       "BEACON-CORA-PR        776\n",
       "BEACON-ARGO           281\n",
       "Name: count, dtype: int64"
      ]
     },
     "execution_count": 25,
     "metadata": {},
     "output_type": "execute_result"
    }
   ],
   "source": [
    "if not os.path.exists(\"./Beacon_V1.0.0_Output\"):\n",
    "    os.makedirs(\"Beacon_V1.0.0_Output\")\n",
    "\n",
    "open(\n",
    "    f\"./Beacon_V1.0.0_Output/WB1-Merged.arrow\",\n",
    "    \"wb\",\n",
    ").write(response.content)\n",
    "df = pd.read_feather(f\"./Beacon_V1.0.0_Output/WB1-Merged.arrow\")\n",
    "df = df.set_index(\"TIME\").sort_index()"
   ]
  },
  {
   "cell_type": "code",
   "execution_count": 8,
   "id": "66f99640",
   "metadata": {},
   "outputs": [],
   "source": [
    "import xarray as xr\n",
    "\n",
    "xr = df.to_xarray()\n",
    "xr.to_netcdf(f\"./Beacon_V1.0.0_Output/WB1-Merged.nc\")"
   ]
  }
 ],
 "metadata": {
  "kernelspec": {
   "display_name": "Blue-Cloud",
   "language": "python",
   "name": "python3"
  },
  "language_info": {
   "codemirror_mode": {
    "name": "ipython",
    "version": 3
   },
   "file_extension": ".py",
   "mimetype": "text/x-python",
   "name": "python",
   "nbconvert_exporter": "python",
   "pygments_lexer": "ipython3",
   "version": "3.12.2"
  }
 },
 "nbformat": 4,
 "nbformat_minor": 5
}
