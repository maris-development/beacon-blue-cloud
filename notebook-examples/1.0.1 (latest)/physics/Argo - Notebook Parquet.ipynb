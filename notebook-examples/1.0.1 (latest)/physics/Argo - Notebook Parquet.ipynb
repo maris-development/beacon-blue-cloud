{
 "cells": [
  {
   "cell_type": "markdown",
   "id": "79a1fbca",
   "metadata": {},
   "source": [
    "# This is a notebook for querying the Argo instance for the 1.0.1 Beacon release.\n",
    "\n",
    "-   You can run each cell individually by pressing \"shift + enter\".\n",
    "-   For more information, questions, bugs, please contact us on Slack:\n",
    "\n",
    "    -   https://join.slack.com/t/beacontechnic-wwa5548/shared_invite/zt-2dp1vv56r-tj_KFac0sAKNuAgUKPPDRg.\n",
    "\n",
    "-   For more information about querying Beacon, please refer to the documentation:\n",
    "    -   https://maris-development.github.io/beacon/docs/1.0.0/query-docs.html\n"
   ]
  },
  {
   "cell_type": "markdown",
   "id": "6174492b",
   "metadata": {},
   "source": [
    "#### In order to get access to the Beacon endpoint, you need to fill in your unique personal token between the \" \" in the cell below.\n"
   ]
  },
  {
   "cell_type": "code",
   "execution_count": null,
   "id": "1b546f1b",
   "metadata": {},
   "outputs": [],
   "source": [
    "Token = \" \""
   ]
  },
  {
   "cell_type": "markdown",
   "id": "f1442c72",
   "metadata": {},
   "source": [
    "#### Install the following packages, if you have not already installed them in your environment:\n",
    "\n",
    "-   pip install requests\n",
    "-   pip install xarray\n",
    "-   pip install ipywidgets\n",
    "-   pip install cartopy\n",
    "-   pip install h5netcdf\n",
    "-   pip install netcdf4\n",
    "-   pip install scipy\n",
    "-   pip install packaging\n"
   ]
  },
  {
   "cell_type": "markdown",
   "id": "cc5d67f1",
   "metadata": {},
   "source": [
    "#### Import the required packages\n"
   ]
  },
  {
   "cell_type": "code",
   "execution_count": null,
   "id": "72bf04d1",
   "metadata": {},
   "outputs": [],
   "source": [
    "import requests\n",
    "import json\n",
    "import xarray as xr\n",
    "import datetime\n",
    "import pandas as pd\n",
    "import os\n",
    "import cartopy.crs as ccrs\n",
    "import cartopy.feature as cfeature\n",
    "import matplotlib.pyplot as plt"
   ]
  },
  {
   "cell_type": "markdown",
   "id": "65d11655",
   "metadata": {},
   "source": [
    "### Beacon Status Check\n"
   ]
  },
  {
   "cell_type": "code",
   "execution_count": null,
   "id": "d98889cd",
   "metadata": {},
   "outputs": [],
   "source": [
    "response = requests.get(\n",
    "    \"https://beacon-argo.maris.nl/api/health\",\n",
    "    headers={\"Authorization\": f\"Bearer {Token}\"},\n",
    ")\n",
    "if response.status_code == 200:\n",
    "    print(\"Beacon is up and running.\")\n",
    "else:\n",
    "    print(\"Beacon is down or not reachable.\")\n",
    "    exit()"
   ]
  },
  {
   "cell_type": "markdown",
   "id": "b2abf1e6",
   "metadata": {},
   "source": [
    "#### Retrieve the available columns from the Argo endpoint\n",
    "\n",
    "Swagger page here: https://beacon-argo.maris.nl/swagger/\n"
   ]
  },
  {
   "cell_type": "code",
   "execution_count": null,
   "id": "a007ef37",
   "metadata": {},
   "outputs": [],
   "source": [
    "responseinfo = requests.get(\n",
    "    \"https://beacon-argo.maris.nl/api/query/available-columns\",\n",
    "    headers={\"Authorization\": f\"Bearer {Token}\"},\n",
    ")\n",
    "params = responseinfo.json()"
   ]
  },
  {
   "cell_type": "markdown",
   "id": "5970f5e2",
   "metadata": {},
   "source": [
    "#### Below you can search through the available columns by entering text between the brackets of search_columns(\" \").\n"
   ]
  },
  {
   "cell_type": "code",
   "execution_count": null,
   "id": "c0cb8bc2",
   "metadata": {},
   "outputs": [],
   "source": [
    "def search_columns(search_term):\n",
    "    search_term = search_term.lower()\n",
    "    matches = [col for col in params if search_term in col.lower()]\n",
    "\n",
    "    if matches:\n",
    "        print(\"Matching columns:\")\n",
    "        for match in matches:\n",
    "            print(match)\n",
    "    else:\n",
    "        print(\"No matching columns found.\")\n",
    "\n",
    "\n",
    "search_columns(\"psal\")  # Enter your search term here"
   ]
  },
  {
   "cell_type": "markdown",
   "id": "22af0644",
   "metadata": {},
   "source": [
    "#### You can define here your input parameters\n"
   ]
  },
  {
   "cell_type": "code",
   "execution_count": null,
   "id": "dc012e01",
   "metadata": {},
   "outputs": [],
   "source": [
    "parameter = \"PSAL\"  # column name\n",
    "mindate = \"2010-01-01\"  # yyyy-mm-dd\n",
    "maxdate = \"2011-01-01\"  # yyyy-mm-dd\n",
    "minlon = -180\n",
    "maxlon = 180\n",
    "minlat = -90\n",
    "maxlat = 90\n",
    "mindepth = 0\n",
    "maxdepth = 10"
   ]
  },
  {
   "cell_type": "markdown",
   "id": "7be894b1",
   "metadata": {},
   "source": [
    "#### This will create the query body based on your input parameters, you can add other \"query_parameters\" and \"filters\" to suit your needs.\n",
    "\n",
    "-   For more query examples and explanations, you can take a look at https://maris-development.github.io/beacon/.\n"
   ]
  },
  {
   "cell_type": "code",
   "execution_count": null,
   "id": "a2651c7a",
   "metadata": {},
   "outputs": [],
   "source": [
    "def query(\n",
    "    parameter, mindate, maxdate, minlon, maxlon, minlat, maxlat, mindepth, maxdepth\n",
    "):\n",
    "    body = {\n",
    "        \"query_parameters\": [\n",
    "            {\"column_name\": parameter, \"alias\": parameter, \"skip_fill_values\": True},\n",
    "            {\"column_name\": f\"{parameter}.units\", \"alias\": \"Unit\"},\n",
    "            {\"column_name\": \"cf_datetime\", \"alias\": \"datetime\"},\n",
    "            {\"column_name\": \"PRES\", \"alias\": \"DEPTH\"},\n",
    "            {\"column_name\": \"LONGITUDE\", \"alias\": \"LONGITUDE\"},\n",
    "            {\"column_name\": \"LATITUDE\", \"alias\": \"LATITUDE\"},\n",
    "        ],\n",
    "        \"filters\": [\n",
    "            {\n",
    "                \"for_query_parameter\": \"datetime\",\n",
    "                \"min\": f\"{mindate}T00:00:00\",\n",
    "                \"max\": f\"{maxdate}T00:00:00\"\n",
    "            },\n",
    "            {\"for_query_parameter\": \"DEPTH\", \"min\": mindepth, \"max\": maxdepth},\n",
    "            {\"for_query_parameter\": \"LONGITUDE\", \"min\": minlon, \"max\": maxlon},\n",
    "            {\"for_query_parameter\": \"LATITUDE\", \"min\": minlat, \"max\": maxlat},\n",
    "        ],\n",
    "        \"output\": {\"format\": \"parquet\"},\n",
    "    }\n",
    "    return body\n",
    "\n",
    "\n",
    "query_body = query(\n",
    "    parameter, mindate, maxdate, minlon, maxlon, minlat, maxlat, mindepth, maxdepth\n",
    ")"
   ]
  },
  {
   "cell_type": "markdown",
   "id": "db4474ce",
   "metadata": {},
   "source": [
    "#### This is the post request that is sent to Beacon with the above specified body.\n"
   ]
  },
  {
   "cell_type": "code",
   "execution_count": null,
   "id": "4911622c",
   "metadata": {},
   "outputs": [],
   "source": [
    "response = requests.post(\n",
    "    \"https://beacon-argo.maris.nl/api/query\",\n",
    "    json.dumps(query_body),\n",
    "    headers={\"Authorization\": f\"Bearer {Token}\", \"Content-type\": \"application/json\"},\n",
    ")\n",
    "\n",
    "if response.status_code == 204:\n",
    "    print(\n",
    "        \"No data has been found for your query, please update your input fields above and run the notebook again.\"\n",
    "    )\n",
    "elif response.status_code != 200:\n",
    "    print(response.text)"
   ]
  },
  {
   "cell_type": "code",
   "execution_count": null,
   "id": "3f2b39d1",
   "metadata": {},
   "outputs": [],
   "source": [
    "regionname = f\"[{minlat},{minlon}],[{maxlat},{maxlon}]\"\n",
    "\n",
    "if not os.path.exists(\"./Beacon_V1.0.0_Output\"):\n",
    "    os.makedirs(\"Beacon_V1.0.0_Output\")\n",
    "\n",
    "open(\n",
    "    f\"./Beacon_V1.0.0_Output/Argo_{parameter}_{regionname}_{mindate}-{maxdate}_[{mindepth}-{maxdepth}m].nc\",\n",
    "    \"wb\",\n",
    ").write(response.content)\n",
    "df = xr.open_dataset(\n",
    "    f\"./Beacon_V1.0.0_Output/Argo_{parameter}_{regionname}_{mindate}-{maxdate}_[{mindepth}-{maxdepth}m].nc\"\n",
    ").to_dataframe()\n",
    "df = (\n",
    "    df.assign(datetime=pd.to_datetime(df[\"datetime\"]))\n",
    "    .set_index(\"datetime\")\n",
    "    .sort_index()\n",
    ")\n",
    "df"
   ]
  },
  {
   "cell_type": "markdown",
   "id": "361b41f7",
   "metadata": {},
   "source": [
    "#### Optionally apply a filter on your parameter for quick removal of outliers. Note that this can also be achieved within your Beacon request by applying a filter on your parameter.\n"
   ]
  },
  {
   "cell_type": "code",
   "execution_count": null,
   "id": "ca0f6a5c",
   "metadata": {},
   "outputs": [],
   "source": [
    "highbound = 40\n",
    "lowbound = 20\n",
    "df = df.loc[(df[f\"{parameter}\"] < highbound) & (df[f\"{parameter}\"] > lowbound)]\n",
    "df"
   ]
  },
  {
   "cell_type": "markdown",
   "id": "466ef865",
   "metadata": {},
   "source": [
    "#### Plotting of results\n"
   ]
  },
  {
   "cell_type": "code",
   "execution_count": null,
   "id": "36a15bba",
   "metadata": {},
   "outputs": [],
   "source": [
    "fig = plt.figure(figsize=(23, 18))\n",
    "ax = plt.axes(projection=ccrs.PlateCarree())\n",
    "\n",
    "ax.set_extent(\n",
    "    [-180, 180, -90, 90], crs=ccrs.PlateCarree()\n",
    ")  # (west, east, south, north)\n",
    "\n",
    "ax.coastlines(resolution=\"10m\")\n",
    "ax.gridlines(draw_labels=True)\n",
    "\n",
    "sc = ax.scatter(\n",
    "    df[\"LONGITUDE\"],\n",
    "    df[\"LATITUDE\"],\n",
    "    c=df[parameter],\n",
    "    cmap=\"viridis\",\n",
    "    s=15,\n",
    "    transform=ccrs.PlateCarree(),\n",
    ")\n",
    "\n",
    "ax.add_feature(cfeature.LAND)\n",
    "ax.add_feature(cfeature.OCEAN)\n",
    "ax.add_feature(cfeature.RIVERS)\n",
    "ax.add_feature(cfeature.BORDERS)\n",
    "ax.add_feature(cfeature.LAKES, alpha=0.1)\n",
    "\n",
    "cbar = plt.colorbar(sc, ax=ax, orientation=\"vertical\", shrink=0.6, label=\"Value Set 1\")\n",
    "cbar.set_label(f\"{parameter} [{df[\"Unit\"].iloc[0]}]\")\n",
    "\n",
    "plt.title(f\"{parameter} {regionname} {mindate}-{maxdate} [{mindepth}-{maxdepth}m]\")\n",
    "\n",
    "plt.show()"
   ]
  }
 ],
 "metadata": {
  "kernelspec": {
   "display_name": "Blue-Cloud",
   "language": "python",
   "name": "python3"
  },
  "language_info": {
   "codemirror_mode": {
    "name": "ipython",
    "version": 3
   },
   "file_extension": ".py",
   "mimetype": "text/x-python",
   "name": "python",
   "nbconvert_exporter": "python",
   "pygments_lexer": "ipython3",
   "version": "3.12.2"
  }
 },
 "nbformat": 4,
 "nbformat_minor": 5
}
