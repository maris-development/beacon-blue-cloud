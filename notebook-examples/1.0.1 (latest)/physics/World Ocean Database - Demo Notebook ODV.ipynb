{
 "cells": [
  {
   "cell_type": "markdown",
   "id": "79a1fbca",
   "metadata": {},
   "source": [
    "# This is a notebook for querying the World Ocean Database instance for the 1.0.0 Beacon release.\n",
    "\n",
    "-   You can run each cell individually by pressing \"shift + enter\".\n",
    "-   For more information, questions, bugs, please contact us on Slack:\n",
    "    -   https://join.slack.com/t/beacontechnic-wwa5548/shared_invite/zt-2dp1vv56r-tj_KFac0sAKNuAgUKPPDRg.\n",
    "\n",
    "# Documentation for querying Beacon can be found here:\n",
    "\n",
    "-   https://maris-development.github.io/beacon/docs/1.0.1/query-docs/querying/json.html\n"
   ]
  },
  {
   "cell_type": "markdown",
   "id": "6174492b",
   "metadata": {},
   "source": [
    "#### In order to get access to the Beacon endpoint, you need to fill in your unique personal token between the \" \" in the cell below.\n"
   ]
  },
  {
   "cell_type": "code",
   "execution_count": null,
   "id": "1b546f1b",
   "metadata": {},
   "outputs": [],
   "source": [
    "TOKEN = \"\"\n",
    "BEACON_INSTANCE_URL = \"https://beacon-wod.maris.nl\""
   ]
  },
  {
   "cell_type": "code",
   "execution_count": 12,
   "id": "cdfddce5",
   "metadata": {},
   "outputs": [
    {
     "name": "stdout",
     "output_type": "stream",
     "text": [
      "Requirement already satisfied: requests in c:\\python\\lib\\site-packages (2.27.1)\n",
      "Requirement already satisfied: certifi>=2017.4.17 in c:\\python\\lib\\site-packages (from requests) (2021.10.8)\n",
      "Requirement already satisfied: urllib3<1.27,>=1.21.1 in c:\\python\\lib\\site-packages (from requests) (1.26.9)\n",
      "Requirement already satisfied: charset-normalizer~=2.0.0 in c:\\python\\lib\\site-packages (from requests) (2.0.12)\n",
      "Requirement already satisfied: idna<4,>=2.5 in c:\\python\\lib\\site-packages (from requests) (3.3)\n",
      "Note: you may need to restart the kernel to use updated packages.\n"
     ]
    },
    {
     "name": "stderr",
     "output_type": "stream",
     "text": [
      "WARNING: Ignoring invalid distribution -ffi (c:\\python\\lib\\site-packages)\n",
      "WARNING: Ignoring invalid distribution -ffi (c:\\python\\lib\\site-packages)\n",
      "WARNING: Ignoring invalid distribution -ffi (c:\\python\\lib\\site-packages)\n",
      "WARNING: Ignoring invalid distribution -ffi (c:\\python\\lib\\site-packages)\n",
      "WARNING: Ignoring invalid distribution -ffi (c:\\python\\lib\\site-packages)\n",
      "WARNING: Ignoring invalid distribution -ffi (c:\\python\\lib\\site-packages)\n",
      "\n",
      "[notice] A new release of pip available: 22.3.1 -> 25.1.1\n",
      "[notice] To update, run: python.exe -m pip install --upgrade pip\n"
     ]
    },
    {
     "name": "stdout",
     "output_type": "stream",
     "text": [
      "Requirement already satisfied: pandas in c:\\python\\lib\\site-packages (2.2.2)\n",
      "Requirement already satisfied: numpy>=1.22.4 in c:\\python\\lib\\site-packages (from pandas) (1.24.4)\n",
      "Requirement already satisfied: pytz>=2020.1 in c:\\python\\lib\\site-packages (from pandas) (2021.3)\n",
      "Requirement already satisfied: python-dateutil>=2.8.2 in c:\\python\\lib\\site-packages (from pandas) (2.8.2)\n",
      "Requirement already satisfied: tzdata>=2022.7 in c:\\python\\lib\\site-packages (from pandas) (2024.1)\n",
      "Requirement already satisfied: six>=1.5 in c:\\python\\lib\\site-packages (from python-dateutil>=2.8.2->pandas) (1.16.0)\n",
      "Note: you may need to restart the kernel to use updated packages.\n"
     ]
    },
    {
     "name": "stderr",
     "output_type": "stream",
     "text": [
      "WARNING: Ignoring invalid distribution -ffi (c:\\python\\lib\\site-packages)\n",
      "WARNING: Ignoring invalid distribution -ffi (c:\\python\\lib\\site-packages)\n",
      "WARNING: Ignoring invalid distribution -ffi (c:\\python\\lib\\site-packages)\n",
      "WARNING: Ignoring invalid distribution -ffi (c:\\python\\lib\\site-packages)\n",
      "WARNING: Ignoring invalid distribution -ffi (c:\\python\\lib\\site-packages)\n",
      "WARNING: Ignoring invalid distribution -ffi (c:\\python\\lib\\site-packages)\n",
      "\n",
      "[notice] A new release of pip available: 22.3.1 -> 25.1.1\n",
      "[notice] To update, run: python.exe -m pip install --upgrade pip\n"
     ]
    },
    {
     "name": "stdout",
     "output_type": "stream",
     "text": [
      "Requirement already satisfied: matplotlib in c:\\python\\lib\\site-packages (3.8.3)\n",
      "Requirement already satisfied: pillow>=8 in c:\\python\\lib\\site-packages (from matplotlib) (10.2.0)\n",
      "Requirement already satisfied: kiwisolver>=1.3.1 in c:\\python\\lib\\site-packages (from matplotlib) (1.4.5)\n",
      "Requirement already satisfied: pyparsing>=2.3.1 in c:\\python\\lib\\site-packages (from matplotlib) (3.0.7)\n",
      "Requirement already satisfied: cycler>=0.10 in c:\\python\\lib\\site-packages (from matplotlib) (0.12.1)\n",
      "Requirement already satisfied: fonttools>=4.22.0 in c:\\python\\lib\\site-packages (from matplotlib) (4.49.0)\n",
      "Requirement already satisfied: python-dateutil>=2.7 in c:\\python\\lib\\site-packages (from matplotlib) (2.8.2)\n",
      "Requirement already satisfied: numpy<2,>=1.21 in c:\\python\\lib\\site-packages (from matplotlib) (1.24.4)\n",
      "Requirement already satisfied: packaging>=20.0 in c:\\python\\lib\\site-packages (from matplotlib) (24.0)\n",
      "Requirement already satisfied: contourpy>=1.0.1 in c:\\python\\lib\\site-packages (from matplotlib) (1.2.0)\n",
      "Requirement already satisfied: six>=1.5 in c:\\python\\lib\\site-packages (from python-dateutil>=2.7->matplotlib) (1.16.0)\n",
      "Note: you may need to restart the kernel to use updated packages.\n"
     ]
    },
    {
     "name": "stderr",
     "output_type": "stream",
     "text": [
      "WARNING: Ignoring invalid distribution -ffi (c:\\python\\lib\\site-packages)\n",
      "WARNING: Ignoring invalid distribution -ffi (c:\\python\\lib\\site-packages)\n",
      "WARNING: Ignoring invalid distribution -ffi (c:\\python\\lib\\site-packages)\n",
      "WARNING: Ignoring invalid distribution -ffi (c:\\python\\lib\\site-packages)\n",
      "WARNING: Ignoring invalid distribution -ffi (c:\\python\\lib\\site-packages)\n",
      "WARNING: Ignoring invalid distribution -ffi (c:\\python\\lib\\site-packages)\n",
      "\n",
      "[notice] A new release of pip available: 22.3.1 -> 25.1.1\n",
      "[notice] To update, run: python.exe -m pip install --upgrade pip\n"
     ]
    },
    {
     "name": "stdout",
     "output_type": "stream",
     "text": [
      "Requirement already satisfied: xarray in c:\\python\\lib\\site-packages (2024.3.0)\n",
      "Requirement already satisfied: pandas>=1.5 in c:\\python\\lib\\site-packages (from xarray) (2.2.2)\n",
      "Requirement already satisfied: numpy>=1.23 in c:\\python\\lib\\site-packages (from xarray) (1.24.4)\n",
      "Requirement already satisfied: packaging>=22 in c:\\python\\lib\\site-packages (from xarray) (24.0)\n",
      "Requirement already satisfied: pytz>=2020.1 in c:\\python\\lib\\site-packages (from pandas>=1.5->xarray) (2021.3)\n",
      "Requirement already satisfied: python-dateutil>=2.8.2 in c:\\python\\lib\\site-packages (from pandas>=1.5->xarray) (2.8.2)\n",
      "Requirement already satisfied: tzdata>=2022.7 in c:\\python\\lib\\site-packages (from pandas>=1.5->xarray) (2024.1)\n",
      "Requirement already satisfied: six>=1.5 in c:\\python\\lib\\site-packages (from python-dateutil>=2.8.2->pandas>=1.5->xarray) (1.16.0)\n",
      "Note: you may need to restart the kernel to use updated packages.\n"
     ]
    },
    {
     "name": "stderr",
     "output_type": "stream",
     "text": [
      "WARNING: Ignoring invalid distribution -ffi (c:\\python\\lib\\site-packages)\n",
      "WARNING: Ignoring invalid distribution -ffi (c:\\python\\lib\\site-packages)\n",
      "WARNING: Ignoring invalid distribution -ffi (c:\\python\\lib\\site-packages)\n",
      "WARNING: Ignoring invalid distribution -ffi (c:\\python\\lib\\site-packages)\n",
      "WARNING: Ignoring invalid distribution -ffi (c:\\python\\lib\\site-packages)\n",
      "WARNING: Ignoring invalid distribution -ffi (c:\\python\\lib\\site-packages)\n",
      "\n",
      "[notice] A new release of pip available: 22.3.1 -> 25.1.1\n",
      "[notice] To update, run: python.exe -m pip install --upgrade pip\n"
     ]
    },
    {
     "name": "stdout",
     "output_type": "stream",
     "text": [
      "Requirement already satisfied: netCDF4 in c:\\python\\lib\\site-packages (1.5.8)\n",
      "Requirement already satisfied: numpy>=1.9 in c:\\python\\lib\\site-packages (from netCDF4) (1.24.4)\n",
      "Requirement already satisfied: cftime in c:\\python\\lib\\site-packages (from netCDF4) (1.6.0)\n",
      "Note: you may need to restart the kernel to use updated packages.\n"
     ]
    },
    {
     "name": "stderr",
     "output_type": "stream",
     "text": [
      "WARNING: Ignoring invalid distribution -ffi (c:\\python\\lib\\site-packages)\n",
      "WARNING: Ignoring invalid distribution -ffi (c:\\python\\lib\\site-packages)\n",
      "WARNING: Ignoring invalid distribution -ffi (c:\\python\\lib\\site-packages)\n",
      "WARNING: Ignoring invalid distribution -ffi (c:\\python\\lib\\site-packages)\n",
      "WARNING: Ignoring invalid distribution -ffi (c:\\python\\lib\\site-packages)\n",
      "WARNING: Ignoring invalid distribution -ffi (c:\\python\\lib\\site-packages)\n",
      "\n",
      "[notice] A new release of pip available: 22.3.1 -> 25.1.1\n",
      "[notice] To update, run: python.exe -m pip install --upgrade pip\n"
     ]
    },
    {
     "name": "stdout",
     "output_type": "stream",
     "text": [
      "Requirement already satisfied: pandas in c:\\python\\lib\\site-packages (2.2.2)\n",
      "Requirement already satisfied: python-dateutil>=2.8.2 in c:\\python\\lib\\site-packages (from pandas) (2.8.2)\n",
      "Requirement already satisfied: pytz>=2020.1 in c:\\python\\lib\\site-packages (from pandas) (2021.3)\n",
      "Requirement already satisfied: numpy>=1.22.4 in c:\\python\\lib\\site-packages (from pandas) (1.24.4)\n",
      "Requirement already satisfied: tzdata>=2022.7 in c:\\python\\lib\\site-packages (from pandas) (2024.1)\n",
      "Requirement already satisfied: six>=1.5 in c:\\python\\lib\\site-packages (from python-dateutil>=2.8.2->pandas) (1.16.0)\n",
      "Note: you may need to restart the kernel to use updated packages.\n"
     ]
    },
    {
     "name": "stderr",
     "output_type": "stream",
     "text": [
      "WARNING: Ignoring invalid distribution -ffi (c:\\python\\lib\\site-packages)\n",
      "WARNING: Ignoring invalid distribution -ffi (c:\\python\\lib\\site-packages)\n",
      "WARNING: Ignoring invalid distribution -ffi (c:\\python\\lib\\site-packages)\n",
      "WARNING: Ignoring invalid distribution -ffi (c:\\python\\lib\\site-packages)\n",
      "WARNING: Ignoring invalid distribution -ffi (c:\\python\\lib\\site-packages)\n",
      "WARNING: Ignoring invalid distribution -ffi (c:\\python\\lib\\site-packages)\n",
      "\n",
      "[notice] A new release of pip available: 22.3.1 -> 25.1.1\n",
      "[notice] To update, run: python.exe -m pip install --upgrade pip\n"
     ]
    },
    {
     "name": "stdout",
     "output_type": "stream",
     "text": [
      "Requirement already satisfied: cartopy in c:\\python\\lib\\site-packages (0.24.1)\n",
      "Requirement already satisfied: packaging>=21 in c:\\python\\lib\\site-packages (from cartopy) (24.0)\n",
      "Requirement already satisfied: matplotlib>=3.6 in c:\\python\\lib\\site-packages (from cartopy) (3.8.3)\n",
      "Requirement already satisfied: shapely>=1.8 in c:\\python\\lib\\site-packages (from cartopy) (2.0.6)\n",
      "Requirement already satisfied: pyshp>=2.3 in c:\\python\\lib\\site-packages (from cartopy) (2.3.1)\n",
      "Requirement already satisfied: numpy>=1.23 in c:\\python\\lib\\site-packages (from cartopy) (1.24.4)\n",
      "Requirement already satisfied: pyproj>=3.3.1 in c:\\python\\lib\\site-packages (from cartopy) (3.6.1)\n",
      "Requirement already satisfied: fonttools>=4.22.0 in c:\\python\\lib\\site-packages (from matplotlib>=3.6->cartopy) (4.49.0)\n",
      "Requirement already satisfied: pyparsing>=2.3.1 in c:\\python\\lib\\site-packages (from matplotlib>=3.6->cartopy) (3.0.7)\n",
      "Requirement already satisfied: python-dateutil>=2.7 in c:\\python\\lib\\site-packages (from matplotlib>=3.6->cartopy) (2.8.2)\n",
      "Requirement already satisfied: kiwisolver>=1.3.1 in c:\\python\\lib\\site-packages (from matplotlib>=3.6->cartopy) (1.4.5)\n",
      "Requirement already satisfied: pillow>=8 in c:\\python\\lib\\site-packages (from matplotlib>=3.6->cartopy) (10.2.0)\n",
      "Requirement already satisfied: cycler>=0.10 in c:\\python\\lib\\site-packages (from matplotlib>=3.6->cartopy) (0.12.1)\n",
      "Requirement already satisfied: contourpy>=1.0.1 in c:\\python\\lib\\site-packages (from matplotlib>=3.6->cartopy) (1.2.0)\n",
      "Requirement already satisfied: certifi in c:\\python\\lib\\site-packages (from pyproj>=3.3.1->cartopy) (2021.10.8)\n",
      "Requirement already satisfied: six>=1.5 in c:\\python\\lib\\site-packages (from python-dateutil>=2.7->matplotlib>=3.6->cartopy) (1.16.0)\n",
      "Note: you may need to restart the kernel to use updated packages.\n"
     ]
    },
    {
     "name": "stderr",
     "output_type": "stream",
     "text": [
      "WARNING: Ignoring invalid distribution -ffi (c:\\python\\lib\\site-packages)\n",
      "WARNING: Ignoring invalid distribution -ffi (c:\\python\\lib\\site-packages)\n",
      "WARNING: Ignoring invalid distribution -ffi (c:\\python\\lib\\site-packages)\n",
      "WARNING: Ignoring invalid distribution -ffi (c:\\python\\lib\\site-packages)\n",
      "WARNING: Ignoring invalid distribution -ffi (c:\\python\\lib\\site-packages)\n",
      "WARNING: Ignoring invalid distribution -ffi (c:\\python\\lib\\site-packages)\n",
      "\n",
      "[notice] A new release of pip available: 22.3.1 -> 25.1.1\n",
      "[notice] To update, run: python.exe -m pip install --upgrade pip\n"
     ]
    },
    {
     "name": "stdout",
     "output_type": "stream",
     "text": [
      "Requirement already satisfied: scipy in c:\\python\\lib\\site-packages (1.8.0)\n",
      "Requirement already satisfied: numpy<1.25.0,>=1.17.3 in c:\\python\\lib\\site-packages (from scipy) (1.24.4)\n",
      "Note: you may need to restart the kernel to use updated packages.\n"
     ]
    },
    {
     "name": "stderr",
     "output_type": "stream",
     "text": [
      "WARNING: Ignoring invalid distribution -ffi (c:\\python\\lib\\site-packages)\n",
      "WARNING: Ignoring invalid distribution -ffi (c:\\python\\lib\\site-packages)\n",
      "WARNING: Ignoring invalid distribution -ffi (c:\\python\\lib\\site-packages)\n",
      "WARNING: Ignoring invalid distribution -ffi (c:\\python\\lib\\site-packages)\n",
      "WARNING: Ignoring invalid distribution -ffi (c:\\python\\lib\\site-packages)\n",
      "WARNING: Ignoring invalid distribution -ffi (c:\\python\\lib\\site-packages)\n",
      "\n",
      "[notice] A new release of pip available: 22.3.1 -> 25.1.1\n",
      "[notice] To update, run: python.exe -m pip install --upgrade pip\n"
     ]
    },
    {
     "name": "stdout",
     "output_type": "stream",
     "text": [
      "Note: you may need to restart the kernel to use updated packages.Requirement already satisfied: pyarrow in c:\\python\\lib\\site-packages (19.0.1)\n",
      "\n"
     ]
    },
    {
     "name": "stderr",
     "output_type": "stream",
     "text": [
      "WARNING: Ignoring invalid distribution -ffi (c:\\python\\lib\\site-packages)\n",
      "WARNING: Ignoring invalid distribution -ffi (c:\\python\\lib\\site-packages)\n",
      "WARNING: Ignoring invalid distribution -ffi (c:\\python\\lib\\site-packages)\n",
      "WARNING: Ignoring invalid distribution -ffi (c:\\python\\lib\\site-packages)\n",
      "WARNING: Ignoring invalid distribution -ffi (c:\\python\\lib\\site-packages)\n",
      "WARNING: Ignoring invalid distribution -ffi (c:\\python\\lib\\site-packages)\n",
      "\n",
      "[notice] A new release of pip available: 22.3.1 -> 25.1.1\n",
      "[notice] To update, run: python.exe -m pip install --upgrade pip\n"
     ]
    }
   ],
   "source": [
    "# Installing the required libraries\n",
    "%pip install requests\n",
    "%pip install pandas\n",
    "%pip install matplotlib\n",
    "%pip install xarray\n",
    "%pip install netCDF4\n",
    "%pip install pandas\n",
    "%pip install --upgrade cartopy\n",
    "%pip install scipy\n",
    "%pip install pyarrow"
   ]
  },
  {
   "cell_type": "markdown",
   "id": "cc5d67f1",
   "metadata": {},
   "source": [
    "#### Import the required packages\n"
   ]
  },
  {
   "cell_type": "code",
   "execution_count": 13,
   "id": "72bf04d1",
   "metadata": {},
   "outputs": [],
   "source": [
    "import requests\n",
    "import json\n",
    "from io import BytesIO\n",
    "import xarray as xr\n",
    "import datetime\n",
    "import pandas as pd\n",
    "import os\n",
    "import cartopy.crs as ccrs\n",
    "import cartopy.feature as cfeature\n",
    "import matplotlib.pyplot as plt\n",
    "import warnings"
   ]
  },
  {
   "cell_type": "markdown",
   "id": "206f0e32",
   "metadata": {},
   "source": [
    "### Beacon Status Check\n"
   ]
  },
  {
   "cell_type": "code",
   "execution_count": 14,
   "id": "36086cd6",
   "metadata": {},
   "outputs": [
    {
     "name": "stdout",
     "output_type": "stream",
     "text": [
      "Beacon is up and running.\n"
     ]
    }
   ],
   "source": [
    "response = requests.get(\n",
    "    f\"{BEACON_INSTANCE_URL}/api/health\",\n",
    "    headers={\"Authorization\": f\"Bearer {TOKEN}\"},\n",
    ")\n",
    "if response.status_code == 200:\n",
    "    print(\"Beacon is up and running.\")\n",
    "else:\n",
    "    print(\"Beacon is down or not reachable.\")\n",
    "    exit()"
   ]
  },
  {
   "cell_type": "code",
   "execution_count": 15,
   "id": "a007ef37",
   "metadata": {},
   "outputs": [],
   "source": [
    "responseinfo = requests.get(f\"{BEACON_INSTANCE_URL}/api/query/available-columns\", headers = {\"Authorization\" : f\"Bearer {TOKEN}\"}) \n",
    "params = responseinfo.json()"
   ]
  },
  {
   "cell_type": "markdown",
   "id": "5970f5e2",
   "metadata": {},
   "source": [
    "#### Below you can search through the available columns by entering text between the brackets of search_columns(\" \").\n"
   ]
  },
  {
   "cell_type": "code",
   "execution_count": 21,
   "id": "c0cb8bc2",
   "metadata": {},
   "outputs": [
    {
     "name": "stdout",
     "output_type": "stream",
     "text": [
      "Matching columns:\n",
      "time\n",
      "time.standard_name\n",
      "time.long_name\n",
      "time.units\n",
      "time.axis\n",
      "GMT_time\n",
      "GMT_time.long_name\n",
      "real_time\n",
      "real_time.long_name\n",
      "real_time.comment\n",
      "GMT_sample_start_time\n",
      "GMT_sample_start_time.long_name\n",
      "GMT_sample_start_time.units\n",
      "GMT_sample_start_time.comment\n",
      "PrimaryProd_Incubation Time\n",
      "PrimaryProd_Incubation Time.units\n",
      "PrimaryProd_Incubation Time.comment\n",
      "I_Incubation_time\n",
      "I_Incubation_time.long_name\n",
      "I_Incubation_time.comment\n",
      "I_start_time\n",
      "I_start_time.long_name\n",
      "I_start_time.units\n",
      "I_start_time.comment\n",
      "Chlorophyll_Incubation Time\n",
      "Chlorophyll_Incubation Time.units\n",
      "Chlorophyll_Incubation Time.comment\n"
     ]
    }
   ],
   "source": [
    "def search_columns(search_term):\n",
    "    search_term = search_term.lower()\n",
    "    matches = [col for col in params if search_term in col.lower()]\n",
    "    \n",
    "    if matches:\n",
    "        print(\"Matching columns:\")\n",
    "        for match in matches:\n",
    "            print(match)\n",
    "    else:\n",
    "        print(\"No matching columns found.\")\n",
    "\n",
    "search_columns(\"time\") #Enter your search term here"
   ]
  },
  {
   "cell_type": "markdown",
   "id": "22af0644",
   "metadata": {},
   "source": [
    "#### You can define here your input parameters\n"
   ]
  },
  {
   "cell_type": "code",
   "execution_count": 22,
   "id": "dc012e01",
   "metadata": {},
   "outputs": [],
   "source": [
    "parameter = \"Temperature\" #column name \n",
    "mindate = \"2010-01-01\" #yyyy-mm-dd\n",
    "maxdate = \"2010-03-01\" #yyyy-mm-dd\n",
    "minlon = -180\n",
    "maxlon = 180\n",
    "minlat = -90\n",
    "maxlat = 90\n",
    "mindepth = 0\n",
    "maxdepth = 500\n",
    "\n",
    "create_netcdf = True #True or False\n",
    "create_parquet = True #True or False"
   ]
  },
  {
   "cell_type": "markdown",
   "id": "7be894b1",
   "metadata": {},
   "source": [
    "#### This will create the query body based on your input parameters, you can add other \"query_parameters\" and \"filters\" to suit your needs.\n",
    "\n",
    "-   For more query examples and explanations, you can take a look at https://maris-development.github.io/beacon/.\n"
   ]
  },
  {
   "cell_type": "code",
   "execution_count": 23,
   "id": "a2651c7a",
   "metadata": {},
   "outputs": [],
   "source": [
    "query = {\n",
    "    \"query_parameters\": [\n",
    "            {\n",
    "                \"column_name\": parameter,\n",
    "                \"alias\": parameter,\n",
    "            },\n",
    "            {\n",
    "                \"column_name\": f\"{parameter}_WODflag\",\n",
    "                \"alias\": f\"{parameter}_QC\",\n",
    "            },\n",
    "            {\n",
    "                \"column_name\": \"time\",\n",
    "                \"alias\": \"time_ISO8601\",\n",
    "            },\n",
    "            {\n",
    "                \"column_name\": \"z\",\n",
    "                \"alias\": \"Depth [m]\"\n",
    "            },\n",
    "            {\n",
    "                \"column_name\": \"z_WODflag\",\n",
    "                \"alias\": \"DEPTH_QC\"\n",
    "            },\n",
    "            {\n",
    "                \"column_name\": \"lon\",\n",
    "                \"alias\": \"LONGITUDE\"\n",
    "            },\n",
    "            {\n",
    "                \"column_name\": \"lat\",\n",
    "                \"alias\": \"LATITUDE\"\n",
    "            },\n",
    "            {\n",
    "                \"column_name\": \"dataset\",\n",
    "                \"alias\": \"dataset\",\n",
    "            },\n",
    "            {\n",
    "                \"column_name\": \"@identifier\",\n",
    "                \"alias\": \"file_name\",\n",
    "            },\n",
    "        ],\n",
    "        \"filters\": [\n",
    "            {\n",
    "                \"for_query_parameter\": \"time_ISO8601\",\n",
    "                \"min\": f\"{mindate}T00:00:00\",\n",
    "                \"max\": f\"{maxdate}T00:00:00\",\n",
    "            },\n",
    "            {\n",
    "                \"for_query_parameter\": \"Depth [m]\",\n",
    "                \"min\": mindepth,\n",
    "                \"max\": maxdepth\n",
    "            },\n",
    "            {\n",
    "                \"for_query_parameter\": \"LONGITUDE\",\n",
    "                \"min\": minlon,\n",
    "                \"max\": maxlon\n",
    "            },\n",
    "            {\n",
    "                \"for_query_parameter\": \"LATITUDE\",\n",
    "                \"min\": minlat,\n",
    "                \"max\": maxlat\n",
    "            },\n",
    "            {\n",
    "                \"is_not_null\": {\n",
    "                    \"for_query_parameter\": parameter,\n",
    "                }\n",
    "            },\n",
    "            {\n",
    "                \"for_query_parameter\": parameter,\n",
    "                \"neq\": -10000000000 # This is the value used for missing data in the WOD as they don't store a fill attribute in their original data\n",
    "            }\n",
    "        ],\n",
    "        \"output\": {\n",
    "            \"format\": {\n",
    "                \"odv\": {\n",
    "                    \"longitude_column\": {\"column_name\": \"LONGITUDE\"},\n",
    "                    \"latitude_column\": {\"column_name\": \"LATITUDE\"},\n",
    "                    \"time_column\": {\"column_name\": \"time_ISO8601\"},\n",
    "                    \"depth_column\": {\n",
    "                        \"column_name\": \"Depth [m]\",\n",
    "                        \"qf_column\": \"DEPTH_QC\",\n",
    "                    },\n",
    "                    \"data_columns\": [\n",
    "                        {\n",
    "                            \"column_name\": f\"{parameter}\",\n",
    "                            \"qf_column\": f\"{parameter}_QC\",\n",
    "                        }\n",
    "                    ],\n",
    "                    \"metadata_columns\": [\n",
    "                        {\n",
    "                            \"column_name\": \"dataset\",\n",
    "                        }\n",
    "                    ],\n",
    "                    \"qf_schema\": \"WOD\",\n",
    "                    \"key_column\": \"file_name\",\n",
    "                    # With this line we are asking the zip file to be gzip compressed\n",
    "                    \"archiving\": \"zip_deflate\",\n",
    "                }\n",
    "            } # To learn more about setting different output formats, see https://maris-development.github.io/beacon/docs/1.0.1/query-docs/querying/json.html#output-format\n",
    "        }\n",
    "}"
   ]
  },
  {
   "cell_type": "markdown",
   "id": "db4474ce",
   "metadata": {},
   "source": [
    "#### This is the post request that is sent to Beacon with the above specified body.\n"
   ]
  },
  {
   "cell_type": "code",
   "execution_count": 24,
   "id": "4911622c",
   "metadata": {},
   "outputs": [],
   "source": [
    "response = requests.post(f\"{BEACON_INSTANCE_URL}/api/query\", json.dumps(query), headers = {\n",
    "    \"Authorization\" : f\"Bearer {TOKEN}\",\n",
    "    \"Content-type\": \"application/json\"\n",
    "})\n",
    "\n",
    "if response.status_code != 200:\n",
    "    print(response.text)\n",
    "    print(\"An error occurred while processing your request. Please check your input fields and try again.\")"
   ]
  },
  {
   "cell_type": "markdown",
   "id": "5b02de84",
   "metadata": {},
   "source": [
    "### Create output files with the results of the query\n"
   ]
  },
  {
   "cell_type": "code",
   "execution_count": 25,
   "id": "13854753",
   "metadata": {},
   "outputs": [
    {
     "name": "stdout",
     "output_type": "stream",
     "text": [
      "Data saved to Temperature_[-90_-180]_[90_180]_2010-01-01_2010-03-01_[0_500m].zip\n"
     ]
    }
   ],
   "source": [
    "if not os.path.exists(\"./Beacon_V1.0.0_Output\"):\n",
    "    os.makedirs(\"Beacon_V1.0.0_Output\")\n",
    "\n",
    "def generate_file_name(parameter, mindate, maxdate, minlon, maxlon, minlat, maxlat, mindepth, maxdepth, extension):\n",
    "    regionname = f\"[{minlat}_{minlon}]_[{maxlat}_{maxlon}]\" \n",
    "    file_name = f\"{parameter}_{regionname}_{mindate}_{maxdate}_[{mindepth}_{maxdepth}m].{extension}\"\n",
    "    return file_name\n",
    "\n",
    "# Save the zip file\n",
    "odv_file_name = generate_file_name(parameter, mindate, maxdate, minlon, maxlon, minlat, maxlat, mindepth, maxdepth, \"zip\")\n",
    "with open(f\"./Beacon_V1.0.0_Output/{odv_file_name}\", \"wb\") as f:\n",
    "    f.write(response.content)\n",
    "print(f\"Data saved to {odv_file_name}\")"
   ]
  }
 ],
 "metadata": {
  "kernelspec": {
   "display_name": "Python 3",
   "language": "python",
   "name": "python3"
  },
  "language_info": {
   "codemirror_mode": {
    "name": "ipython",
    "version": 3
   },
   "file_extension": ".py",
   "mimetype": "text/x-python",
   "name": "python",
   "nbconvert_exporter": "python",
   "pygments_lexer": "ipython3",
   "version": "3.10.2"
  }
 },
 "nbformat": 4,
 "nbformat_minor": 5
}
