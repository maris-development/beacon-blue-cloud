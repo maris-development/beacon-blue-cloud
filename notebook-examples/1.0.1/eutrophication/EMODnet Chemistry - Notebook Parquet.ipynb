{
 "cells": [
  {
   "cell_type": "code",
   "execution_count": 20,
   "id": "a431d9d4",
   "metadata": {},
   "outputs": [
    {
     "name": "stdout",
     "output_type": "stream",
     "text": [
      "Requirement already satisfied: pyarrow in c:\\python\\lib\\site-packages (19.0.1)\n",
      "Note: you may need to restart the kernel to use updated packages.\n"
     ]
    },
    {
     "name": "stderr",
     "output_type": "stream",
     "text": [
      "WARNING: Ignoring invalid distribution -ffi (c:\\python\\lib\\site-packages)\n",
      "WARNING: Ignoring invalid distribution -ffi (c:\\python\\lib\\site-packages)\n",
      "WARNING: Ignoring invalid distribution -ffi (c:\\python\\lib\\site-packages)\n",
      "WARNING: Ignoring invalid distribution -ffi (c:\\python\\lib\\site-packages)\n",
      "WARNING: Ignoring invalid distribution -ffi (c:\\python\\lib\\site-packages)\n",
      "WARNING: Ignoring invalid distribution -ffi (c:\\python\\lib\\site-packages)\n",
      "\n",
      "[notice] A new release of pip available: 22.3.1 -> 25.1\n",
      "[notice] To update, run: python.exe -m pip install --upgrade pip\n"
     ]
    },
    {
     "name": "stdout",
     "output_type": "stream",
     "text": [
      "Requirement already satisfied: pandas in c:\\python\\lib\\site-packages (2.2.2)\n",
      "Requirement already satisfied: numpy>=1.22.4 in c:\\python\\lib\\site-packages (from pandas) (1.26.4)\n",
      "Requirement already satisfied: tzdata>=2022.7 in c:\\python\\lib\\site-packages (from pandas) (2024.1)\n",
      "Requirement already satisfied: pytz>=2020.1 in c:\\python\\lib\\site-packages (from pandas) (2021.3)\n",
      "Requirement already satisfied: python-dateutil>=2.8.2 in c:\\python\\lib\\site-packages (from pandas) (2.8.2)\n",
      "Requirement already satisfied: six>=1.5 in c:\\python\\lib\\site-packages (from python-dateutil>=2.8.2->pandas) (1.16.0)\n",
      "Note: you may need to restart the kernel to use updated packages.\n"
     ]
    },
    {
     "name": "stderr",
     "output_type": "stream",
     "text": [
      "WARNING: Ignoring invalid distribution -ffi (c:\\python\\lib\\site-packages)\n",
      "WARNING: Ignoring invalid distribution -ffi (c:\\python\\lib\\site-packages)\n",
      "WARNING: Ignoring invalid distribution -ffi (c:\\python\\lib\\site-packages)\n",
      "WARNING: Ignoring invalid distribution -ffi (c:\\python\\lib\\site-packages)\n",
      "WARNING: Ignoring invalid distribution -ffi (c:\\python\\lib\\site-packages)\n",
      "WARNING: Ignoring invalid distribution -ffi (c:\\python\\lib\\site-packages)\n",
      "\n",
      "[notice] A new release of pip available: 22.3.1 -> 25.1\n",
      "[notice] To update, run: python.exe -m pip install --upgrade pip\n"
     ]
    },
    {
     "name": "stdout",
     "output_type": "stream",
     "text": [
      "Requirement already satisfied: xarray in c:\\python\\lib\\site-packages (2024.3.0)\n",
      "Requirement already satisfied: packaging>=22 in c:\\python\\lib\\site-packages (from xarray) (24.0)\n",
      "Requirement already satisfied: pandas>=1.5 in c:\\python\\lib\\site-packages (from xarray) (2.2.2)\n",
      "Requirement already satisfied: numpy>=1.23 in c:\\python\\lib\\site-packages (from xarray) (1.26.4)\n",
      "Requirement already satisfied: pytz>=2020.1 in c:\\python\\lib\\site-packages (from pandas>=1.5->xarray) (2021.3)\n",
      "Requirement already satisfied: python-dateutil>=2.8.2 in c:\\python\\lib\\site-packages (from pandas>=1.5->xarray) (2.8.2)\n",
      "Requirement already satisfied: tzdata>=2022.7 in c:\\python\\lib\\site-packages (from pandas>=1.5->xarray) (2024.1)\n",
      "Requirement already satisfied: six>=1.5 in c:\\python\\lib\\site-packages (from python-dateutil>=2.8.2->pandas>=1.5->xarray) (1.16.0)\n",
      "Note: you may need to restart the kernel to use updated packages.\n"
     ]
    },
    {
     "name": "stderr",
     "output_type": "stream",
     "text": [
      "WARNING: Ignoring invalid distribution -ffi (c:\\python\\lib\\site-packages)\n",
      "WARNING: Ignoring invalid distribution -ffi (c:\\python\\lib\\site-packages)\n",
      "WARNING: Ignoring invalid distribution -ffi (c:\\python\\lib\\site-packages)\n",
      "WARNING: Ignoring invalid distribution -ffi (c:\\python\\lib\\site-packages)\n",
      "WARNING: Ignoring invalid distribution -ffi (c:\\python\\lib\\site-packages)\n",
      "WARNING: Ignoring invalid distribution -ffi (c:\\python\\lib\\site-packages)\n",
      "\n",
      "[notice] A new release of pip available: 22.3.1 -> 25.1\n",
      "[notice] To update, run: python.exe -m pip install --upgrade pip\n"
     ]
    }
   ],
   "source": [
    "# Installing Python packages\n",
    "%pip install pyarrow\n",
    "%pip install pandas\n",
    "%pip install xarray"
   ]
  },
  {
   "cell_type": "code",
   "execution_count": 29,
   "id": "5bd9ce73",
   "metadata": {},
   "outputs": [],
   "source": [
    "# Importing necessary libraries\n",
    "import pyarrow as pa\n",
    "import pandas as pd\n",
    "import xarray as xr\n",
    "import os\n",
    "import requests\n",
    "import json\n",
    "from io import BytesIO"
   ]
  },
  {
   "cell_type": "code",
   "execution_count": null,
   "id": "3d3a9864",
   "metadata": {},
   "outputs": [],
   "source": [
    "# Set your Beacon Blue Cloud Token\n",
    "TOKEN = ''"
   ]
  },
  {
   "cell_type": "code",
   "execution_count": 31,
   "id": "cdb6c3b9",
   "metadata": {},
   "outputs": [],
   "source": [
    "# Fetching available columns from the Beacon API\n",
    "responseinfo = requests.get(\"https://beacon-emod-chem.maris.nl/api/query/available-columns\", headers = {\"Authorization\" : f\"Bearer {TOKEN}\"}) \n",
    "params = responseinfo.json()"
   ]
  },
  {
   "cell_type": "markdown",
   "id": "12edbb4e",
   "metadata": {},
   "source": [
    "#### Below you can search through the available columns by entering text between the brackets of search_columns(\" \")."
   ]
  },
  {
   "cell_type": "code",
   "execution_count": 32,
   "id": "367eec39",
   "metadata": {},
   "outputs": [
    {
     "name": "stdout",
     "output_type": "stream",
     "text": [
      "Matching columns:\n",
      "ITS-90 water temperature\n",
      "ITS-90 water temperature_qc\n",
      "ITS-90 water temperature.comment\n",
      "ITS-90 water temperature.units\n",
      "ITS-90 water temperature.qf_schema\n",
      "Temp_pH_measured_SD\n",
      "Temp_pH_measured_SD_qc\n",
      "Temp_pH_measured_SD.units\n",
      "Temp_pH_measured_SD.comment\n",
      "Temp_pH_measured_SD.qf_schema\n"
     ]
    }
   ],
   "source": [
    "# Search function to find columns based on a search term\n",
    "# This function searches for columns in the params list that match the search term\n",
    "def search_columns(search_term):\n",
    "    search_term = search_term.lower()\n",
    "    matches = [col for col in params if search_term in col.lower()]\n",
    "    \n",
    "    if matches:\n",
    "        print(\"Matching columns:\")\n",
    "        for match in matches:\n",
    "            print(match)\n",
    "    else:\n",
    "        print(\"No matching columns found.\")\n",
    "\n",
    "search_columns(\"temp\") #Enter your search term here"
   ]
  },
  {
   "cell_type": "code",
   "execution_count": 33,
   "id": "313f8b83",
   "metadata": {},
   "outputs": [],
   "source": [
    "# You JSON query request\n",
    "query = {\n",
    "    \"query_parameters\": [\n",
    "            {\n",
    "                \"column_name\": \"ITS-90 water temperature\",\n",
    "            },\n",
    "            {\n",
    "                \"column_name\": f\"ITS-90 water temperature.units\",\n",
    "                \"alias\": \"Unit\"\n",
    "            },\n",
    "            {\n",
    "                \"column_name\": \"yyyy-mm-ddThh:mm:ss.sss\",\n",
    "                \"alias\": \"datetime\"\n",
    "            },\n",
    "            {\n",
    "                \"column_name\": \"Depth\",\n",
    "                \"alias\": \"DEPTH\"\n",
    "            },\n",
    "            {\n",
    "                \"column_name\": \"Longitude\",\n",
    "                \"alias\": \"LONGITUDE\"\n",
    "            },\n",
    "            {\n",
    "                \"column_name\": \"Latitude\",\n",
    "                \"alias\": \"LATITUDE\"\n",
    "            }\n",
    "        ],\n",
    "        \"filters\": [\n",
    "            {\n",
    "                \"for_query_parameter\": \"datetime\",\n",
    "                \"min\": f\"2015-01-01T00:00:00\",\n",
    "                \"max\": f\"2016-01-01T00:00:00\",\n",
    "            },\n",
    "            {\n",
    "              \"for_query_parameter\": \"DEPTH\",\n",
    "              \"min\": 0,\n",
    "              \"max\": 5\n",
    "            }\n",
    "        ],\n",
    "        \"output\": {\n",
    "            \"format\": \"parquet\"\n",
    "        }\n",
    "    }\n"
   ]
  },
  {
   "cell_type": "code",
   "execution_count": 34,
   "id": "11495e3f",
   "metadata": {},
   "outputs": [],
   "source": [
    "response = requests.post(\"https://beacon-emod-chem.maris.nl/api/query\", json.dumps(query), headers = {\n",
    "    \"Authorization\" : f\"Bearer {TOKEN}\",\n",
    "    \"Content-type\": \"application/json\"\n",
    "})\n",
    "\n",
    "if response.status_code == 204:\n",
    "    print(\"No data has been found for your query, please update your input fields above and run the notebook again.\")\n",
    "elif response.status_code != 200:\n",
    "    # Print error message if the request was not successful\n",
    "    print(f\"Error: {response.status_code}\")\n",
    "    print(response.text)"
   ]
  },
  {
   "cell_type": "code",
   "execution_count": 35,
   "id": "66487175",
   "metadata": {},
   "outputs": [
    {
     "data": {
      "application/vnd.microsoft.datawrangler.viewer.v0+json": {
       "columns": [
        {
         "name": "index",
         "rawType": "int64",
         "type": "integer"
        },
        {
         "name": "ITS-90 water temperature",
         "rawType": "float32",
         "type": "float"
        },
        {
         "name": "Unit",
         "rawType": "object",
         "type": "unknown"
        },
        {
         "name": "datetime",
         "rawType": "datetime64[ms]",
         "type": "unknown"
        },
        {
         "name": "DEPTH",
         "rawType": "float32",
         "type": "float"
        },
        {
         "name": "LONGITUDE",
         "rawType": "float32",
         "type": "float"
        },
        {
         "name": "LATITUDE",
         "rawType": "float32",
         "type": "float"
        }
       ],
       "conversionMethod": "pd.DataFrame",
       "ref": "b244aff7-cae2-4185-8389-d6dccbe33ccb",
       "rows": [
        [
         "0",
         "18.209",
         "degrees C",
         "2015-09-21 13:04:07",
         "2.975984",
         "-16.779205",
         "43.712"
        ],
        [
         "1",
         "18.209",
         "degrees C",
         "2015-09-21 13:04:07",
         "3.9679692",
         "-16.779205",
         "43.712"
        ],
        [
         "2",
         "18.212",
         "degrees C",
         "2015-09-21 13:04:07",
         "4.9599495",
         "-16.779205",
         "43.712"
        ],
        [
         "3",
         "18.681",
         "degrees C",
         "2015-09-22 04:00:27",
         "2.976369",
         "-18.806091",
         "42.3078"
        ],
        [
         "4",
         "18.683",
         "degrees C",
         "2015-09-22 04:00:27",
         "3.9684823",
         "-18.806091",
         "42.3078"
        ],
        [
         "5",
         "18.683",
         "degrees C",
         "2015-09-22 04:00:27",
         "4.960591",
         "-18.806091",
         "42.3078"
        ],
        [
         "6",
         "19.522",
         "degrees C",
         "2015-09-22 12:58:09",
         "2.9765828",
         "-19.871307",
         "41.5247"
        ],
        [
         "7",
         "19.522",
         "degrees C",
         "2015-09-22 12:58:09",
         "3.9687674",
         "-19.871307",
         "41.5247"
        ],
        [
         "8",
         "19.521",
         "degrees C",
         "2015-09-22 12:58:09",
         "4.960947",
         "-19.871307",
         "41.5247"
        ],
        [
         "9",
         "21.341",
         "degrees C",
         "2015-09-23 04:05:01",
         "3.9693038",
         "-21.926208",
         "40.0437"
        ],
        [
         "10",
         "21.339",
         "degrees C",
         "2015-09-23 04:05:01",
         "4.961618",
         "-21.926208",
         "40.0437"
        ],
        [
         "11",
         "20.207",
         "degrees C",
         "2015-09-23 12:57:49",
         "3.9696064",
         "-23.045502",
         "39.2032"
        ],
        [
         "12",
         "20.214",
         "degrees C",
         "2015-09-23 12:57:49",
         "4.9619956",
         "-23.045502",
         "39.2032"
        ],
        [
         "13",
         "22.871",
         "degrees C",
         "2015-09-24 04:01:50",
         "2.977617",
         "-25.058807",
         "37.6887"
        ],
        [
         "14",
         "22.878",
         "degrees C",
         "2015-09-24 04:01:50",
         "3.9701464",
         "-25.058807",
         "37.6887"
        ],
        [
         "15",
         "22.876",
         "degrees C",
         "2015-09-24 04:01:50",
         "4.9626713",
         "-25.058807",
         "37.6887"
        ],
        [
         "16",
         "22.95",
         "degrees C",
         "2015-09-24 13:02:47",
         "2.9776657",
         "-26.656494",
         "37.5058"
        ],
        [
         "17",
         "22.949",
         "degrees C",
         "2015-09-24 13:02:47",
         "3.9702113",
         "-26.656494",
         "37.5058"
        ],
        [
         "18",
         "22.951",
         "degrees C",
         "2015-09-24 13:02:47",
         "4.962752",
         "-26.656494",
         "37.5058"
        ],
        [
         "19",
         "23.657",
         "degrees C",
         "2015-09-25 04:00:23",
         "2.9778423",
         "-29.955505",
         "36.8377"
        ],
        [
         "20",
         "23.59",
         "degrees C",
         "2015-09-25 04:00:23",
         "3.9704468",
         "-29.955505",
         "36.8377"
        ],
        [
         "21",
         "23.625",
         "degrees C",
         "2015-09-25 04:00:23",
         "4.9630466",
         "-29.955505",
         "36.8377"
        ],
        [
         "22",
         "24.757",
         "degrees C",
         "2015-09-25 18:42:53",
         "1.9853367",
         "-32.760986",
         "36.2467"
        ],
        [
         "23",
         "24.758",
         "degrees C",
         "2015-09-25 18:42:53",
         "2.9779978",
         "-32.760986",
         "36.2467"
        ],
        [
         "24",
         "24.756",
         "degrees C",
         "2015-09-25 18:42:53",
         "3.970654",
         "-32.760986",
         "36.2467"
        ],
        [
         "25",
         "24.756",
         "degrees C",
         "2015-09-25 18:42:53",
         "4.9633055",
         "-32.760986",
         "36.2467"
        ],
        [
         "26",
         "24.826",
         "degrees C",
         "2015-09-27 06:00:18",
         "1.9853399",
         "-32.77179",
         "36.2285"
        ],
        [
         "27",
         "24.826",
         "degrees C",
         "2015-09-27 06:00:18",
         "2.9780025",
         "-32.77179",
         "36.2285"
        ],
        [
         "28",
         "24.814",
         "degrees C",
         "2015-09-27 06:00:18",
         "3.9706604",
         "-32.77179",
         "36.2285"
        ],
        [
         "29",
         "24.814",
         "degrees C",
         "2015-09-27 06:00:18",
         "4.9633136",
         "-32.77179",
         "36.2285"
        ],
        [
         "30",
         "16.307",
         "degrees C",
         "2015-09-19 13:03:36",
         "2.9749422",
         "-11.062408",
         "47.5095"
        ],
        [
         "31",
         "16.306",
         "degrees C",
         "2015-09-19 13:03:36",
         "3.96658",
         "-11.062408",
         "47.5095"
        ],
        [
         "32",
         "16.303",
         "degrees C",
         "2015-09-19 13:03:36",
         "4.958213",
         "-11.062408",
         "47.5095"
        ],
        [
         "33",
         "25.894",
         "degrees C",
         "2015-09-30 04:01:35",
         "2.9792886",
         "-40.918",
         "31.151"
        ],
        [
         "34",
         "25.894",
         "degrees C",
         "2015-09-30 04:01:35",
         "3.9723752",
         "-40.918",
         "31.151"
        ],
        [
         "35",
         "25.893",
         "degrees C",
         "2015-09-30 04:01:35",
         "4.965457",
         "-40.918",
         "31.151"
        ],
        [
         "36",
         "26.513",
         "degrees C",
         "2015-09-30 12:58:32",
         "4.9658785",
         "-41.93921",
         "30.1005"
        ],
        [
         "37",
         "27.05",
         "degrees C",
         "2015-10-02 04:01:12",
         "1.9869983",
         "-38.826996",
         "25.9343"
        ],
        [
         "38",
         "27.052",
         "degrees C",
         "2015-10-02 04:01:12",
         "2.9804902",
         "-38.826996",
         "25.9343"
        ],
        [
         "39",
         "27.049",
         "degrees C",
         "2015-10-02 04:01:12",
         "3.9739773",
         "-38.826996",
         "25.9343"
        ],
        [
         "40",
         "27.049",
         "degrees C",
         "2015-10-02 04:01:12",
         "4.9674597",
         "-38.826996",
         "25.9343"
        ],
        [
         "41",
         "27.076",
         "degrees C",
         "2015-10-02 10:22:18",
         "1.9870672",
         "-38.07431",
         "25.4532"
        ],
        [
         "42",
         "27.043",
         "degrees C",
         "2015-10-02 10:22:18",
         "2.9805934",
         "-38.07431",
         "25.4532"
        ],
        [
         "43",
         "27.053",
         "degrees C",
         "2015-10-02 10:22:18",
         "3.9741151",
         "-38.07431",
         "25.4532"
        ],
        [
         "44",
         "27.053",
         "degrees C",
         "2015-10-02 10:22:18",
         "4.967632",
         "-38.07431",
         "25.4532"
        ],
        [
         "45",
         "24.648",
         "degrees C",
         "2015-09-28 04:01:00",
         "4.963582",
         "-34.166687",
         "35.6113"
        ],
        [
         "46",
         "25.633",
         "degrees C",
         "2015-09-29 04:02:23",
         "4.964274",
         "-37.575012",
         "33.9988"
        ],
        [
         "47",
         "16.876",
         "degrees C",
         "2015-09-20 04:03:16",
         "1.9835249",
         "-12.935303",
         "46.2763"
        ],
        [
         "48",
         "16.879",
         "degrees C",
         "2015-09-20 04:03:16",
         "2.97528",
         "-12.935303",
         "46.2763"
        ],
        [
         "49",
         "16.882",
         "degrees C",
         "2015-09-20 04:03:16",
         "3.9670305",
         "-12.935303",
         "46.2763"
        ]
       ],
       "shape": {
        "columns": 6,
        "rows": 182319
       }
      },
      "text/html": [
       "<div>\n",
       "<style scoped>\n",
       "    .dataframe tbody tr th:only-of-type {\n",
       "        vertical-align: middle;\n",
       "    }\n",
       "\n",
       "    .dataframe tbody tr th {\n",
       "        vertical-align: top;\n",
       "    }\n",
       "\n",
       "    .dataframe thead th {\n",
       "        text-align: right;\n",
       "    }\n",
       "</style>\n",
       "<table border=\"1\" class=\"dataframe\">\n",
       "  <thead>\n",
       "    <tr style=\"text-align: right;\">\n",
       "      <th></th>\n",
       "      <th>ITS-90 water temperature</th>\n",
       "      <th>Unit</th>\n",
       "      <th>datetime</th>\n",
       "      <th>DEPTH</th>\n",
       "      <th>LONGITUDE</th>\n",
       "      <th>LATITUDE</th>\n",
       "    </tr>\n",
       "  </thead>\n",
       "  <tbody>\n",
       "    <tr>\n",
       "      <th>0</th>\n",
       "      <td>18.209000</td>\n",
       "      <td>degrees C</td>\n",
       "      <td>2015-09-21 13:04:07</td>\n",
       "      <td>2.975984</td>\n",
       "      <td>-16.779205</td>\n",
       "      <td>43.712002</td>\n",
       "    </tr>\n",
       "    <tr>\n",
       "      <th>1</th>\n",
       "      <td>18.209000</td>\n",
       "      <td>degrees C</td>\n",
       "      <td>2015-09-21 13:04:07</td>\n",
       "      <td>3.967969</td>\n",
       "      <td>-16.779205</td>\n",
       "      <td>43.712002</td>\n",
       "    </tr>\n",
       "    <tr>\n",
       "      <th>2</th>\n",
       "      <td>18.212000</td>\n",
       "      <td>degrees C</td>\n",
       "      <td>2015-09-21 13:04:07</td>\n",
       "      <td>4.959949</td>\n",
       "      <td>-16.779205</td>\n",
       "      <td>43.712002</td>\n",
       "    </tr>\n",
       "    <tr>\n",
       "      <th>3</th>\n",
       "      <td>18.681000</td>\n",
       "      <td>degrees C</td>\n",
       "      <td>2015-09-22 04:00:27</td>\n",
       "      <td>2.976369</td>\n",
       "      <td>-18.806091</td>\n",
       "      <td>42.307800</td>\n",
       "    </tr>\n",
       "    <tr>\n",
       "      <th>4</th>\n",
       "      <td>18.683001</td>\n",
       "      <td>degrees C</td>\n",
       "      <td>2015-09-22 04:00:27</td>\n",
       "      <td>3.968482</td>\n",
       "      <td>-18.806091</td>\n",
       "      <td>42.307800</td>\n",
       "    </tr>\n",
       "    <tr>\n",
       "      <th>...</th>\n",
       "      <td>...</td>\n",
       "      <td>...</td>\n",
       "      <td>...</td>\n",
       "      <td>...</td>\n",
       "      <td>...</td>\n",
       "      <td>...</td>\n",
       "    </tr>\n",
       "    <tr>\n",
       "      <th>182314</th>\n",
       "      <td>20.052999</td>\n",
       "      <td>degrees C</td>\n",
       "      <td>2015-05-31 07:14:00</td>\n",
       "      <td>0.992268</td>\n",
       "      <td>11.511000</td>\n",
       "      <td>40.764668</td>\n",
       "    </tr>\n",
       "    <tr>\n",
       "      <th>182315</th>\n",
       "      <td>20.049000</td>\n",
       "      <td>degrees C</td>\n",
       "      <td>2015-05-31 07:14:00</td>\n",
       "      <td>1.984531</td>\n",
       "      <td>11.511000</td>\n",
       "      <td>40.764668</td>\n",
       "    </tr>\n",
       "    <tr>\n",
       "      <th>182316</th>\n",
       "      <td>20.040001</td>\n",
       "      <td>degrees C</td>\n",
       "      <td>2015-05-31 07:14:00</td>\n",
       "      <td>2.976790</td>\n",
       "      <td>11.511000</td>\n",
       "      <td>40.764668</td>\n",
       "    </tr>\n",
       "    <tr>\n",
       "      <th>182317</th>\n",
       "      <td>20.032000</td>\n",
       "      <td>degrees C</td>\n",
       "      <td>2015-05-31 07:14:00</td>\n",
       "      <td>3.969043</td>\n",
       "      <td>11.511000</td>\n",
       "      <td>40.764668</td>\n",
       "    </tr>\n",
       "    <tr>\n",
       "      <th>182318</th>\n",
       "      <td>20.025999</td>\n",
       "      <td>degrees C</td>\n",
       "      <td>2015-05-31 07:14:00</td>\n",
       "      <td>4.961292</td>\n",
       "      <td>11.511000</td>\n",
       "      <td>40.764668</td>\n",
       "    </tr>\n",
       "  </tbody>\n",
       "</table>\n",
       "<p>182319 rows × 6 columns</p>\n",
       "</div>"
      ],
      "text/plain": [
       "        ITS-90 water temperature       Unit            datetime     DEPTH  \\\n",
       "0                      18.209000  degrees C 2015-09-21 13:04:07  2.975984   \n",
       "1                      18.209000  degrees C 2015-09-21 13:04:07  3.967969   \n",
       "2                      18.212000  degrees C 2015-09-21 13:04:07  4.959949   \n",
       "3                      18.681000  degrees C 2015-09-22 04:00:27  2.976369   \n",
       "4                      18.683001  degrees C 2015-09-22 04:00:27  3.968482   \n",
       "...                          ...        ...                 ...       ...   \n",
       "182314                 20.052999  degrees C 2015-05-31 07:14:00  0.992268   \n",
       "182315                 20.049000  degrees C 2015-05-31 07:14:00  1.984531   \n",
       "182316                 20.040001  degrees C 2015-05-31 07:14:00  2.976790   \n",
       "182317                 20.032000  degrees C 2015-05-31 07:14:00  3.969043   \n",
       "182318                 20.025999  degrees C 2015-05-31 07:14:00  4.961292   \n",
       "\n",
       "        LONGITUDE   LATITUDE  \n",
       "0      -16.779205  43.712002  \n",
       "1      -16.779205  43.712002  \n",
       "2      -16.779205  43.712002  \n",
       "3      -18.806091  42.307800  \n",
       "4      -18.806091  42.307800  \n",
       "...           ...        ...  \n",
       "182314  11.511000  40.764668  \n",
       "182315  11.511000  40.764668  \n",
       "182316  11.511000  40.764668  \n",
       "182317  11.511000  40.764668  \n",
       "182318  11.511000  40.764668  \n",
       "\n",
       "[182319 rows x 6 columns]"
      ]
     },
     "execution_count": 35,
     "metadata": {},
     "output_type": "execute_result"
    }
   ],
   "source": [
    "# Wrap the response content in a BytesIO object\n",
    "response_content = BytesIO(response.content)\n",
    "# Read the Parquet file into a Pandas DataFrame\n",
    "df = pd.read_parquet(response_content, engine='pyarrow')\n",
    "df"
   ]
  },
  {
   "cell_type": "code",
   "execution_count": 36,
   "id": "f1b548e3",
   "metadata": {},
   "outputs": [],
   "source": [
    "# Create output directory if it doesn't exist\n",
    "if not os.path.exists(\"./beacon_output\"):\n",
    "    os.makedirs(\"beacon_output\")\n",
    "    \n",
    "# Save the response content to a file\n",
    "with open(\"beacon_output/emodnet_chemistry_subset.parquet\", \"wb\") as f:\n",
    "    f.write(response.content)"
   ]
  }
 ],
 "metadata": {
  "kernelspec": {
   "display_name": "Python 3",
   "language": "python",
   "name": "python3"
  },
  "language_info": {
   "codemirror_mode": {
    "name": "ipython",
    "version": 3
   },
   "file_extension": ".py",
   "mimetype": "text/x-python",
   "name": "python",
   "nbconvert_exporter": "python",
   "pygments_lexer": "ipython3",
   "version": "3.10.2"
  }
 },
 "nbformat": 4,
 "nbformat_minor": 5
}
