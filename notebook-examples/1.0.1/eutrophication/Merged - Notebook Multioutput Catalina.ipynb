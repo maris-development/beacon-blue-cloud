{
 "cells": [
  {
   "cell_type": "code",
   "execution_count": null,
   "id": "a431d9d4",
   "metadata": {},
   "outputs": [],
   "source": [
    "# Installing Python packages\n",
    "# %pip install pyarrow\n",
    "# %pip install pandas\n",
    "# %pip install xarray"
   ]
  },
  {
   "cell_type": "code",
   "execution_count": 15,
   "id": "5bd9ce73",
   "metadata": {},
   "outputs": [],
   "source": [
    "# Importing necessary libraries\n",
    "import pyarrow as pa\n",
    "import pandas as pd\n",
    "import xarray as xr\n",
    "import os\n",
    "import requests\n",
    "import json\n",
    "from io import BytesIO\n",
    "import ipywidgets as widgets\n",
    "from IPython.display import display\n",
    "from ipywidgets import Button, HBox, VBox"
   ]
  },
  {
   "cell_type": "code",
   "execution_count": null,
   "id": "3d3a9864",
   "metadata": {},
   "outputs": [],
   "source": [
    "# Set your Beacon Blue Cloud Token\n",
    "TOKEN = ''\n"
   ]
  },
  {
   "cell_type": "code",
   "execution_count": 17,
   "id": "cdb6c3b9",
   "metadata": {},
   "outputs": [],
   "source": [
    "# Fetching available columns from the Beacon API\n",
    "responseinfo = requests.get(\"https://beacon-wb2-eutrophication.maris.nl/api/query/available-columns\", headers = {\"Authorization\" : f\"Bearer {TOKEN}\"}) \n",
    "params = responseinfo.json()"
   ]
  },
  {
   "cell_type": "markdown",
   "id": "12edbb4e",
   "metadata": {},
   "source": [
    "#### Below you can search through the available columns by entering text between the brackets of search_columns(\" \").\n"
   ]
  },
  {
   "cell_type": "code",
   "execution_count": 18,
   "id": "367eec39",
   "metadata": {},
   "outputs": [
    {
     "name": "stdout",
     "output_type": "stream",
     "text": [
      "Matching columns:\n",
      "COMMON_CHLOROPHYLL_L05\n",
      "COMMON_OXYGEN_L05\n",
      "COMMON_PHOSPHATE_L05\n",
      "COMMON_SILICATE_L05\n",
      "COMMON_SALINITY_L05\n",
      "COMMON_TEMPERATURE_L05\n",
      "COMMON_OXYGEN_SATURATION_L05\n",
      "COMMON_NITRATE_L05\n",
      "COMMON_NITRATE_NITRITE_L05\n",
      "COMMON_AMMONIUM_L05\n"
     ]
    }
   ],
   "source": [
    "# Search function to find columns based on a search term\n",
    "# This function searches for columns in the params list that match the search term\n",
    "def search_columns(search_term):\n",
    "    search_term = search_term.lower()\n",
    "    matches = [col for col in params if search_term in col.lower()]\n",
    "    \n",
    "    if matches:\n",
    "        print(\"Matching columns:\")\n",
    "        for match in matches:\n",
    "            print(match)\n",
    "    else:\n",
    "        print(\"No matching columns found.\")\n",
    "\n",
    "search_columns(\"L05\") #Enter your search term here"
   ]
  },
  {
   "cell_type": "markdown",
   "id": "e64fefc0",
   "metadata": {},
   "source": [
    "Build the query here:\n"
   ]
  },
  {
   "cell_type": "code",
   "execution_count": 19,
   "id": "dcea3864",
   "metadata": {},
   "outputs": [],
   "source": [
    "\n",
    "query_parameters = [\n",
    "    {\"column_name\": \"SOURCE_BDI\"},\n",
    "    {\"column_name\": \"SOURCE_BDI_DATASET_ID\"},\n",
    "    {\"column_name\": \"COMMON_ODV_TAG\"},\n",
    "            \n",
    "    {\"column_name\": \"COMMON_CHLOROPHYLL_PER_VOLUME\", \"alias\": \"CHLOROPHYLL\"},\n",
    "    {\"column_name\": \"COMMON_CHLOROPHYLL_PER_VOLUME_QC\", \"alias\": \"CHLOROPHYLL_QC\"},\n",
    "    {\"column_name\": \"COMMON_CHLOROPHYLL_PER_VOLUME_UNITS\"},\n",
    "    {\"column_name\": \"COMMON_CHLOROPHYLL_PER_VOLUME_STANDARD_NAME\"},\n",
    "    {\"column_name\": \"COMMON_CHLOROPHYLL_PER_VOLUME_P01\"},\n",
    "    {\"column_name\": \"COMMON_CHLOROPHYLL_PER_VOLUME_P06\"},\n",
    "            \n",
    "            \n",
    "    {\"column_name\": \"COMMON_TIME\"},\n",
    "    {\"column_name\": \"COMMON_DEPTH\", \"alias\": \"DEPTH\"},\n",
    "    {\"column_name\": \"COMMON_DEPTH_QC\", \"alias\": \"DEPTH_QC\"},\n",
    "            \n",
    "            \n",
    "    {\"column_name\": \"COMMON_LONGITUDE\", \"alias\": \"LONGITUDE\"},\n",
    "    {\"column_name\": \"COMMON_LATITUDE\", \"alias\": \"LATITUDE\"}   \n",
    "]"
   ]
  },
  {
   "cell_type": "markdown",
   "id": "f40d7e5f",
   "metadata": {},
   "source": [
    "Select the output format:\n"
   ]
  },
  {
   "cell_type": "code",
   "execution_count": 20,
   "id": "0fa01ae5",
   "metadata": {},
   "outputs": [
    {
     "data": {
      "application/vnd.jupyter.widget-view+json": {
       "model_id": "373a10f373154573b847f80176170c9f",
       "version_major": 2,
       "version_minor": 0
      },
      "text/plain": [
       "Dropdown(description='Get ODV Output format:', options=(False, True), style=DescriptionStyle(description_width…"
      ]
     },
     "metadata": {},
     "output_type": "display_data"
    }
   ],
   "source": [
    "style = {'description_width': 'initial'}\n",
    "ODV_OUTPUT = widgets.Dropdown(\n",
    "    options=[False, True],\n",
    "    # value=False,\n",
    "    description='Get ODV Output format:',\n",
    "    style=style\n",
    ")\n",
    "display(ODV_OUTPUT)"
   ]
  },
  {
   "cell_type": "code",
   "execution_count": 33,
   "id": "3db73e65",
   "metadata": {},
   "outputs": [
    {
     "name": "stdout",
     "output_type": "stream",
     "text": [
      "ODV_OUTPUT:  True\n"
     ]
    }
   ],
   "source": [
    "print(\"ODV_OUTPUT: \", ODV_OUTPUT.value)"
   ]
  },
  {
   "cell_type": "code",
   "execution_count": null,
   "id": "eb675bf9",
   "metadata": {},
   "outputs": [],
   "source": [
    "\n",
    "if ODV_OUTPUT.value: \n",
    "    output = {\n",
    "            \"format\": {\n",
    "                \"odv\": {\n",
    "                    \"longitude_column\": {\"column_name\": \"LONGITUDE\"},\n",
    "                    \"latitude_column\": {\"column_name\": \"LATITUDE\"},\n",
    "                    \"time_column\": {\"column_name\": \"COMMON_TIME\"},\n",
    "                    \"depth_column\": {\n",
    "                        \"column_name\": \"DEPTH\",\n",
    "                        \"unit\": \"m\",\n",
    "                        \"comment\": \"Codes: SDN:P01::ADEPZZ01 SDN:P06::ULAA\",\n",
    "                        \"qf_column\": \"DEPTH_QC\"\n",
    "                    },\n",
    "                    \"data_columns\": [\n",
    "                        {\n",
    "                            \"column_name\": \"CHLOROPHYLL\",\n",
    "                            \"unit\": \"mg/m^3\",\n",
    "                            \"comment\": \"Codes: SDN:P01::CHLTVOLU SDN:P06::UMMC\",\n",
    "                            \"qf_column\": \"CHLOROPHYLL_QC\"\n",
    "                        }\n",
    "                    ],\n",
    "                    \"metadata_columns\": [\n",
    "                        {\"column_name\": \"COMMON_CHLOROPHYLL_PER_VOLUME_UNITS\",},\n",
    "                        # {\"column_name\": \"DEPTH_UNITS\",},\n",
    "                        {\"column_name\": \"COMMON_CHLOROPHYLL_PER_VOLUME_P01\",},\n",
    "                        {\"column_name\": \"COMMON_CHLOROPHYLL_PER_VOLUME_P06\",},\n",
    "                        {\"column_name\": \"SOURCE_BDI\",},\n",
    "                        {\"column_name\": \"SOURCE_BDI_DATASET_ID\",}\n",
    "                    ],\n",
    "                    \"qf_schema\": \"SEADATANET\",\n",
    "                    \"key_column\": \"COMMON_ODV_TAG\",\n",
    "                    \"archiving\": \"zip_deflate\",\n",
    "\n",
    "                }\n",
    "            }\n",
    "        }\n",
    "else:\n",
    "\n",
    "    format_selector = widgets.Dropdown(\n",
    "        options=[('Parquet', 'parquet'), ('Arrow IPC', 'ipc'), ('netCDF', 'netcdf')],\n",
    "        value='parquet',\n",
    "        description='Output Format:',\n",
    "    )\n",
    "    display(format_selector)\n",
    "\n",
    "    def set_output(change):\n",
    "        global output\n",
    "        output = {\"format\": change['new']}\n",
    "    format_selector.observe(set_output, names='value')\n",
    "    output = {\"format\": format_selector.value}"
   ]
  },
  {
   "cell_type": "code",
   "execution_count": 35,
   "id": "313f8b83",
   "metadata": {},
   "outputs": [],
   "source": [
    "# You JSON query request\n",
    "query = {\n",
    "    \"query_parameters\": query_parameters,       \n",
    "            \n",
    "    \"filters\": [\n",
    "            {\"for_query_parameter\": \"COMMON_TIME\", \"min\": f\"2015-01-01T00:00:00\", \"max\": f\"2015-03-01T23:00:00\",},\n",
    "            {\"for_query_parameter\": \"DEPTH\", \"min\": 0, \"max\": 5},\n",
    "            {\"for_query_parameter\": \"LONGITUDE\", \"min\": -44, \"max\": 5},\n",
    "            {\"for_query_parameter\": \"LATITUDE\", \"min\": 15, \"max\": 60},\n",
    "            {\"is_not_null\": {\"for_query_parameter\": \"CHLOROPHYLL\",}},\n",
    "        ],\n",
    "\n",
    "    \"output\": output   \n",
    "   }\n"
   ]
  },
  {
   "cell_type": "code",
   "execution_count": 36,
   "id": "11495e3f",
   "metadata": {},
   "outputs": [],
   "source": [
    "response = requests.post(\"https://beacon-wb2-eutrophication.maris.nl/api/query\", json.dumps(query), headers = {\n",
    "    \"Authorization\" : f\"Bearer {TOKEN}\",\n",
    "    \"Content-type\": \"application/json\"\n",
    "})\n",
    "\n",
    "if response.status_code == 204:\n",
    "    print(\"No data has been found for your query, please update your input fields above and run the notebook again.\")\n",
    "elif response.status_code != 200:\n",
    "    # Print error message if the request was not successful\n",
    "    print(f\"Error: {response.status_code}\")\n",
    "    print(response.text)"
   ]
  },
  {
   "cell_type": "code",
   "execution_count": 37,
   "id": "f1b548e3",
   "metadata": {},
   "outputs": [],
   "source": [
    "# Create output directory if it doesn't exist\n",
    "if not os.path.exists(\"./beacon_output\"):\n",
    "    os.makedirs(\"beacon_output\")"
   ]
  },
  {
   "cell_type": "markdown",
   "id": "039b25e3",
   "metadata": {},
   "source": [
    "### Uncomment and run for parquet output\n"
   ]
  },
  {
   "cell_type": "code",
   "execution_count": 27,
   "id": "66487175",
   "metadata": {},
   "outputs": [],
   "source": [
    "# # Save the response content to a file\n",
    "# with open(\"beacon_output/merged_subset.parquet\", \"wb\") as f:\n",
    "#     f.write(response.content)\n",
    "\n",
    "# # Wrap the response content in a BytesIO object\n",
    "# response_content = BytesIO(response.content)\n",
    "# # Read the Parquet file into a Pandas DataFrame\n",
    "# df = pd.read_parquet(response_content, engine='pyarrow')\n",
    "# # This is a temporary fix as the merged instance works with seconds since 1970 which isn't supported by parquet (but will be addressed by beacon in the future)\n",
    "# df['COMMON_TIME'] = pd.to_datetime(df['COMMON_TIME'], unit='s')\n",
    "# df"
   ]
  },
  {
   "cell_type": "markdown",
   "id": "6e30ceb8",
   "metadata": {},
   "source": [
    "### Uncomment and run for ipc arrow output\n"
   ]
  },
  {
   "cell_type": "code",
   "execution_count": 32,
   "id": "b69f61d0",
   "metadata": {},
   "outputs": [],
   "source": [
    "# # Save the response content to a file\n",
    "# with open(\"beacon_output/merged_subset.arrow\", \"wb\") as f:\n",
    "#     f.write(response.content)\n",
    "\n",
    "# # Read the Parquet file into a Pandas DataFrame\n",
    "# df = pd.read_feather(f\"./beacon_output/merged_subset.arrow\")\n",
    "# df = df.assign(datetime=pd.to_datetime(df['COMMON_TIME'])).set_index('COMMON_TIME').sort_index()\n",
    "# df"
   ]
  },
  {
   "cell_type": "markdown",
   "id": "0e651154",
   "metadata": {},
   "source": [
    "### Uncomment and run for netCDF output\n"
   ]
  },
  {
   "cell_type": "code",
   "execution_count": null,
   "id": "bc1e2dc6",
   "metadata": {},
   "outputs": [],
   "source": [
    "# # Save the response content to a file\n",
    "# with open(\"beacon_output/merged_subset.nc\", \"wb\") as f:\n",
    "#     f.write(response.content)\n",
    "\n",
    "\n",
    "# # Read the netCDF file into an xarray Dataset\n",
    "# df =xr.open_dataset(f\"./beacon_output/merged_subset.nc\").to_dataframe()\n",
    "# df = df.assign(datetime=pd.to_datetime(df['COMMON_TIME'])).set_index('COMMON_TIME').sort_index()\n",
    "# df"
   ]
  },
  {
   "cell_type": "markdown",
   "id": "99f4bdbb",
   "metadata": {},
   "source": [
    "### Uncomment and run for the ODV output\n"
   ]
  },
  {
   "cell_type": "code",
   "execution_count": 38,
   "id": "b9c50f26",
   "metadata": {},
   "outputs": [],
   "source": [
    "# Save the response content to a file\n",
    "with open(\"beacon_output/merged_subset_ODV.zip\", \"wb\") as f:\n",
    "    f.write(response.content)\n"
   ]
  },
  {
   "cell_type": "code",
   "execution_count": null,
   "id": "a8c3f018",
   "metadata": {},
   "outputs": [],
   "source": []
  }
 ],
 "metadata": {
  "kernelspec": {
   "display_name": "Python 3",
   "language": "python",
   "name": "python3"
  },
  "language_info": {
   "codemirror_mode": {
    "name": "ipython",
    "version": 3
   },
   "file_extension": ".py",
   "mimetype": "text/x-python",
   "name": "python",
   "nbconvert_exporter": "python",
   "pygments_lexer": "ipython3",
   "version": "3.12.4"
  }
 },
 "nbformat": 4,
 "nbformat_minor": 5
}
