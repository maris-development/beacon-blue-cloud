{
 "cells": [
  {
   "cell_type": "code",
   "execution_count": null,
   "id": "0550bd74",
   "metadata": {},
   "outputs": [],
   "source": [
    "%pip install beacon-api==1.0.9rc2"
   ]
  },
  {
   "cell_type": "code",
   "execution_count": null,
   "id": "234b12bc",
   "metadata": {},
   "outputs": [],
   "source": [
    "from beacon_api import *\n",
    "client = Client(\"https://beacon-argo.maris.nl\", jwt_token=\"\")"
   ]
  },
  {
   "cell_type": "code",
   "execution_count": null,
   "id": "af345eae",
   "metadata": {},
   "outputs": [],
   "source": [
    "tables = client.list_tables()\n",
    "tables"
   ]
  },
  {
   "cell_type": "code",
   "execution_count": null,
   "id": "aededeb7",
   "metadata": {},
   "outputs": [],
   "source": [
    "tables['default'].get_table_schema()"
   ]
  },
  {
   "cell_type": "code",
   "execution_count": null,
   "id": "d44f30ef",
   "metadata": {},
   "outputs": [],
   "source": [
    "# METADATA\n",
    "\n",
    "query_builder = tables['default'].query()\n",
    "query_builder = (\n",
    "    query_builder\n",
    "    .add_select_column(\"__entry_key\")\n",
    "    .add_select(SelectLiteral(\"BEACON_ARGO\", alias=\"SOURCE_BDI\"))\n",
    "    .add_select(SelectColumn(\"__entry_key\", alias=\"SOURCE_BDI_DATASET_ID\"))\n",
    "    .add_select(SelectColumn(\"PLATFORM_NUMBER\"))\n",
    "    .add_select(SelectColumn(\"CYCLE_NUMBER\"))\n",
    "    .add_select(SelectColumn(\"WMO_INST_TYPE\"))\n",
    "    .add_select(SelectColumn(\".featureType\"))\n",
    "    .add_select(SelectColumn(\".featureType\", alias=\"COMMON_FEATURE_TYPE\"))\n",
    "    .add_select(SelectFunction(\"concat\", [SelectColumn(\"__entry_key\"), SelectColumn(\"CYCLE_NUMBER\")], \"COMMON_ODV_TAG\"))\n",
    "    .add_select(SelectFunction(\"map_argo_platform_l06\", [SelectLiteral(0)], alias=\"COMMON_PLATFORM_L06\"))\n",
    ")"
   ]
  },
  {
   "cell_type": "code",
   "execution_count": null,
   "id": "07d1f2b5",
   "metadata": {},
   "outputs": [],
   "source": [
    "# TIME, LOCATION, DEPTH\n",
    "query_builder = (\n",
    "    query_builder\n",
    "    .add_select(SelectColumn(\"JULD\"))\n",
    "    .add_select(SelectColumn(\"JULD_QC\"))\n",
    "    .add_select(SelectColumn(\"JULD\", alias=\"COMMON_TIME\"))\n",
    "    .add_select(SelectColumn(\"JULD_QC\", alias=\"COMMON_TIME_QC\"))\n",
    "    \n",
    "    .add_select(SelectColumn(\"LATITUDE\"))\n",
    "    .add_select(SelectColumn(\"LATITUDE.standard_name\"))\n",
    "    .add_select(SelectColumn(\"LATITUDE.units\"))\n",
    "    .add_select(SelectColumn(\"LATITUDE\", alias=\"COMMON_LATITUDE\"))\n",
    "    .add_select(SelectLiteral(\"degrees_north\", \"COMMON_LATITUDE_UNITS\"))\n",
    "    .add_select(SelectLiteral(\"Latitude\", \"COMMON_LATITUDE_STANDARD_NAME\"))\n",
    "    .add_select(SelectLiteral(\"SDN:P01::ALATZZ01\", \"COMMON_LATITUDE_P01\"))\n",
    "    .add_select(SelectLiteral(\"SDN:P06::DEGN\", \"COMMON_LATITUDE_P06\"))\n",
    "    \n",
    "    .add_select(SelectColumn(\"LONGITUDE\"))\n",
    "    .add_select(SelectColumn(\"LONGITUDE.standard_name\"))\n",
    "    .add_select(SelectColumn(\"LONGITUDE.units\"))\n",
    "    .add_select(SelectColumn(\"LONGITUDE\", alias=\"COMMON_LONGITUDE\"))\n",
    "    .add_select(SelectLiteral(\"degrees_east\", \"COMMON_LONGITUDE_UNITS\"))\n",
    "    .add_select(SelectLiteral(\"Longitude\", \"COMMON_LONGITUDE_STANDARD_NAME\"))\n",
    "    .add_select(SelectLiteral(\"SDN:P01::ALONZZ01\", \"COMMON_LONGITUDE_P01\"))\n",
    "    .add_select(SelectLiteral(\"SDN:P06::DEGE\", \"COMMON_LONGITUDE_P06\"))\n",
    "    \n",
    "    .add_select(SelectColumn(\"POSITION_QC\"))\n",
    "    .add_select(SelectColumn(\"POSITION_QC\", alias=\"COMMON_POSITION_QC\"))\n",
    "    \n",
    "    .add_select_column(\"PRES\")\n",
    "    .add_select_column(\"PRES_ADJUSTED\")\n",
    "    .add_select_column(\"PRES.units\")\n",
    "    .add_select_column(\"PRES_ADJUSTED.units\")\n",
    "    .add_select_column(\"PRES_QC\")\n",
    "    .add_select_column(\"PRES_ADJUSTED_QC\")\n",
    "    .add_select_coalesced([\"PRES_ADJUSTED\", \"PRES\"], \"COMMON_ORIGIN_DEPTH\")\n",
    "    .add_select_coalesced([\"PRES_ADJUSTED_QC\", \"PRES_QC\"], \"COMMON_ORIGIN_DEPTH_QC\")\n",
    "    \n",
    "    .add_select(SelectColumn(\"PRES.units\", \"COMMON_ORIGIN_DEPTH_UNITS\"))\n",
    "    .add_select(SelectLiteral(\"PRES.standard_name\", \"COMMON_ORIGIN_DEPTH_STANDARD_NAME\"))\n",
    "    .add_select(SelectLiteral(\"SDN:P01::PRESPR01\", \"COMMON_ORIGIN_DEPTH_P01\"))\n",
    "    .add_select(SelectLiteral(\"SDN:P06::UPDB\", \"COMMON_ORIGIN_DEPTH_P06\"))\n",
    "\n",
    "    .add_select(SelectFunction(\"pressure_to_depth_teos_10\", [SelectFunction(\"coalesce\", [SelectColumn(\"PRES_ADJUSTED\"), SelectColumn(\"PRES\")]), SelectColumn(\"LATITUDE\")], \"COMMON_DEPTH\"))\n",
    "    .add_select(SelectFunction(\"coalesce\", [SelectColumn(\"PRES_ADJUSTED_QC\"), SelectColumn(\"PRES_QC\")], \"COMMON_DEPTH_QC\"))\n",
    "    .add_select(SelectLiteral(\"m\", \"COMMON_DEPTH_UNITS\"))\n",
    "    .add_select(SelectLiteral(\"depth\", \"COMMON_DEPTH_STANDARD_NAME\"))\n",
    "    .add_select(SelectLiteral(\"SDN:P01::ADEPZZ01\", \"COMMON_DEPTH_P01\"))\n",
    "    .add_select(SelectLiteral(\"SDN:P06::ULAA\", \"COMMON_DEPTH_P06\"))\n",
    ")"
   ]
  },
  {
   "cell_type": "code",
   "execution_count": null,
   "id": "d6f19a0a",
   "metadata": {},
   "outputs": [],
   "source": [
    "# TEMPERATURE\n",
    "query_builder = (\n",
    "    query_builder\n",
    "    .add_select(SelectColumn(\"TEMP\"))\n",
    "    .add_select(SelectColumn(\"TEMP_QC\"))\n",
    "    .add_select(SelectColumn(\"TEMP_ADJUSTED\"))\n",
    "    .add_select(SelectColumn(\"TEMP_ADJUSTED_QC\"))\n",
    "    .add_select_coalesced([\"TEMP_ADJUSTED\", \"TEMP\"], \"COMMON_TEMPERATURE\")\n",
    "    .add_select_coalesced([\"TEMP_ADJUSTED_QC\", \"TEMP_QC\"], \"COMMON_TEMPERATURE_QC\")\n",
    "    .add_select(SelectLiteral(\"SDN:P01::TEMPPR01\", \"COMMON_TEMPERATURE_P01\"))\n",
    "    .add_select(SelectLiteral(\"SDN:P06::UPAA\", \"COMMON_TEMPERATURE_P06\"))\n",
    "    .add_select(SelectLiteral(\"Temperature of the water body\", \"COMMON_TEMPERATURE_STANDARD_NAME\"))\n",
    "    .add_select(SelectLiteral(\"degrees_celsius\", \"COMMON_TEMPERATURE_UNITS\"))\n",
    "    .add_select(SelectFunction(\"map_argo_instrument_l05\", [SelectLiteral(0)], \"COMMON_TEMPERATURE_L05\"))\n",
    ")"
   ]
  },
  {
   "cell_type": "code",
   "execution_count": null,
   "id": "54dd1a80",
   "metadata": {},
   "outputs": [],
   "source": [
    "# Salinity\n",
    "query_builder = (\n",
    "    query_builder\n",
    "    .add_select(SelectColumn(\"PSAL\"))\n",
    "    .add_select(SelectColumn(\"PSAL_QC\"))\n",
    "    .add_select(SelectColumn(\"PSAL_ADJUSTED\"))\n",
    "    .add_select(SelectColumn(\"PSAL_ADJUSTED_QC\"))\n",
    "    .add_select_coalesced([\"PSAL_ADJUSTED\", \"PSAL\"], \"COMMON_SALINITY\")\n",
    "    .add_select_coalesced([\"PSAL_ADJUSTED_QC\", \"PSAL_QC\"], \"COMMON_SALINITY_QC\")\n",
    "    .add_select(SelectLiteral(\"SDN:P01::PSLTZZ01\", \"COMMON_SALINITY_P01\"))\n",
    "    .add_select(SelectLiteral(\"SDN:P06::UUUU\", \"COMMON_SALINITY_P06\"))\n",
    "    .add_select(SelectLiteral(\"Salinity of the water body\", \"COMMON_SALINITY_STANDARD_NAME\"))\n",
    "    .add_select(SelectLiteral(\"Dimensionless\", \"COMMON_SALINITY_UNITS\"))\n",
    "    .add_select(SelectFunction(\"map_argo_instrument_l05\", [SelectLiteral(0)], \"COMMON_SALINITY_L05\"))\n",
    ")"
   ]
  },
  {
   "cell_type": "code",
   "execution_count": null,
   "id": "4a230df2",
   "metadata": {},
   "outputs": [],
   "source": [
    "import os \n",
    "import json\n",
    "\n",
    "# Make output dir\n",
    "output_dir = \"./output\"\n",
    "os.makedirs(output_dir, exist_ok=True)\n",
    "# for each year between 1950 and 2025\n",
    "for year in range(1950, 2025):\n",
    "    print(f\"Processing year {year}\")\n",
    "    query_builder.filters = []\n",
    "    query_builder = query_builder.add_range_filter(\"COMMON_TIME\", f\"{year}-01-01T00:00:00Z\", f\"{year}-12-31T23:59:59Z\")\n",
    "    query_builder = (\n",
    "        query_builder.add_filter(OrFilter([\n",
    "            IsNotNullFilter(\"TEMP\"),\n",
    "            IsNotNullFilter(\"PSAL\"),\n",
    "        ]))\n",
    "    )\n",
    "    \n",
    "    output_file = os.path.join(output_dir, f\"argo_{year}.parquet\")\n",
    "    try:\n",
    "        query_builder.to_parquet(output_file)\n",
    "        print(f\"Saved to {output_file}\")\n",
    "    except Exception as e:\n",
    "        print(f\"Failed to process year {year}: {e}\")"
   ]
  }
 ],
 "metadata": {
  "language_info": {
   "name": "python"
  }
 },
 "nbformat": 4,
 "nbformat_minor": 5
}
