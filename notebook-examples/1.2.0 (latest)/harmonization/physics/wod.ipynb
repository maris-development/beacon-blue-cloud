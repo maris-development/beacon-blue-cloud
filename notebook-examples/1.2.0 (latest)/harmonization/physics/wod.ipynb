{
 "cells": [
  {
   "cell_type": "code",
   "execution_count": null,
   "id": "9fc685a6",
   "metadata": {},
   "outputs": [],
   "source": [
    "%pip install beacon-api==1.0.9rc2"
   ]
  },
  {
   "cell_type": "code",
   "execution_count": null,
   "id": "2f2db220",
   "metadata": {},
   "outputs": [],
   "source": [
    "from beacon_api import *\n",
    "client = Client(\"https://beacon-wod.maris.nl\", jwt_token=\"\")"
   ]
  },
  {
   "cell_type": "code",
   "execution_count": null,
   "id": "cb46e668",
   "metadata": {},
   "outputs": [],
   "source": [
    "tables = client.list_tables()\n",
    "tables"
   ]
  },
  {
   "cell_type": "code",
   "execution_count": null,
   "id": "b76b246d",
   "metadata": {},
   "outputs": [],
   "source": [
    "tables['default'].get_table_schema()"
   ]
  },
  {
   "cell_type": "code",
   "execution_count": null,
   "id": "9c2edf57",
   "metadata": {},
   "outputs": [],
   "source": [
    "WOD_FILL_VALUE = -10000000000.0"
   ]
  },
  {
   "cell_type": "code",
   "execution_count": null,
   "id": "aa3acd95",
   "metadata": {},
   "outputs": [],
   "source": [
    "query_builder = tables['default'].query()\n",
    "query_builder = (\n",
    "    query_builder\n",
    "    .add_select_column(\"__entry_key\")\n",
    "    .add_select_column(\"time\")\n",
    "    .add_select_column(\"time\", \"COMMON_TIME\")\n",
    "    .add_select_column(\"lon\")\n",
    "    .add_select_column(\"lon.units\")\n",
    "    .add_select_column(\"lon\", \"COMMON_LONGITUDE\")\n",
    "    .add_select(SelectLiteral(\"degrees_east\", \"COMMON_LONGITUDE_UNITS\"))\n",
    "    .add_select(SelectLiteral(\"Longitude\", \"COMMON_LONGITUDE_STANDARD_NAME\"))\n",
    "    .add_select(SelectLiteral(\"SDN:P01::ALONZZ01\", \"COMMON_LONGITUDE_P01\"))\n",
    "    .add_select(SelectLiteral(\"SDN:P06::DEGE\", \"COMMON_LONGITUDE_P06\"))\n",
    "    .add_select_column(\"lat\")\n",
    "    .add_select_column(\"lat.units\")\n",
    "    .add_select_column(\"lat\", \"COMMON_LATITUDE\")\n",
    "    .add_select(SelectLiteral(\"degrees_north\", \"COMMON_LATITUDE_UNITS\"))\n",
    "    .add_select(SelectLiteral(\"Latitude\", \"COMMON_LATITUDE_STANDARD_NAME\"))\n",
    "    .add_select(SelectLiteral(\"SDN:P01::ALATZZ01\", \"COMMON_LATITUDE_P01\"))\n",
    "    .add_select(SelectLiteral(\"SDN:P06::DEGN\", \"COMMON_LATITUDE_P06\"))\n",
    "    .add_select_column(\"z\")\n",
    "    .add_select_column(\"z.units\")\n",
    "    .add_select_column(\"z_WODflag\")\n",
    "    .add_select_column(\"z\", \"COMMON_ORIGIN_DEPTH\")\n",
    "    .add_select_column(\"z_WODflag\", \"COMMON_ORIGIN_DEPTH_QC\")\n",
    "    .add_select(SelectLiteral(\"m\", \"COMMON_ORIGIN_DEPTH_UNITS\"))\n",
    "    .add_select(SelectLiteral(\"Depth\", \"COMMON_ORIGIN_DEPTH_STANDARD_NAME\"))\n",
    "    .add_select(SelectLiteral(\"SDN:P01::ADEPZZ01\", \"COMMON_ORIGIN_DEPTH_P01\"))\n",
    "    .add_select(SelectLiteral(\"SDN:P06::ULAA\", \"COMMON_ORIGIN_DEPTH_P06\"))\n",
    "    .add_select_column(\"z\", \"COMMON_DEPTH\")\n",
    "    .add_select(SelectFunction(\"map_wod_quality_flag\", [SelectColumn(\"z_WODflag\")], \"COMMON_DEPTH_QC\"))\n",
    "    .add_select(SelectLiteral(\"m\", \"COMMON_DEPTH_UNITS\"))\n",
    "    .add_select(SelectLiteral(\"depth\", \"COMMON_DEPTH_STANDARD_NAME\"))\n",
    "    .add_select(SelectLiteral(\"SDN:P01::ADEPZZ01\", \"COMMON_DEPTH_P01\"))\n",
    "    .add_select(SelectLiteral(\"SDN:P06::ULAA\", \"COMMON_DEPTH_P06\"))\n",
    ")"
   ]
  },
  {
   "cell_type": "code",
   "execution_count": null,
   "id": "27919e5d",
   "metadata": {},
   "outputs": [],
   "source": [
    "query_builder = (\n",
    "    query_builder\n",
    "    .add_select(SelectLiteral(\"\", \"COMMON_EDMERP_CODE\"))\n",
    "    .add_select(SelectLiteral(\"\", \"COMMON_EDMO_CODE\"))\n",
    "    .add_select(SelectFunction(\"map_c17_l06\", [SelectFunction(\"map_wod_platform_c17\", [SelectColumn(\"Platform\")])], \"COMMON_PLATFORM_L06\"))\n",
    "    .add_select(SelectFunction(\"map_wod_platform_c17\", [SelectColumn(\"Platform\")], \"COMMON_PLATFORM_C17\"))\n",
    "    .add_select(SelectColumn(\"wod_unique_cast\", \"COMMON_ODV_TAG\"))\n",
    "    .add_select(SelectLiteral(\"BEACON_WOD\", \"SOURCE_BDI\"))\n",
    "    .add_select(SelectColumn(\"wod_unique_cast\", \"SOURCE_BDI_DATASET_ID\"))\n",
    "    .add_select(SelectColumn(\".featureType\"))\n",
    "    .add_select(SelectColumn(\".featureType\", alias=\"COMMON_FEATURE_TYPE\"))\n",
    "    .add_select_column(\"dataset\")\n",
    "    .add_select_column(\".institution\")\n",
    "    .add_select_column(\"Platform\")\n",
    "    .add_select_column(\"country\")\n",
    "    .add_select_column(\"WOD_cruise_identifier\")\n",
    "    .add_select_column(\"wod_unique_cast\")\n",
    ")"
   ]
  },
  {
   "cell_type": "code",
   "execution_count": null,
   "id": "df298503",
   "metadata": {},
   "outputs": [],
   "source": [
    "# Temperature\n",
    "query_builder = (\n",
    "    query_builder\n",
    "    .add_select(SelectColumn(\"Temperature\"))\n",
    "    .add_select(SelectColumn(\"Temperature_WODflag\"))\n",
    "    .add_select(SelectColumn(\"Temperature.units\"))\n",
    "    \n",
    "    .add_select(SelectColumn(\"Temperature\", \"COMMON_ORIGIN_TEMPERATURE\"))\n",
    "    .add_select(SelectColumn(\"Temperature_WODflag\", \"COMMON_ORIGIN_TEMPERATURE_QC\"))\n",
    "    .add_select(SelectColumn(\"Temperature.standard_name\", \"COMMON_ORIGIN_TEMPERATURE_STANDARD_NAME\"))\n",
    "    .add_select(SelectColumn(\"Temperature.units\", \"COMMON_ORIGIN_TEMPERATURE_UNITS\"))\n",
    "    .add_select(SelectLiteral(\"SDN:P01::TEMPPR01\", \"COMMON_ORIGIN_TEMPERATURE_P01\"))\n",
    "    .add_select(SelectLiteral(\"SDN:P06::UPAA\", \"COMMON_ORIGIN_TEMPERATURE_P06\"))\n",
    "    # MAP COMMON Temperature\n",
    "    .add_select(SelectFunction(\"nullif\", [SelectColumn(\"Temperature\"), SelectLiteral(-10000000000.0)], \"COMMON_TEMPERATURE\"))\n",
    "    .add_select(SelectFunction(\"map_wod_quality_flag\", [SelectColumn(\"Temperature_WODflag\")], \"COMMON_TEMPERATURE_QC\"))\n",
    "    .add_select(SelectLiteral(\"sea_water_temperature\", \"COMMON_TEMPERATURE_STANDARD_NAME\"))\n",
    "    .add_select(SelectLiteral(\"degree_C\", \"COMMON_TEMPERATURE_UNITS\"))\n",
    "    .add_select(SelectLiteral(\"SDN:P01::TEMPPR01\", \"COMMON_TEMPERATURE_P01\"))\n",
    "    .add_select(SelectLiteral(\"SDN:P06::UPAA\", \"COMMON_TEMPERATURE_P06\"))\n",
    "    # MAP COMMON Temperature INSTRUMENTS\n",
    "    .add_select(\n",
    "        SelectFunction(\"coalesce\", [\n",
    "            SelectFunction(\"map_wod_instrument_l05\", [SelectColumn(\"Temperature_Instrument\")]),\n",
    "            SelectFunction(\"map_l22_l05\", [SelectFunction(\"map_wod_instrument_l22\", [SelectColumn(\"Temperature_Instrument\")])])\n",
    "            ], \"COMMON_TEMPERATURE_L05\"))\n",
    "    .add_select(SelectFunction(\"map_wod_instrument_l22\", [SelectColumn(\"Temperature_Instrument\")], \"COMMON_TEMPERATURE_L22\"))\n",
    "    .add_select(SelectFunction(\"map_wod_instrument_l33\", [SelectColumn(\"Temperature_Instrument\")], \"COMMON_TEMPERATURE_L33\"))\n",
    "    .add_select(SelectColumn(\"Temperature_Instrument\"))\n",
    ")"
   ]
  },
  {
   "cell_type": "code",
   "execution_count": null,
   "id": "b0690d71",
   "metadata": {},
   "outputs": [],
   "source": [
    "# Salinity\n",
    "query_builder = (\n",
    "    query_builder\n",
    "    .add_select(SelectColumn(\"Salinity\"))\n",
    "    .add_select(SelectColumn(\"Salinity_WODflag\"))\n",
    "    .add_select(SelectColumn(\"Salinity\", \"COMMON_ORIGIN_SALINITY\"))\n",
    "    .add_select(SelectColumn(\"Salinity_WODflag\", \"COMMON_ORIGIN_SALINITY_QC\"))\n",
    "    .add_select(SelectColumn(\"Salinity.standard_name\", \"COMMON_ORIGIN_SALINITY_STANDARD_NAME\"))\n",
    "    .add_select(SelectLiteral(\"\", \"COMMON_ORIGIN_SALINITY_UNITS\"))\n",
    "    .add_select(SelectLiteral(\"SDN:P01::PSLTZZ01\", \"COMMON_ORIGIN_SALINITY_P01\"))\n",
    "    .add_select(SelectLiteral(\"SDN:P06::UUUU\", \"COMMON_ORIGIN_SALINITY_P06\"))\n",
    "    # MAP COMMON Salinity\n",
    "    .add_select(SelectFunction(\"nullif\", [SelectColumn(\"Salinity\"), SelectLiteral(-10000000000.0)], \"COMMON_SALINITY\"))\n",
    "    .add_select(SelectFunction(\"map_wod_quality_flag\", [SelectColumn(\"Salinity_WODflag\")], \"COMMON_SALINITY_QC\"))\n",
    "    .add_select(SelectLiteral(\"sea_water_salinity\", \"COMMON_SALINITY_STANDARD_NAME\"))\n",
    "    .add_select(SelectLiteral(\"1e-3\", \"COMMON_SALINITY_UNITS\"))\n",
    "    .add_select(SelectLiteral(\"SDN:P01::PSLTZZ01\", \"COMMON_SALINITY_P01\"))\n",
    "    .add_select(SelectLiteral(\"SDN:P06::UUUU\", \"COMMON_SALINITY_P06\"))\n",
    "    # Instruments\n",
    "    .add_select(\n",
    "        SelectFunction(\"coalesce\", [\n",
    "            SelectFunction(\"map_wod_instrument_l05\", [SelectColumn(\"Salinity_Instrument\")]),\n",
    "            SelectFunction(\"map_l22_l05\", [SelectFunction(\"map_wod_instrument_l22\", [SelectColumn(\"Salinity_Instrument\")])])\n",
    "            ], \"COMMON_SALINITY_L05\"))\n",
    "    .add_select(SelectFunction(\"map_wod_instrument_l22\", [SelectColumn(\"Salinity_Instrument\")], \"COMMON_SALINITY_L22\"))\n",
    "    .add_select(SelectFunction(\"map_wod_instrument_l33\", [SelectColumn(\"Salinity_Instrument\")], \"COMMON_SALINITY_L33\"))\n",
    "    .add_select(SelectColumn(\"Salinity_Instrument\"))\n",
    ")"
   ]
  },
  {
   "cell_type": "code",
   "execution_count": null,
   "id": "012e399d",
   "metadata": {},
   "outputs": [],
   "source": [
    "import os \n",
    "import json\n",
    "\n",
    "# Make output dir\n",
    "output_dir = \"./output\"\n",
    "os.makedirs(output_dir, exist_ok=True)\n",
    "# for each year between 1950 and 2025\n",
    "for year in range(1950, 2025):\n",
    "    print(f\"Processing year {year}\")\n",
    "    query_builder.filters = []\n",
    "    query_builder = query_builder.add_range_filter(\"COMMON_TIME\", f\"{year}-01-01T00:00:00Z\", f\"{year}-12-31T23:59:59Z\")\n",
    "    query_builder = (\n",
    "        query_builder.add_filter(OrFilter([\n",
    "            IsNotNullFilter(\"Temperature\"),\n",
    "            IsNotNullFilter(\"Salinity\"),\n",
    "        ]))\n",
    "    )\n",
    "    \n",
    "    output_file = os.path.join(output_dir, f\"wod_{year}.parquet\")\n",
    "    try:\n",
    "        query_builder.to_parquet(output_file)\n",
    "        print(f\"Saved to {output_file}\")\n",
    "    except Exception as e:\n",
    "        print(f\"Failed to process year {year}: {e}\")"
   ]
  }
 ],
 "metadata": {
  "language_info": {
   "name": "python"
  }
 },
 "nbformat": 4,
 "nbformat_minor": 5
}
