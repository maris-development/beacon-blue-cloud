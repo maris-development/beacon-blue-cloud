{
 "cells": [
  {
   "cell_type": "markdown",
   "id": "ed94c67c",
   "metadata": {},
   "source": [
    "# This is a notebook for querying the CDI-incremental instance.\n",
    "* You can run each cell individually by pressing \"shift + enter\".\n",
    "* Please run the first few cells in order for the input widgets to appear.\n",
    "* For more information, questions, bugs, please contact us on Slack:\n",
    "    + https://join.slack.com/t/beacontechnic-wwa5548/shared_invite/zt-2n95bd4rk-XMtZ9AVhVapwrFna1J5qmA."
   ]
  },
  {
   "cell_type": "markdown",
   "id": "f323bd3d",
   "metadata": {},
   "source": [
    "#### In order to get access to the Beacon endpoint, you need to fill in your unique personal token that you should receive via Blue-Cloud between the '' \" in the cell below."
   ]
  },
  {
   "cell_type": "code",
   "execution_count": 1,
   "id": "abd62094",
   "metadata": {},
   "outputs": [],
   "source": [
    "Token = ''"
   ]
  },
  {
   "cell_type": "markdown",
   "id": "bfc16e61",
   "metadata": {},
   "source": [
    "#### Importing the required packages."
   ]
  },
  {
   "cell_type": "code",
   "execution_count": 2,
   "id": "72bf04d1",
   "metadata": {},
   "outputs": [],
   "source": [
    "import requests\n",
    "import json\n",
    "import xarray as xr\n",
    "import datetime\n",
    "from ipywidgets import interact, widgets, interactive\n",
    "from IPython.display import Javascript, display\n",
    "import pandas as pd\n",
    "import os"
   ]
  },
  {
   "cell_type": "markdown",
   "id": "fd165d4e",
   "metadata": {},
   "source": [
    "#### This retrieves the available parameters from the footprint."
   ]
  },
  {
   "cell_type": "code",
   "execution_count": 3,
   "id": "a007ef37",
   "metadata": {},
   "outputs": [],
   "source": [
    "if not os.path.exists('./Footprint'):\n",
    "    os.makedirs('Footprint')\n",
    "\n",
    "responseinfo = requests.get(\"https://beacon-cdi-incremental.maris.nl/api/datasets/footprint\", headers = {'Authorization' : f'Bearer {Token}'}) \n",
    "open('./Footprint/Footprint_CDI-incremental.json', 'wb').write(responseinfo.content)\n",
    "with open('./Footprint/Footprint_CDI-incremental.json', 'r') as f:\n",
    "    data = json.load(f)\n",
    "\n",
    "pd.set_option('display.max_rows', 500)\n",
    "attributes = pd.DataFrame.from_dict(data['unique_column_attributes'], orient='index')\n",
    "attributes.reset_index(level=0, inplace=True)\n",
    "attributes = attributes.sort_values('index', ascending=True, key=lambda col: col.str.lower())\n",
    "params = attributes['index'].to_numpy()\n"
   ]
  },
  {
   "cell_type": "markdown",
   "id": "84d4e79d",
   "metadata": {},
   "source": [
    "#### In the widgets below, you should select your preferred filters and press \"Execute all cells\" to run the whole notebook."
   ]
  },
  {
   "cell_type": "code",
   "execution_count": 4,
   "id": "4ea68c39",
   "metadata": {},
   "outputs": [
    {
     "data": {
      "application/vnd.jupyter.widget-view+json": {
       "model_id": "695ce2df031445999c82df9e003c1808",
       "version_major": 2,
       "version_minor": 0
      },
      "text/plain": [
       "interactive(children=(Dropdown(description='parameter', options=('ABCP', 'ABCP_SEADATANET_QC', 'ABSP620A', 'AB…"
      ]
     },
     "metadata": {},
     "output_type": "display_data"
    },
    {
     "data": {
      "application/vnd.jupyter.widget-view+json": {
       "model_id": "3000900964404fab81dd133b6d81c313",
       "version_major": 2,
       "version_minor": 0
      },
      "text/plain": [
       "Button(description='Execute all cells', style=ButtonStyle())"
      ]
     },
     "metadata": {},
     "output_type": "display_data"
    }
   ],
   "source": [
    "def f(parameter, minlon, maxlon, minlat, maxlat, mindepth, maxdepth, mintemp, maxtemp):\n",
    "    return parameter, minlon, maxlon, minlat, maxlat, mindepth, maxdepth, mintemp, maxtemp\n",
    "\n",
    "w = interactive(f, parameter = params, minlon = (-180, 180, 1), maxlon = (-180, 180, 1), minlat = (-90, 90, 1), maxlat = (-90, 90, 1), mindepth = widgets.IntSlider(min = 0, max = 5000, value = 0), maxdepth = widgets.IntSlider(min = 0, max = 5000, value = 10), mintemp = widgets.DatePicker(description='Start date:', value = datetime.date(2000, 1, 1)), maxtemp = widgets.DatePicker(description='End date:', value = datetime.date(2003, 1, 1)))\n",
    "\n",
    "display(w)\n",
    "\n",
    "def run_all(ev):\n",
    "    display(Javascript('IPython.notebook.execute_cell_range(IPython.notebook.get_selected_index()+1, IPython.notebook.ncells())'))\n",
    "\n",
    "button = widgets.Button(description = \"Execute all cells\")\n",
    "button.on_click(run_all)\n",
    "display(button)"
   ]
  },
  {
   "cell_type": "markdown",
   "id": "22c117c8",
   "metadata": {},
   "source": [
    "#### Storing the chosen filters."
   ]
  },
  {
   "cell_type": "code",
   "execution_count": 17,
   "id": "275176ac",
   "metadata": {},
   "outputs": [],
   "source": [
    "parameter = w.kwargs['parameter']\n",
    "mintemp = w.kwargs['mintemp']\n",
    "maxtemp = w.kwargs['maxtemp']\n",
    "minlon = w.kwargs['minlon']\n",
    "maxlon = w.kwargs['maxlon']\n",
    "minlat = w.kwargs['minlat']\n",
    "maxlat = w.kwargs['maxlat']\n",
    "mindepth = w.kwargs['mindepth']\n",
    "maxdepth = w.kwargs['maxdepth'] "
   ]
  },
  {
   "cell_type": "markdown",
   "id": "d0fde30c",
   "metadata": {},
   "source": [
    "#### The fields below are fixed for the CDI-incremental instance."
   ]
  },
  {
   "cell_type": "code",
   "execution_count": 18,
   "id": "73064a22",
   "metadata": {},
   "outputs": [],
   "source": [
    "unit = attributes.loc[attributes['index'] == parameter]['units'].iloc[0]\n",
    "dateref = datetime.date(1950, 1, 1) \n",
    "mintemporal = (mintemp - dateref).days + 2433282.500000 #Days since -4713\n",
    "maxtemporal = (maxtemp - dateref).days + 2433282.500000 #Days since -4713\n",
    "regionname = f'[{minlat},{minlon}],[{maxlat},{maxlon}]' "
   ]
  },
  {
   "cell_type": "markdown",
   "id": "0fd8c885",
   "metadata": {},
   "source": [
    "#### Query body based on your input fields, you can add other \"query_parameters\" and \"filters\" to suit your needs. \n",
    "* For more query examples, you can take a look at https://maris-development.github.io/beacon/available-nodes/blue-cloud-2026/seadatanet-cdi-incremental.html.  \n",
    "* Instead of column_name \"PRES\" you can also use \"DEPTH\"."
   ]
  },
  {
   "cell_type": "code",
   "execution_count": 19,
   "id": "dfb995c5",
   "metadata": {},
   "outputs": [],
   "source": [
    "def query(parameter, mintemporal, maxtemporal, mindepth, maxdepth, minlon, maxlon, minlat, maxlat):\n",
    "    body = {\n",
    "        \"query_parameters\": [\n",
    "            {\n",
    "                \"column_name\": parameter,\n",
    "                \"alias\": parameter\n",
    "            },\n",
    "            {\n",
    "                \"column_name\": \"TIME\",\n",
    "                \"alias\": \"TIME\"\n",
    "            },\n",
    "            {\n",
    "                \"column_name\": \"PRES\",\n",
    "                \"alias\": \"DEPTH\"\n",
    "            },\n",
    "            {\n",
    "                \"column_name\": \"LONGITUDE\",\n",
    "                \"alias\": \"LONGITUDE\"\n",
    "            },\n",
    "            {\n",
    "                \"column_name\": \"LATITUDE\",\n",
    "                \"alias\": \"LATITUDE\"\n",
    "            }\n",
    "        ],\n",
    "        \"filters\": [\n",
    "            {\n",
    "              \"for_query_parameter\": \"TIME\",\n",
    "              \"min\": mintemporal,\n",
    "              \"max\": maxtemporal\n",
    "            },\n",
    "            {\n",
    "              \"for_query_parameter\": \"DEPTH\",\n",
    "              \"min\": mindepth,\n",
    "              \"max\": maxdepth\n",
    "            },\n",
    "            {\n",
    "              \"for_query_parameter\": \"LONGITUDE\",\n",
    "              \"min\": minlon,\n",
    "              \"max\": maxlon\n",
    "            },\n",
    "            {\n",
    "              \"for_query_parameter\": \"LATITUDE\",\n",
    "              \"min\": minlat,\n",
    "              \"max\": maxlat\n",
    "            },\n",
    "            {\n",
    "              \"for_query_parameter\": parameter,\n",
    "              \"min\": -2,\n",
    "              \"max\": 40\n",
    "            }\n",
    "        ],\n",
    "        \"output\": {\n",
    "            \"format\": \"netcdf\"\n",
    "        }}\n",
    "    return body\n",
    "\n",
    "query = query(parameter, mintemporal, maxtemporal, mindepth, maxdepth, minlon, maxlon, minlat, maxlat)"
   ]
  },
  {
   "cell_type": "markdown",
   "id": "10d9ba0f",
   "metadata": {},
   "source": [
    "#### This is the post request that is sent to Beacon with the above specified body."
   ]
  },
  {
   "cell_type": "code",
   "execution_count": 20,
   "id": "4911622c",
   "metadata": {},
   "outputs": [],
   "source": [
    "response = requests.post(\"https://beacon-cdi-incremental.maris.nl/api/query\", json.dumps(query), headers = {\n",
    "    'Authorization' : f'Bearer {Token}',\n",
    "    'Content-type': 'application/json'\n",
    "})\n",
    "\n",
    "if response.status_code == 204:\n",
    "    print('No data has been found for your query, please update your input fields above and run the notebook again.')\n",
    "elif response.status_code != 200:\n",
    "    print(response.text)"
   ]
  },
  {
   "cell_type": "markdown",
   "id": "bd3ce6f2",
   "metadata": {},
   "source": [
    "#### This will create a Netcdf file in your directory with the name based on your filters, the output is shown here in a dataframe."
   ]
  },
  {
   "cell_type": "code",
   "execution_count": 21,
   "id": "3f2b39d1",
   "metadata": {},
   "outputs": [
    {
     "data": {
      "text/html": [
       "<div>\n",
       "<style scoped>\n",
       "    .dataframe tbody tr th:only-of-type {\n",
       "        vertical-align: middle;\n",
       "    }\n",
       "\n",
       "    .dataframe tbody tr th {\n",
       "        vertical-align: top;\n",
       "    }\n",
       "\n",
       "    .dataframe thead th {\n",
       "        text-align: right;\n",
       "    }\n",
       "</style>\n",
       "<table border=\"1\" class=\"dataframe\">\n",
       "  <thead>\n",
       "    <tr style=\"text-align: right;\">\n",
       "      <th></th>\n",
       "      <th>TEMP</th>\n",
       "      <th>TIME</th>\n",
       "      <th>DEPTH</th>\n",
       "      <th>LONGITUDE</th>\n",
       "      <th>LATITUDE</th>\n",
       "      <th>dataset_id</th>\n",
       "    </tr>\n",
       "    <tr>\n",
       "      <th>INSTANCE</th>\n",
       "      <th></th>\n",
       "      <th></th>\n",
       "      <th></th>\n",
       "      <th></th>\n",
       "      <th></th>\n",
       "      <th></th>\n",
       "    </tr>\n",
       "  </thead>\n",
       "  <tbody>\n",
       "    <tr>\n",
       "      <th>0</th>\n",
       "      <td>19.054000</td>\n",
       "      <td>2.456452e+06</td>\n",
       "      <td>1.00</td>\n",
       "      <td>7.904333</td>\n",
       "      <td>43.367833</td>\n",
       "      <td>3560878</td>\n",
       "    </tr>\n",
       "    <tr>\n",
       "      <th>1</th>\n",
       "      <td>19.179000</td>\n",
       "      <td>2.456452e+06</td>\n",
       "      <td>2.00</td>\n",
       "      <td>7.904333</td>\n",
       "      <td>43.367833</td>\n",
       "      <td>3560878</td>\n",
       "    </tr>\n",
       "    <tr>\n",
       "      <th>2</th>\n",
       "      <td>19.043000</td>\n",
       "      <td>2.456452e+06</td>\n",
       "      <td>3.00</td>\n",
       "      <td>7.904333</td>\n",
       "      <td>43.367833</td>\n",
       "      <td>3560878</td>\n",
       "    </tr>\n",
       "    <tr>\n",
       "      <th>3</th>\n",
       "      <td>18.730000</td>\n",
       "      <td>2.456452e+06</td>\n",
       "      <td>4.00</td>\n",
       "      <td>7.904333</td>\n",
       "      <td>43.367833</td>\n",
       "      <td>3560878</td>\n",
       "    </tr>\n",
       "    <tr>\n",
       "      <th>4</th>\n",
       "      <td>17.970000</td>\n",
       "      <td>2.456452e+06</td>\n",
       "      <td>5.00</td>\n",
       "      <td>7.904333</td>\n",
       "      <td>43.367833</td>\n",
       "      <td>3560878</td>\n",
       "    </tr>\n",
       "    <tr>\n",
       "      <th>...</th>\n",
       "      <td>...</td>\n",
       "      <td>...</td>\n",
       "      <td>...</td>\n",
       "      <td>...</td>\n",
       "      <td>...</td>\n",
       "      <td>...</td>\n",
       "    </tr>\n",
       "    <tr>\n",
       "      <th>2286301</th>\n",
       "      <td>17.904800</td>\n",
       "      <td>2.456791e+06</td>\n",
       "      <td>5.38</td>\n",
       "      <td>2.845865</td>\n",
       "      <td>36.794212</td>\n",
       "      <td>3319008</td>\n",
       "    </tr>\n",
       "    <tr>\n",
       "      <th>2286302</th>\n",
       "      <td>18.101801</td>\n",
       "      <td>2.456791e+06</td>\n",
       "      <td>4.67</td>\n",
       "      <td>2.845866</td>\n",
       "      <td>36.794216</td>\n",
       "      <td>3319008</td>\n",
       "    </tr>\n",
       "    <tr>\n",
       "      <th>2286303</th>\n",
       "      <td>18.487700</td>\n",
       "      <td>2.456791e+06</td>\n",
       "      <td>3.98</td>\n",
       "      <td>2.845866</td>\n",
       "      <td>36.794220</td>\n",
       "      <td>3319008</td>\n",
       "    </tr>\n",
       "    <tr>\n",
       "      <th>2286304</th>\n",
       "      <td>18.568701</td>\n",
       "      <td>2.456791e+06</td>\n",
       "      <td>3.30</td>\n",
       "      <td>2.845866</td>\n",
       "      <td>36.794224</td>\n",
       "      <td>3319008</td>\n",
       "    </tr>\n",
       "    <tr>\n",
       "      <th>2286305</th>\n",
       "      <td>18.608299</td>\n",
       "      <td>2.456791e+06</td>\n",
       "      <td>3.13</td>\n",
       "      <td>2.845867</td>\n",
       "      <td>36.794229</td>\n",
       "      <td>3319008</td>\n",
       "    </tr>\n",
       "  </tbody>\n",
       "</table>\n",
       "<p>2286306 rows × 6 columns</p>\n",
       "</div>"
      ],
      "text/plain": [
       "               TEMP          TIME  DEPTH  LONGITUDE   LATITUDE  dataset_id\n",
       "INSTANCE                                                                  \n",
       "0         19.054000  2.456452e+06   1.00   7.904333  43.367833     3560878\n",
       "1         19.179000  2.456452e+06   2.00   7.904333  43.367833     3560878\n",
       "2         19.043000  2.456452e+06   3.00   7.904333  43.367833     3560878\n",
       "3         18.730000  2.456452e+06   4.00   7.904333  43.367833     3560878\n",
       "4         17.970000  2.456452e+06   5.00   7.904333  43.367833     3560878\n",
       "...             ...           ...    ...        ...        ...         ...\n",
       "2286301   17.904800  2.456791e+06   5.38   2.845865  36.794212     3319008\n",
       "2286302   18.101801  2.456791e+06   4.67   2.845866  36.794216     3319008\n",
       "2286303   18.487700  2.456791e+06   3.98   2.845866  36.794220     3319008\n",
       "2286304   18.568701  2.456791e+06   3.30   2.845866  36.794224     3319008\n",
       "2286305   18.608299  2.456791e+06   3.13   2.845867  36.794229     3319008\n",
       "\n",
       "[2286306 rows x 6 columns]"
      ]
     },
     "execution_count": 21,
     "metadata": {},
     "output_type": "execute_result"
    }
   ],
   "source": [
    "if not os.path.exists('./DataOutput'):\n",
    "    os.makedirs('DataOutput')\n",
    "\n",
    "open(f'./DataOutput/CDI-incremental_{parameter}_{regionname}_{mintemp.strftime(\"%Y-%m-%d\")}-{maxtemp.strftime(\"%Y-%m-%d\")}_[{mindepth}-{maxdepth}m].nc', 'wb').write(response.content)\n",
    "df = xr.open_dataset(f'./DataOutput/CDI-incremental_{parameter}_{regionname}_{mintemp.strftime(\"%Y-%m-%d\")}-{maxtemp.strftime(\"%Y-%m-%d\")}_[{mindepth}-{maxdepth}m].nc').to_dataframe()\n",
    "df"
   ]
  },
  {
   "cell_type": "markdown",
   "id": "371d2046",
   "metadata": {},
   "source": [
    "#### Plotting of results, if there are a lot of measurements, it may take quite some time (+-5 min)."
   ]
  },
  {
   "cell_type": "code",
   "execution_count": 22,
   "id": "5c1e3792",
   "metadata": {},
   "outputs": [],
   "source": [
    "import conda\n",
    "\n",
    "conda_file_dir = conda.__file__\n",
    "conda_dir = conda_file_dir.split('lib')[0]\n",
    "proj_lib = os.path.join(os.path.join(conda_dir, 'share'), 'proj')\n",
    "os.environ[\"PROJ_LIB\"] = proj_lib\n",
    "\n",
    "import matplotlib.pyplot as plt\n",
    "from mpl_toolkits.basemap import Basemap\n",
    "from mpl_toolkits.axes_grid1 import make_axes_locatable\n",
    "fig = plt.figure(1, figsize = (29, 19))\n",
    "\n",
    "m = Basemap(projection = 'cyl', llcrnrlon = minlon, llcrnrlat = minlat, urcrnrlon = maxlon, urcrnrlat = maxlat, resolution = 'i') \n",
    "m.drawlsmask(land_color = 'Linen', ocean_color = '#CCFFFF'); # can use HTML names or codes for colors\n",
    "m.drawcoastlines()\n",
    "m.drawcountries()\n",
    "\n",
    "sc = m.scatter(df['LONGITUDE'], df['LATITUDE'], latlon = True, c = df[f'{parameter}'], cmap = plt.cm.jet)\n",
    "\n",
    "plt.title(f'CDI-incremental {parameter} {regionname} {mintemp.strftime(\"%Y-%m-%d\")}-{maxtemp.strftime(\"%Y-%m-%d\")} [{mindepth}-{maxdepth}m] #Points = {len(df)}', fontsize = 25)\n",
    "\n",
    "ax = plt.gca()\n",
    "divider = make_axes_locatable(ax)\n",
    "cax = divider.append_axes(\"right\", size = \"5%\", pad = 0.05)\n",
    "plt.colorbar(sc, cax = cax, label = f'{parameter} {unit}');"
   ]
  }
 ],
 "metadata": {
  "kernelspec": {
   "display_name": "Python 3 (ipykernel)",
   "language": "python",
   "name": "python3"
  },
  "language_info": {
   "codemirror_mode": {
    "name": "ipython",
    "version": 3
   },
   "file_extension": ".py",
   "mimetype": "text/x-python",
   "name": "python",
   "nbconvert_exporter": "python",
   "pygments_lexer": "ipython3",
   "version": "3.9.7"
  }
 },
 "nbformat": 4,
 "nbformat_minor": 5
}
