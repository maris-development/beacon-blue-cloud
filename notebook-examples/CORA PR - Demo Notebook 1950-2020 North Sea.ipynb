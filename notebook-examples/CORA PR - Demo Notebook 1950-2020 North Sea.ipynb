{
 "cells": [
  {
   "cell_type": "code",
   "execution_count": null,
   "metadata": {},
   "outputs": [],
   "source": [
    "import requests\n",
    "import json\n",
    "import xarray as xr\n",
    "import pandas as pd\n",
    "import datetime\n",
    "import matplotlib.pyplot as plt\n",
    "\n",
    "url = 'https://beacon-cora-pr.maris.nl'\n",
    "token = ''"
   ]
  },
  {
   "cell_type": "markdown",
   "metadata": {},
   "source": [
    "Here we get all the available parameters that are ready for querying the footprint of the Beacon Instance.\n",
    "We then print all the available parameters in the log below the code cell."
   ]
  },
  {
   "cell_type": "code",
   "execution_count": null,
   "metadata": {},
   "outputs": [],
   "source": [
    "# Getting the available parameters through the footprint\n",
    "\n",
    "footprint_url = f'{url}/api/datasets/footprint'\n",
    "\n",
    "# Sending the request with the token in the header\n",
    "response = requests.get(footprint_url, headers={\n",
    "                        'Authorization': f'Bearer {token}'})\n",
    "\n",
    "attributes = pd.DataFrame.from_dict(\n",
    "    response.json()['unique_column_attributes'], orient='index')\n",
    "attributes.reset_index(level=0, inplace=True)\n",
    "\n",
    "attributes = attributes.sort_values(\n",
    "    'index', ascending=True, key=lambda col: col.str.lower())\n",
    "\n",
    "params = attributes['index'].to_numpy()\n",
    "\n",
    "print(params)"
   ]
  },
  {
   "cell_type": "markdown",
   "metadata": {},
   "source": [
    "Set the parameter to query for which longitude, latitude and time."
   ]
  },
  {
   "cell_type": "code",
   "execution_count": null,
   "metadata": {
    "tags": [
     "parameters"
    ]
   },
   "outputs": [],
   "source": [
    "lon_min = 0.0\n",
    "lon_max = 5.0\n",
    "lat_min = 51.0\n",
    "lat_max = 55.0\n",
    "depth_min = 0.0\n",
    "depth_max = 10.0\n",
    "start_date = '1950-01-01'\n",
    "end_date = '2020-01-01'\n",
    "\n",
    "parameter = 'TEMP'"
   ]
  },
  {
   "cell_type": "code",
   "execution_count": null,
   "metadata": {},
   "outputs": [],
   "source": [
    "# Convenience function to calculate the number of days since 1950\n",
    "def days_since_1950(date_str):\n",
    "    # Parse the input date string to a datetime object\n",
    "    input_date = datetime.datetime.strptime(date_str, '%Y-%m-%d')\n",
    "\n",
    "    # Define the reference date: January 1, 1950\n",
    "    reference_date = datetime.datetime(1950, 1, 1)\n",
    "\n",
    "    # Calculate the difference in days\n",
    "    delta = input_date - reference_date\n",
    "\n",
    "    # Return the number of days as an integer\n",
    "    return delta.days\n",
    "\n",
    "# Building the query\n",
    "\n",
    "\n",
    "query = {\n",
    "    \"query_parameters\": [\n",
    "        {\n",
    "            \"column_name\": parameter,\n",
    "            \"alias\": parameter,\n",
    "            \"optional\": False,\n",
    "            \"skip_fill_values\": True\n",
    "        },\n",
    "        {\n",
    "            \"column_name\": \"JULD\",\n",
    "            \"alias\": \"TIME\"\n",
    "        },\n",
    "        {\n",
    "            \"column_name\": \"DEPH\",\n",
    "            \"alias\": \"DEPTH\"\n",
    "        },\n",
    "        {\n",
    "            \"column_name\": \"LONGITUDE\",\n",
    "            \"alias\": \"LONGITUDE\"\n",
    "        },\n",
    "        {\n",
    "            \"column_name\": \"LATITUDE\",\n",
    "            \"alias\": \"LATITUDE\"\n",
    "        }\n",
    "    ],\n",
    "    \"filters\": [\n",
    "        {\n",
    "            \"for_query_parameter\": \"TIME\",\n",
    "            \"min\": days_since_1950(start_date),\n",
    "            \"max\": days_since_1950(end_date)\n",
    "        },\n",
    "        {\n",
    "            \"for_query_parameter\": \"DEPTH\",\n",
    "            \"min\": depth_min,\n",
    "            \"max\": depth_max\n",
    "        },\n",
    "        {\n",
    "            \"for_query_parameter\": \"LONGITUDE\",\n",
    "            \"min\": lon_min,\n",
    "            \"max\": lon_max\n",
    "        },\n",
    "        {\n",
    "            \"for_query_parameter\": \"LATITUDE\",\n",
    "            \"min\": lat_min,\n",
    "            \"max\": lat_max\n",
    "        }\n",
    "    ],\n",
    "    \"output\": {\n",
    "        \"format\": \"netcdf\"\n",
    "    }}"
   ]
  },
  {
   "cell_type": "code",
   "execution_count": null,
   "metadata": {},
   "outputs": [],
   "source": [
    "response = requests.post(f\"{url}/api/query\", json.dumps(query), headers={\n",
    "    'Authorization': f'Bearer {token}',\n",
    "    'Content-type': 'application/json'\n",
    "})\n",
    "\n",
    "if response.status_code != 200:\n",
    "    print(response.json())\n",
    "\n",
    "# Create file to store response content\n",
    "with open('./DataOutput/cora-pr-notebook-timeseries.nc', 'wb') as f:\n",
    "    f.write(response.content)\n",
    "\n",
    "# Open the netcdf file\n",
    "\n",
    "df = xr.open_dataset(\n",
    "    './DataOutput/cora-pr-notebook-timeseries.nc').to_dataframe()\n",
    "df['TIME'] = pd.to_datetime(df['TIME'], unit='D', origin='1950-01-01')"
   ]
  },
  {
   "cell_type": "code",
   "execution_count": null,
   "metadata": {},
   "outputs": [],
   "source": [
    "df.plot.scatter(cmap='viridis', x='TIME', y='TEMP',\n",
    "                c='TEMP', figsize=(25, 10), s=3)"
   ]
  },
  {
   "cell_type": "code",
   "execution_count": null,
   "metadata": {},
   "outputs": [],
   "source": [
    "from mpl_toolkits.axes_grid1 import make_axes_locatable\n",
    "from mpl_toolkits.basemap import Basemap\n",
    "import matplotlib.pyplot as plt\n",
    "\n",
    "fig = plt.figure(1, figsize=(29, 19))\n",
    "\n",
    "m = Basemap(projection='cyl', llcrnrlon=lon_min, llcrnrlat=lat_min,\n",
    "            urcrnrlon=lon_max, urcrnrlat=lat_max, resolution='i')\n",
    "# can use HTML names or codes for colors\n",
    "m.drawlsmask(land_color='Linen', ocean_color='#CCFFFF')\n",
    "m.drawcoastlines()\n",
    "m.drawcountries()\n",
    "\n",
    "sc = m.scatter(df['LONGITUDE'], df['LATITUDE'], latlon=True,\n",
    "               c=df[f'{parameter}'], cmap=plt.cm.jet)\n",
    "\n",
    "plt.title(\n",
    "    f'CORA_TS {parameter} #Points = {len(df)}', fontsize=25)\n",
    "\n",
    "ax = plt.gca()\n",
    "divider = make_axes_locatable(ax)\n",
    "cax = divider.append_axes(\"right\", size=\"5%\", pad=0.05)\n",
    "plt.colorbar(sc, cax=cax, label=f'{parameter}')"
   ]
  }
 ],
 "metadata": {
  "kernelspec": {
   "display_name": "Python 3",
   "language": "python",
   "name": "python3"
  },
  "language_info": {
   "codemirror_mode": {
    "name": "ipython",
    "version": 3
   },
   "file_extension": ".py",
   "mimetype": "text/x-python",
   "name": "python",
   "nbconvert_exporter": "python",
   "pygments_lexer": "ipython3",
   "version": "3.10.2"
  }
 },
 "nbformat": 4,
 "nbformat_minor": 2
}
