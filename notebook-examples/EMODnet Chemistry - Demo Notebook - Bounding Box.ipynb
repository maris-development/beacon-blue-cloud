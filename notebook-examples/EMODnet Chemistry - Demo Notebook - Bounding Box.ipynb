{
 "cells": [
  {
   "cell_type": "code",
   "execution_count": 1,
   "id": "5fcd7d51",
   "metadata": {},
   "outputs": [],
   "source": [
    "#This is a demonstration notebook that can be used to query the EMODnet Chemistry instance. \n",
    "#You can run the cells by pressing shift + enter\n",
    "#Please run the first few cells in order for the user input widgets to appear."
   ]
  },
  {
   "cell_type": "code",
   "execution_count": 2,
   "id": "3e46a5d0",
   "metadata": {},
   "outputs": [],
   "source": [
    "#Fill in your token that you have received via Blue-Cloud between the ''\n",
    "Token = ''"
   ]
  },
  {
   "cell_type": "code",
   "execution_count": 3,
   "id": "72bf04d1",
   "metadata": {},
   "outputs": [],
   "source": [
    "#Importing the required packages\n",
    "import requests\n",
    "import json\n",
    "import xarray as xr\n",
    "import datetime\n",
    "from ipywidgets import interact, widgets, interactive\n",
    "from IPython.display import Javascript, display\n",
    "import pandas as pd"
   ]
  },
  {
   "cell_type": "code",
   "execution_count": 4,
   "id": "06f65ec2",
   "metadata": {},
   "outputs": [],
   "source": [
    "#This retrieves the available parameters from the footprint.\n",
    "responseinfo = requests.get(\"https://beacon-emod-chem.maris.nl/api/datasets/footprint\", headers = {'Authorization' : f'Bearer {Token}'}) \n",
    "open('Footprint_emod_chem.json', 'wb').write(responseinfo.content)\n",
    "with open('Footprint_emod_chem.json', 'r') as f:\n",
    "    data = json.load(f)\n",
    "\n",
    "pd.set_option('display.max_rows', 500)\n",
    "attributes = pd.DataFrame.from_dict(data['unique_column_attributes'], orient='index')\n",
    "attributes.reset_index(level=0, inplace=True)\n",
    "attributes = attributes.sort_values('index', ascending=True, key=lambda col: col.str.lower())\n",
    "params = attributes['index'].to_numpy()"
   ]
  },
  {
   "cell_type": "code",
   "execution_count": 5,
   "id": "7b3899e2",
   "metadata": {},
   "outputs": [
    {
     "data": {
      "application/vnd.jupyter.widget-view+json": {
       "model_id": "6b349107dcd74470ba76813a8bf6d9a0",
       "version_major": 2,
       "version_minor": 0
      },
      "text/plain": [
       "interactive(children=(Dropdown(description='parameter', options=('Access_ordering_of_data', 'Access_restrictio…"
      ]
     },
     "metadata": {},
     "output_type": "display_data"
    },
    {
     "data": {
      "application/vnd.jupyter.widget-view+json": {
       "model_id": "4d81818b805e429e9d74201893796952",
       "version_major": 2,
       "version_minor": 0
      },
      "text/plain": [
       "Button(description='Create indicators', style=ButtonStyle())"
      ]
     },
     "metadata": {},
     "output_type": "display_data"
    },
    {
     "data": {
      "application/javascript": [
       "IPython.notebook.execute_cell_range(IPython.notebook.get_selected_index()+1, IPython.notebook.ncells())"
      ],
      "text/plain": [
       "<IPython.core.display.Javascript object>"
      ]
     },
     "metadata": {},
     "output_type": "display_data"
    },
    {
     "data": {
      "application/javascript": [
       "IPython.notebook.execute_cell_range(IPython.notebook.get_selected_index()+1, IPython.notebook.ncells())"
      ],
      "text/plain": [
       "<IPython.core.display.Javascript object>"
      ]
     },
     "metadata": {},
     "output_type": "display_data"
    },
    {
     "data": {
      "application/javascript": [
       "IPython.notebook.execute_cell_range(IPython.notebook.get_selected_index()+1, IPython.notebook.ncells())"
      ],
      "text/plain": [
       "<IPython.core.display.Javascript object>"
      ]
     },
     "metadata": {},
     "output_type": "display_data"
    },
    {
     "data": {
      "application/javascript": [
       "IPython.notebook.execute_cell_range(IPython.notebook.get_selected_index()+1, IPython.notebook.ncells())"
      ],
      "text/plain": [
       "<IPython.core.display.Javascript object>"
      ]
     },
     "metadata": {},
     "output_type": "display_data"
    },
    {
     "data": {
      "application/javascript": [
       "IPython.notebook.execute_cell_range(IPython.notebook.get_selected_index()+1, IPython.notebook.ncells())"
      ],
      "text/plain": [
       "<IPython.core.display.Javascript object>"
      ]
     },
     "metadata": {},
     "output_type": "display_data"
    }
   ],
   "source": [
    "#In the widgets below, please input your filters and then press \"Create indicators\" to run the notebook\n",
    "def f(parameter, minlon, maxlon, minlat, maxlat, mindepth, maxdepth, mintemp, maxtemp):\n",
    "    return parameter, minlon, maxlon, minlat, maxlat, mindepth, maxdepth, mintemp, maxtemp\n",
    "\n",
    "w = interactive(f, parameter = params, minlon = (-180, 180, 1), maxlon = (-180, 180, 1), minlat = (-90, 90, 1), maxlat = (-90, 90, 1), mindepth = widgets.IntSlider(min = 0, max = 5000, value = 0), maxdepth = widgets.IntSlider(min = 0, max = 5000, value = 10), mintemp = widgets.DatePicker(description='Start date:', value = datetime.date(2000, 1, 1)), maxtemp = widgets.DatePicker(description='End date:', value = datetime.date(2024, 1, 1)))\n",
    "\n",
    "display(w)\n",
    "\n",
    "def run_all(ev):\n",
    "    display(Javascript('IPython.notebook.execute_cell_range(IPython.notebook.get_selected_index()+1, IPython.notebook.ncells())'))\n",
    "\n",
    "button = widgets.Button(description = \"Create indicators\")\n",
    "button.on_click(run_all)\n",
    "display(button)"
   ]
  },
  {
   "cell_type": "code",
   "execution_count": 26,
   "id": "c3765293",
   "metadata": {},
   "outputs": [],
   "source": [
    "#Storing the chosen filters in the correct terms\n",
    "parameter = w.kwargs['parameter']\n",
    "mintemp = w.kwargs['mintemp']\n",
    "maxtemp = w.kwargs['maxtemp']\n",
    "minlon = w.kwargs['minlon']\n",
    "maxlon = w.kwargs['maxlon']\n",
    "minlat = w.kwargs['minlat']\n",
    "maxlat = w.kwargs['maxlat']\n",
    "mindepth = w.kwargs['mindepth']\n",
    "maxdepth = w.kwargs['maxdepth'] "
   ]
  },
  {
   "cell_type": "code",
   "execution_count": 27,
   "id": "73064a22",
   "metadata": {},
   "outputs": [],
   "source": [
    "#Fixed fields\n",
    "unit = attributes.loc[attributes['index'] == parameter]['units'].iloc[0]\n",
    "dateref = datetime.date(1921, 1, 1) #Days since 1921\n",
    "mintemporal = (mintemp - dateref).days #Days since 1921\n",
    "maxtemporal = (maxtemp - dateref).days #Days since 1921\n",
    "regionname = f'[{minlat},{minlon}],[{maxlat},{maxlon}]' "
   ]
  },
  {
   "cell_type": "code",
   "execution_count": 28,
   "id": "dfb995c5",
   "metadata": {},
   "outputs": [],
   "source": [
    "#Query body based on input fields\n",
    "#You can add other query_parameters and filters to suit your needs.\n",
    "def query(parameter, mintemporal, maxtemporal, mindepth, maxdepth, minlon, maxlon, minlat, maxlat):\n",
    "    body = {\n",
    "        \"query_parameters\": [\n",
    "            {\n",
    "                \"column_name\": parameter,\n",
    "                \"alias\": parameter\n",
    "            },\n",
    "            {\n",
    "                \"column_name\": \"date_time\",\n",
    "                \"alias\": \"TIME\"\n",
    "            },\n",
    "            {\n",
    "                \"column_name\": \"Depth\",\n",
    "                \"alias\": \"DEPTH\"\n",
    "            },\n",
    "            {\n",
    "                \"column_name\": \"longitude\",\n",
    "                \"alias\": \"LONGITUDE\"\n",
    "            },\n",
    "            {\n",
    "                \"column_name\": \"latitude\",\n",
    "                \"alias\": \"LATITUDE\"\n",
    "            }\n",
    "        ],\n",
    "        \"filters\": [\n",
    "            {\n",
    "              \"for_query_parameter\": \"TIME\",\n",
    "              \"min\": mintemporal,\n",
    "              \"max\": maxtemporal\n",
    "            },\n",
    "            {\n",
    "              \"for_query_parameter\": \"DEPTH\",\n",
    "              \"min\": mindepth,\n",
    "              \"max\": maxdepth\n",
    "            },\n",
    "            {\n",
    "              \"for_query_parameter\": \"LONGITUDE\",\n",
    "              \"min\": minlon,\n",
    "              \"max\": maxlon\n",
    "            },\n",
    "            {\n",
    "              \"for_query_parameter\": \"LATITUDE\",\n",
    "              \"min\": minlat,\n",
    "              \"max\": maxlat\n",
    "            }\n",
    "        ],\n",
    "        \"output\": {\n",
    "            \"format\": \"netcdf\"\n",
    "        }}\n",
    "    return body\n",
    "\n",
    "query = query(parameter, mintemporal, maxtemporal, mindepth, maxdepth, minlon, maxlon, minlat, maxlat)"
   ]
  },
  {
   "cell_type": "code",
   "execution_count": 29,
   "id": "349549b4",
   "metadata": {},
   "outputs": [],
   "source": [
    "#This is the post request that is sent to Beacon with the above specified body.\n",
    "response = requests.post(\"https://beacon-emod-chem.maris.nl/api/query\", json.dumps(query), headers = {\n",
    "    'Authorization' : f'Bearer {Token}',\n",
    "    'Content-type': 'application/json'\n",
    "})\n",
    "\n",
    "if response.status_code == 204:\n",
    "    print('No data has been found for your query, please update your input fields above and run the notebook again.')\n",
    "elif response.status_code != 200:\n",
    "    print(response.text)"
   ]
  },
  {
   "cell_type": "code",
   "execution_count": 30,
   "id": "3f2b39d1",
   "metadata": {},
   "outputs": [
    {
     "data": {
      "text/html": [
       "<div>\n",
       "<style scoped>\n",
       "    .dataframe tbody tr th:only-of-type {\n",
       "        vertical-align: middle;\n",
       "    }\n",
       "\n",
       "    .dataframe tbody tr th {\n",
       "        vertical-align: top;\n",
       "    }\n",
       "\n",
       "    .dataframe thead th {\n",
       "        text-align: right;\n",
       "    }\n",
       "</style>\n",
       "<table border=\"1\" class=\"dataframe\">\n",
       "  <thead>\n",
       "    <tr style=\"text-align: right;\">\n",
       "      <th></th>\n",
       "      <th>dataset_id</th>\n",
       "      <th>Water_body_nitrite</th>\n",
       "      <th>TIME</th>\n",
       "      <th>DEPTH</th>\n",
       "      <th>LONGITUDE</th>\n",
       "      <th>LATITUDE</th>\n",
       "    </tr>\n",
       "    <tr>\n",
       "      <th>INSTANCE</th>\n",
       "      <th></th>\n",
       "      <th></th>\n",
       "      <th></th>\n",
       "      <th></th>\n",
       "      <th></th>\n",
       "      <th></th>\n",
       "    </tr>\n",
       "  </thead>\n",
       "  <tbody>\n",
       "    <tr>\n",
       "      <th>0</th>\n",
       "      <td>387684</td>\n",
       "      <td>0.0</td>\n",
       "      <td>32439.498912</td>\n",
       "      <td>3.0</td>\n",
       "      <td>-2.248810</td>\n",
       "      <td>43.496960</td>\n",
       "    </tr>\n",
       "    <tr>\n",
       "      <th>1</th>\n",
       "      <td>196722</td>\n",
       "      <td>0.0</td>\n",
       "      <td>31240.050602</td>\n",
       "      <td>3.0</td>\n",
       "      <td>-10.338013</td>\n",
       "      <td>43.016178</td>\n",
       "    </tr>\n",
       "    <tr>\n",
       "      <th>2</th>\n",
       "      <td>259528</td>\n",
       "      <td>0.0</td>\n",
       "      <td>31539.109734</td>\n",
       "      <td>3.0</td>\n",
       "      <td>-5.372894</td>\n",
       "      <td>43.624359</td>\n",
       "    </tr>\n",
       "    <tr>\n",
       "      <th>3</th>\n",
       "      <td>294193</td>\n",
       "      <td>0.0</td>\n",
       "      <td>32760.305972</td>\n",
       "      <td>3.0</td>\n",
       "      <td>-12.758606</td>\n",
       "      <td>43.001598</td>\n",
       "    </tr>\n",
       "    <tr>\n",
       "      <th>4</th>\n",
       "      <td>308172</td>\n",
       "      <td>0.0</td>\n",
       "      <td>31880.639398</td>\n",
       "      <td>3.0</td>\n",
       "      <td>-3.749512</td>\n",
       "      <td>43.489979</td>\n",
       "    </tr>\n",
       "    <tr>\n",
       "      <th>...</th>\n",
       "      <td>...</td>\n",
       "      <td>...</td>\n",
       "      <td>...</td>\n",
       "      <td>...</td>\n",
       "      <td>...</td>\n",
       "      <td>...</td>\n",
       "    </tr>\n",
       "    <tr>\n",
       "      <th>99344</th>\n",
       "      <td>38409</td>\n",
       "      <td>0.0</td>\n",
       "      <td>31691.854861</td>\n",
       "      <td>5.0</td>\n",
       "      <td>-12.697113</td>\n",
       "      <td>43.101002</td>\n",
       "    </tr>\n",
       "    <tr>\n",
       "      <th>99345</th>\n",
       "      <td>282226</td>\n",
       "      <td>0.0</td>\n",
       "      <td>32338.577743</td>\n",
       "      <td>3.0</td>\n",
       "      <td>-5.254211</td>\n",
       "      <td>44.025600</td>\n",
       "    </tr>\n",
       "    <tr>\n",
       "      <th>99346</th>\n",
       "      <td>331433</td>\n",
       "      <td>0.0</td>\n",
       "      <td>32349.044699</td>\n",
       "      <td>3.0</td>\n",
       "      <td>-6.994904</td>\n",
       "      <td>43.864140</td>\n",
       "    </tr>\n",
       "    <tr>\n",
       "      <th>99347</th>\n",
       "      <td>255242</td>\n",
       "      <td>0.0</td>\n",
       "      <td>32555.976632</td>\n",
       "      <td>3.0</td>\n",
       "      <td>-6.762482</td>\n",
       "      <td>43.743439</td>\n",
       "    </tr>\n",
       "    <tr>\n",
       "      <th>99348</th>\n",
       "      <td>333949</td>\n",
       "      <td>0.0</td>\n",
       "      <td>31887.473507</td>\n",
       "      <td>3.0</td>\n",
       "      <td>-1.902100</td>\n",
       "      <td>44.216259</td>\n",
       "    </tr>\n",
       "  </tbody>\n",
       "</table>\n",
       "<p>99349 rows × 6 columns</p>\n",
       "</div>"
      ],
      "text/plain": [
       "          dataset_id  Water_body_nitrite          TIME  DEPTH  LONGITUDE  \\\n",
       "INSTANCE                                                                   \n",
       "0             387684                 0.0  32439.498912    3.0  -2.248810   \n",
       "1             196722                 0.0  31240.050602    3.0 -10.338013   \n",
       "2             259528                 0.0  31539.109734    3.0  -5.372894   \n",
       "3             294193                 0.0  32760.305972    3.0 -12.758606   \n",
       "4             308172                 0.0  31880.639398    3.0  -3.749512   \n",
       "...              ...                 ...           ...    ...        ...   \n",
       "99344          38409                 0.0  31691.854861    5.0 -12.697113   \n",
       "99345         282226                 0.0  32338.577743    3.0  -5.254211   \n",
       "99346         331433                 0.0  32349.044699    3.0  -6.994904   \n",
       "99347         255242                 0.0  32555.976632    3.0  -6.762482   \n",
       "99348         333949                 0.0  31887.473507    3.0  -1.902100   \n",
       "\n",
       "           LATITUDE  \n",
       "INSTANCE             \n",
       "0         43.496960  \n",
       "1         43.016178  \n",
       "2         43.624359  \n",
       "3         43.001598  \n",
       "4         43.489979  \n",
       "...             ...  \n",
       "99344     43.101002  \n",
       "99345     44.025600  \n",
       "99346     43.864140  \n",
       "99347     43.743439  \n",
       "99348     44.216259  \n",
       "\n",
       "[99349 rows x 6 columns]"
      ]
     },
     "execution_count": 30,
     "metadata": {},
     "output_type": "execute_result"
    }
   ],
   "source": [
    "#It will create a Netcdf file in your directory with the name based on your filters.\n",
    "#Output is shown here in a dataframe\n",
    "open(f'EMODNET_CHEM_{parameter}_{regionname}_{mintemp.strftime(\"%Y-%m-%d\")}-{maxtemp.strftime(\"%Y-%m-%d\")}_[{mindepth}-{maxdepth}m].nc', 'wb').write(response.content)\n",
    "df = xr.open_dataset(f'EMODNET_CHEM_{parameter}_{regionname}_{mintemp.strftime(\"%Y-%m-%d\")}-{maxtemp.strftime(\"%Y-%m-%d\")}_[{mindepth}-{maxdepth}m].nc').to_dataframe()\n",
    "df"
   ]
  },
  {
   "cell_type": "code",
   "execution_count": 31,
   "id": "5c1e3792",
   "metadata": {},
   "outputs": [
    {
     "data": {
      "image/png": "[encoded data removed]",
      "text/plain": [
       "<Figure size 2088x1368 with 2 Axes>"
      ]
     },
     "metadata": {
      "needs_background": "light"
     },
     "output_type": "display_data"
    }
   ],
   "source": [
    "#Plotting of results, if there are alot of measurements, it may take quite some time (+-5 min)\n",
    "import matplotlib.pyplot as plt\n",
    "from mpl_toolkits.basemap import Basemap\n",
    "from mpl_toolkits.axes_grid1 import make_axes_locatable\n",
    "fig = plt.figure(1, figsize = (29, 19))\n",
    "\n",
    "# Creating Basemap\n",
    "m = Basemap(projection = 'cyl', llcrnrlon = minlon, llcrnrlat = minlat, urcrnrlon = maxlon, urcrnrlat = maxlat, resolution = 'c') \n",
    "m.drawlsmask(land_color = 'Linen', ocean_color = '#CCFFFF'); # can use HTML names or codes for colors\n",
    "m.drawcoastlines()\n",
    "m.drawcountries()\n",
    "\n",
    "# Plot points\n",
    "sc = m.scatter(df['LONGITUDE'], df['LATITUDE'], latlon = True, c = df[f'{parameter}'], cmap = plt.cm.jet)\n",
    "\n",
    "plt.title(f'EMODNET_CHEM_ {parameter} {regionname} {mintemp.strftime(\"%Y-%m-%d\")}-{maxtemp.strftime(\"%Y-%m-%d\")} [{mindepth}-{maxdepth}m] #Points = {len(df)}', fontsize = 25)\n",
    "\n",
    "# Colorbar positioning\n",
    "ax = plt.gca()\n",
    "divider = make_axes_locatable(ax)\n",
    "cax = divider.append_axes(\"right\", size = \"5%\", pad = 0.05)\n",
    "plt.colorbar(sc, cax = cax, label = f'{parameter} [unit]');"
   ]
  }
 ],
 "metadata": {
  "kernelspec": {
   "display_name": "Python 3 (ipykernel)",
   "language": "python",
   "name": "python3"
  },
  "language_info": {
   "codemirror_mode": {
    "name": "ipython",
    "version": 3
   },
   "file_extension": ".py",
   "mimetype": "text/x-python",
   "name": "python",
   "nbconvert_exporter": "python",
   "pygments_lexer": "ipython3",
   "version": "3.9.7"
  }
 },
 "nbformat": 4,
 "nbformat_minor": 5
}
